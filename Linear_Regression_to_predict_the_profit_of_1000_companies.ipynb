{
  "cells": [
    {
      "cell_type": "markdown",
      "metadata": {
        "id": "view-in-github",
        "colab_type": "text"
      },
      "source": [
        "<a href=\"https://colab.research.google.com/github/roapple10/Python-learning-note/blob/main/Linear_Regression_to_predict_the_profit_of_1000_companies.ipynb\" target=\"_parent\"><img src=\"https://colab.research.google.com/assets/colab-badge.svg\" alt=\"Open In Colab\"/></a>"
      ]
    },
    {
      "cell_type": "code",
      "execution_count": null,
      "metadata": {
        "id": "7eSILbI-mcNr"
      },
      "outputs": [],
      "source": [
        "# Importing the libraries\n",
        "import numpy as np\n",
        "import matplotlib.pyplot as plt\n",
        "import pandas as pd\n",
        "import seaborn as sns\n",
        "%matplotlib inline"
      ]
    },
    {
      "cell_type": "code",
      "execution_count": null,
      "metadata": {
        "id": "Zl9yIxcRmcNu",
        "outputId": "c04fbc02-af2d-4f52-dd0a-2b0792c16841"
      },
      "outputs": [
        {
          "data": {
            "text/html": [
              "<div>\n",
              "<style scoped>\n",
              "    .dataframe tbody tr th:only-of-type {\n",
              "        vertical-align: middle;\n",
              "    }\n",
              "\n",
              "    .dataframe tbody tr th {\n",
              "        vertical-align: top;\n",
              "    }\n",
              "\n",
              "    .dataframe thead th {\n",
              "        text-align: right;\n",
              "    }\n",
              "</style>\n",
              "<table border=\"1\" class=\"dataframe\">\n",
              "  <thead>\n",
              "    <tr style=\"text-align: right;\">\n",
              "      <th></th>\n",
              "      <th>R&amp;D Spend</th>\n",
              "      <th>Administration</th>\n",
              "      <th>Marketing Spend</th>\n",
              "      <th>State_California</th>\n",
              "      <th>State_Florida</th>\n",
              "      <th>State_New York</th>\n",
              "    </tr>\n",
              "  </thead>\n",
              "  <tbody>\n",
              "    <tr>\n",
              "      <th>0</th>\n",
              "      <td>165349.20</td>\n",
              "      <td>136897.800</td>\n",
              "      <td>471784.1000</td>\n",
              "      <td>0</td>\n",
              "      <td>0</td>\n",
              "      <td>1</td>\n",
              "    </tr>\n",
              "    <tr>\n",
              "      <th>1</th>\n",
              "      <td>162597.70</td>\n",
              "      <td>151377.590</td>\n",
              "      <td>443898.5300</td>\n",
              "      <td>1</td>\n",
              "      <td>0</td>\n",
              "      <td>0</td>\n",
              "    </tr>\n",
              "    <tr>\n",
              "      <th>2</th>\n",
              "      <td>153441.51</td>\n",
              "      <td>101145.550</td>\n",
              "      <td>407934.5400</td>\n",
              "      <td>0</td>\n",
              "      <td>1</td>\n",
              "      <td>0</td>\n",
              "    </tr>\n",
              "    <tr>\n",
              "      <th>3</th>\n",
              "      <td>144372.41</td>\n",
              "      <td>118671.850</td>\n",
              "      <td>383199.6200</td>\n",
              "      <td>0</td>\n",
              "      <td>0</td>\n",
              "      <td>1</td>\n",
              "    </tr>\n",
              "    <tr>\n",
              "      <th>4</th>\n",
              "      <td>142107.34</td>\n",
              "      <td>91391.770</td>\n",
              "      <td>366168.4200</td>\n",
              "      <td>0</td>\n",
              "      <td>1</td>\n",
              "      <td>0</td>\n",
              "    </tr>\n",
              "    <tr>\n",
              "      <th>...</th>\n",
              "      <td>...</td>\n",
              "      <td>...</td>\n",
              "      <td>...</td>\n",
              "      <td>...</td>\n",
              "      <td>...</td>\n",
              "      <td>...</td>\n",
              "    </tr>\n",
              "    <tr>\n",
              "      <th>995</th>\n",
              "      <td>54135.00</td>\n",
              "      <td>118451.999</td>\n",
              "      <td>173232.6695</td>\n",
              "      <td>1</td>\n",
              "      <td>0</td>\n",
              "      <td>0</td>\n",
              "    </tr>\n",
              "    <tr>\n",
              "      <th>996</th>\n",
              "      <td>134970.00</td>\n",
              "      <td>130390.080</td>\n",
              "      <td>329204.0228</td>\n",
              "      <td>1</td>\n",
              "      <td>0</td>\n",
              "      <td>0</td>\n",
              "    </tr>\n",
              "    <tr>\n",
              "      <th>997</th>\n",
              "      <td>100275.47</td>\n",
              "      <td>241926.310</td>\n",
              "      <td>227142.8200</td>\n",
              "      <td>1</td>\n",
              "      <td>0</td>\n",
              "      <td>0</td>\n",
              "    </tr>\n",
              "    <tr>\n",
              "      <th>998</th>\n",
              "      <td>128456.23</td>\n",
              "      <td>321652.140</td>\n",
              "      <td>281692.3200</td>\n",
              "      <td>1</td>\n",
              "      <td>0</td>\n",
              "      <td>0</td>\n",
              "    </tr>\n",
              "    <tr>\n",
              "      <th>999</th>\n",
              "      <td>161181.72</td>\n",
              "      <td>270939.860</td>\n",
              "      <td>295442.1700</td>\n",
              "      <td>0</td>\n",
              "      <td>0</td>\n",
              "      <td>1</td>\n",
              "    </tr>\n",
              "  </tbody>\n",
              "</table>\n",
              "<p>1000 rows × 6 columns</p>\n",
              "</div>"
            ],
            "text/plain": [
              "     R&D Spend  Administration  Marketing Spend  State_California  \\\n",
              "0    165349.20      136897.800      471784.1000                 0   \n",
              "1    162597.70      151377.590      443898.5300                 1   \n",
              "2    153441.51      101145.550      407934.5400                 0   \n",
              "3    144372.41      118671.850      383199.6200                 0   \n",
              "4    142107.34       91391.770      366168.4200                 0   \n",
              "..         ...             ...              ...               ...   \n",
              "995   54135.00      118451.999      173232.6695                 1   \n",
              "996  134970.00      130390.080      329204.0228                 1   \n",
              "997  100275.47      241926.310      227142.8200                 1   \n",
              "998  128456.23      321652.140      281692.3200                 1   \n",
              "999  161181.72      270939.860      295442.1700                 0   \n",
              "\n",
              "     State_Florida  State_New York  \n",
              "0                0               1  \n",
              "1                0               0  \n",
              "2                1               0  \n",
              "3                0               1  \n",
              "4                1               0  \n",
              "..             ...             ...  \n",
              "995              0               0  \n",
              "996              0               0  \n",
              "997              0               0  \n",
              "998              0               0  \n",
              "999              0               1  \n",
              "\n",
              "[1000 rows x 6 columns]"
            ]
          },
          "execution_count": 78,
          "metadata": {},
          "output_type": "execute_result"
        }
      ],
      "source": [
        "# Importing the dataset and Extracting the Independent and Dependent variables\n",
        "companies = pd.read_csv('1000_Companies.csv')\n",
        "y = companies.iloc[:, 4].values\n",
        "\n",
        "X = pd.get_dummies(companies.iloc[:, :-1])\n",
        "X\n"
      ]
    },
    {
      "cell_type": "code",
      "execution_count": null,
      "metadata": {
        "id": "HRHCTjFomcNv",
        "outputId": "505da12f-9a28-41f6-ebe5-c096a4733fae"
      },
      "outputs": [
        {
          "data": {
            "text/html": [
              "<div>\n",
              "<style scoped>\n",
              "    .dataframe tbody tr th:only-of-type {\n",
              "        vertical-align: middle;\n",
              "    }\n",
              "\n",
              "    .dataframe tbody tr th {\n",
              "        vertical-align: top;\n",
              "    }\n",
              "\n",
              "    .dataframe thead th {\n",
              "        text-align: right;\n",
              "    }\n",
              "</style>\n",
              "<table border=\"1\" class=\"dataframe\">\n",
              "  <thead>\n",
              "    <tr style=\"text-align: right;\">\n",
              "      <th></th>\n",
              "      <th>R&amp;D Spend</th>\n",
              "      <th>Administration</th>\n",
              "      <th>Marketing Spend</th>\n",
              "      <th>State</th>\n",
              "      <th>Profit</th>\n",
              "    </tr>\n",
              "  </thead>\n",
              "  <tbody>\n",
              "    <tr>\n",
              "      <th>0</th>\n",
              "      <td>165349.20</td>\n",
              "      <td>136897.80</td>\n",
              "      <td>471784.10</td>\n",
              "      <td>New York</td>\n",
              "      <td>192261.83</td>\n",
              "    </tr>\n",
              "    <tr>\n",
              "      <th>1</th>\n",
              "      <td>162597.70</td>\n",
              "      <td>151377.59</td>\n",
              "      <td>443898.53</td>\n",
              "      <td>California</td>\n",
              "      <td>191792.06</td>\n",
              "    </tr>\n",
              "    <tr>\n",
              "      <th>2</th>\n",
              "      <td>153441.51</td>\n",
              "      <td>101145.55</td>\n",
              "      <td>407934.54</td>\n",
              "      <td>Florida</td>\n",
              "      <td>191050.39</td>\n",
              "    </tr>\n",
              "    <tr>\n",
              "      <th>3</th>\n",
              "      <td>144372.41</td>\n",
              "      <td>118671.85</td>\n",
              "      <td>383199.62</td>\n",
              "      <td>New York</td>\n",
              "      <td>182901.99</td>\n",
              "    </tr>\n",
              "    <tr>\n",
              "      <th>4</th>\n",
              "      <td>142107.34</td>\n",
              "      <td>91391.77</td>\n",
              "      <td>366168.42</td>\n",
              "      <td>Florida</td>\n",
              "      <td>166187.94</td>\n",
              "    </tr>\n",
              "  </tbody>\n",
              "</table>\n",
              "</div>"
            ],
            "text/plain": [
              "   R&D Spend  Administration  Marketing Spend       State     Profit\n",
              "0  165349.20       136897.80        471784.10    New York  192261.83\n",
              "1  162597.70       151377.59        443898.53  California  191792.06\n",
              "2  153441.51       101145.55        407934.54     Florida  191050.39\n",
              "3  144372.41       118671.85        383199.62    New York  182901.99\n",
              "4  142107.34        91391.77        366168.42     Florida  166187.94"
            ]
          },
          "execution_count": 79,
          "metadata": {},
          "output_type": "execute_result"
        }
      ],
      "source": [
        "companies.head()"
      ]
    },
    {
      "cell_type": "code",
      "execution_count": null,
      "metadata": {
        "id": "BDwqYkNMmcNw",
        "outputId": "2de69ca0-c1d2-47a2-9498-f2b9e4783093"
      },
      "outputs": [
        {
          "data": {
            "text/plain": [
              "<AxesSubplot:>"
            ]
          },
          "execution_count": 80,
          "metadata": {},
          "output_type": "execute_result"
        },
        {
          "data": {
            "image/png": "[encoded data removed]",
            "text/plain": [
              "<Figure size 432x288 with 2 Axes>"
            ]
          },
          "metadata": {
            "needs_background": "light"
          },
          "output_type": "display_data"
        }
      ],
      "source": [
        "# Data Visualisation\n",
        "# Building the Correlation matrix\n",
        "sns.heatmap(companies.corr())"
      ]
    },
    {
      "cell_type": "code",
      "execution_count": null,
      "metadata": {
        "id": "Eb7VhMYzmcNw"
      },
      "outputs": [],
      "source": [
        "# Encoding categorical data\n",
        "#from sklearn.preprocessing import LabelEncoder, OneHotEncoder\n",
        "#labelencoder = LabelEncoder()\n",
        "#X[:, 3] = labelencoder.fit_transform(X[:, 3]) #state\n",
        "#onehotencoder = OneHotEncoder(categorical_features = [3])\n",
        "#onehotencoder = OneHotEncoder(categories='auto')\n",
        "#X = onehotencoder.fit_transform(X).toarray()\n",
        "# Avoiding the Dummy Variable Trap\n",
        "#X = X[:, 1:]"
      ]
    },
    {
      "cell_type": "code",
      "execution_count": null,
      "metadata": {
        "id": "UKiXMZoRmcNx"
      },
      "outputs": [],
      "source": [
        "# Splitting the dataset into the Training set and Test set\n",
        "from sklearn.model_selection import train_test_split\n",
        "X_train, X_test, y_train, y_test = train_test_split(X, y, test_size = 0.2, random_state = 30)"
      ]
    },
    {
      "cell_type": "code",
      "execution_count": null,
      "metadata": {
        "id": "WR8pG7qFmcNx",
        "outputId": "df2f88a6-75ef-4703-fa32-2d6425994f1f"
      },
      "outputs": [
        {
          "data": {
            "text/plain": [
              "LinearRegression(copy_X=True, fit_intercept=True, n_jobs=None, normalize=False)"
            ]
          },
          "execution_count": 94,
          "metadata": {},
          "output_type": "execute_result"
        }
      ],
      "source": [
        "# Fitting Multiple Linear Regression to the Training set\n",
        "from sklearn.linear_model import LinearRegression\n",
        "regressor = LinearRegression()\n",
        "regressor.fit(X_train, y_train)"
      ]
    },
    {
      "cell_type": "code",
      "execution_count": null,
      "metadata": {
        "id": "DmQDECuamcNy",
        "outputId": "099ad778-e461-4c7d-a608-8086cfb2add4"
      },
      "outputs": [
        {
          "data": {
            "text/plain": [
              "array([ 93778.52855584,  96791.92701195, 136306.03970916, 103229.62221131,\n",
              "        61488.39956343,  70372.15640544,  53951.44204804, 154782.10443185,\n",
              "        80022.47373426, 168451.26344486,  91128.22756079, 160363.03214775,\n",
              "       116949.92683909, 114670.49710844, 101170.78393178,  77145.81206512,\n",
              "       128962.24791419, 161248.15565012, 124785.54599662, 160254.16591951,\n",
              "       165374.68928316, 131667.37939921, 161668.75060253, 162885.0478457 ,\n",
              "        94188.56161417, 109654.6897425 ,  82404.77680277, 145591.14917271,\n",
              "       150031.62787453, 150377.97338465, 185101.77406828, 109710.07671309,\n",
              "       143741.91983367,  86717.55296975,  58321.33595586,  79730.62371578,\n",
              "       173922.25648486, 162148.14241453, 128833.12323526, 125244.01647081,\n",
              "       111306.6029038 ,  95256.66890678,  72375.78444212, 169212.63152488,\n",
              "       141250.1938311 , 101135.09869817,  51261.04885431,  78380.94561488,\n",
              "       181625.57804741, 120086.10316998,  83395.19894857, 172160.25785193,\n",
              "       185294.27746218,  76439.62794631, 121464.05752237, 113200.80812296,\n",
              "       155872.53584058, 165463.82770223, 108060.58301444, 200529.39841572,\n",
              "       117769.74908269, 157230.72423606, 112224.12683965, 153810.05907234,\n",
              "       143299.68935126,  56489.92680516,  95610.24654686, 184156.07106647,\n",
              "       106349.46742513, 128809.553928  ,  59441.88021648,  94503.57513847,\n",
              "       176947.28517404, 110384.24025998, 109606.04931725, 141873.47432649,\n",
              "       158904.79665972,  75785.16615216, 105260.56399222,  64661.90098548,\n",
              "       177539.05673067, 127452.08709211, 181180.54834947, 120438.32978717,\n",
              "       129554.88501775, 143095.44978389, 184375.8882046 , 101241.7485818 ,\n",
              "        99552.62221106, 118773.46142635, 160881.21679964, 186583.57897224,\n",
              "        93028.03110234,  70380.98741511, 159734.53307496, 161985.00931799,\n",
              "        79446.10289624,  81443.29322868,  60247.38489714, 157877.54106524,\n",
              "        55767.29968676, 151924.10221714,  66118.60872289, 162843.50767012,\n",
              "       139554.14417152, 100641.14589897, 138156.10832925,  65820.21504403,\n",
              "       107982.51823129, 118274.97852719, 147802.96401366,  99467.63402253,\n",
              "       100105.44979826,  54660.60222509, 141605.01677098, 132302.77668958,\n",
              "       182087.51028256,  83619.82886266, 120810.66406721,  60335.65788424,\n",
              "       157424.06010263,  20618.16304544, 178034.0779854 , 178677.95172037,\n",
              "       169606.77828   ,  75230.8106978 ,  84352.84102457, 165823.84316308,\n",
              "       156883.17158962, 171459.46927134, 185909.21252463, 103062.77268978,\n",
              "       163822.78515958,  93691.60658217, 155134.33115771, 180003.57482861,\n",
              "       145350.73879501,  51904.05726202, 141836.2612336 , 171608.98428912,\n",
              "       111826.89817724, 124046.65271976,  59479.95885788, 186342.30314839,\n",
              "       181829.12892   , 146475.61013753,  68366.10889036, 136959.43305566,\n",
              "       107214.68616538,  52376.83821084, 128626.28745387, 169954.6778145 ,\n",
              "       150698.86801604, 126653.30280114,  58705.20339762,  67568.36688982,\n",
              "        63028.18775831,  97373.97595554, 174305.63834438,  92388.48455874,\n",
              "        94419.62924037, 180747.83747859, 152767.2259071 , 136770.56815046,\n",
              "       167577.12818956,  42796.71632059,  84551.22553342,  78474.89680991,\n",
              "       161317.38931494,  83428.77366142, 116156.42619437,  83375.11745083,\n",
              "       181558.25200263,  76323.83821189,  72976.87270956,  60393.15559528,\n",
              "        89229.49235823, 138793.05866671, 166132.11013417, 158541.31956232,\n",
              "        56354.71810741, 136988.85742143, 167522.84283392, 135375.7113774 ,\n",
              "       138969.60474484, 167973.55063743, 125097.09776784, 132751.06414606,\n",
              "        74127.39793233, 169973.54018541,  99390.61151406,  98546.82540309,\n",
              "       128012.70352296,  68567.06355679, 127600.93958021, 145119.67117668,\n",
              "        91804.50172135, 139561.75616301, 117074.81545195,  62868.26163429])"
            ]
          },
          "execution_count": 95,
          "metadata": {},
          "output_type": "execute_result"
        }
      ],
      "source": [
        "# Predicting the Test set results\n",
        "y_pred = regressor.predict(X_test)\n",
        "y_pred"
      ]
    },
    {
      "cell_type": "code",
      "execution_count": null,
      "metadata": {
        "id": "H9N-vcVimcNz",
        "outputId": "9dda32cf-167a-4c3a-f056-2d4fdb1b5c43"
      },
      "outputs": [
        {
          "name": "stdout",
          "output_type": "stream",
          "text": [
            "[ 5.52993844e-01  1.08665448e+00  7.87486715e-02  2.33095626e+02\n",
            " -5.21755075e+02  2.88659449e+02]\n"
          ]
        }
      ],
      "source": [
        "# Calculating the Coefficients\n",
        "print(regressor.coef_)"
      ]
    },
    {
      "cell_type": "code",
      "execution_count": null,
      "metadata": {
        "id": "_olUh10FmcN0",
        "outputId": "e5f86184-6048-4184-8f5d-e3ab99070916"
      },
      "outputs": [
        {
          "name": "stdout",
          "output_type": "stream",
          "text": [
            "-77109.328982063\n"
          ]
        }
      ],
      "source": [
        "# Calculating the Intercept\n",
        "print(regressor.intercept_)"
      ]
    },
    {
      "cell_type": "code",
      "execution_count": null,
      "metadata": {
        "id": "KJsx2CNFmcN0",
        "outputId": "af6241e6-53c0-447d-eb9e-70644d0dc3ee"
      },
      "outputs": [
        {
          "data": {
            "text/plain": [
              "0.9703077302505063"
            ]
          },
          "execution_count": 98,
          "metadata": {},
          "output_type": "execute_result"
        }
      ],
      "source": [
        "# Calculating the R squared value\n",
        "from sklearn.metrics import r2_score\n",
        "r2_score(y_test, y_pred)"
      ]
    },
    {
      "cell_type": "code",
      "execution_count": null,
      "metadata": {
        "id": "MT-JOpkZmcN1"
      },
      "outputs": [],
      "source": [
        ""
      ]
    },
    {
      "cell_type": "code",
      "execution_count": null,
      "metadata": {
        "id": "gayziATgmcN1"
      },
      "outputs": [],
      "source": [
        ""
      ]
    }
  ],
  "metadata": {
    "kernelspec": {
      "display_name": "Python 3",
      "language": "python",
      "name": "python3"
    },
    "language_info": {
      "codemirror_mode": {
        "name": "ipython",
        "version": 3
      },
      "file_extension": ".py",
      "mimetype": "text/x-python",
      "name": "python",
      "nbconvert_exporter": "python",
      "pygments_lexer": "ipython3",
      "version": "3.8.5"
    },
    "colab": {
      "name": "Linear_Regression to predict the profit of 1000 companies.ipynb",
      "provenance": [],
      "include_colab_link": true
    }
  },
  "nbformat": 4,
  "nbformat_minor": 0
}