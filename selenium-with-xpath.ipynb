{
 "cells": [
  {
   "cell_type": "markdown",
   "metadata": {},
   "source": [
    "## selenium 與 IMDB"
   ]
  },
  {
   "cell_type": "code",
   "execution_count": 1,
   "metadata": {},
   "outputs": [],
   "source": [
    "from selenium import webdriver\n",
    "\n",
    "chrome_driver_path = \"chromedriver\"\n",
    "# chrome_driver_path = \"c:/Users/USERNAME/Downloads/chromedriver.exe\"\n",
    "driver = webdriver.Chrome(executable_path=chrome_driver_path)"
   ]
  },
  {
   "cell_type": "code",
   "execution_count": 8,
   "metadata": {},
   "outputs": [],
   "source": [
    "movie_url = \"https://www.imdb.com/title/tt5540054/?ref_=ttls_li_tt\"\n",
    "driver.get(movie_url)"
   ]
  },
  {
   "cell_type": "code",
   "execution_count": 9,
   "metadata": {
    "scrolled": true
   },
   "outputs": [
    {
     "name": "stdout",
     "output_type": "stream",
     "text": [
      "7.4\n"
     ]
    },
    {
     "name": "stderr",
     "output_type": "stream",
     "text": [
      "C:\\Users\\Raylin\\AppData\\Local\\Temp/ipykernel_13520/1811552733.py:5: DeprecationWarning: find_element_by_* commands are deprecated. Please use find_element() instead\n",
      "  elem = driver.find_element_by_xpath(rating_xpath)\n"
     ]
    }
   ],
   "source": [
    "rating_xpath = \"/html[@class=' scriptsOn']/body/div[@id='__next']/main[@class='ipc-page-wrapper ipc-page-wrapper--base']/div[@class='ipc-page-content-container ipc-page-content-container--full BaseLayout__NextPageContentContainer-sc-180q5jf-0 fWxmdE']/section[@class='ipc-page-background ipc-page-background--base TitlePage__StyledPageBackground-wzlr49-0 dDUGgO']/section[@class='ipc-page-background ipc-page-background--baseAlt TitleMainHeroGroup__StyledPageBackground-w70azj-0 hEHQFC']/div[@class='ipc-page-content-container ipc-page-content-container--center'][2]/section[@class='ipc-page-background ipc-page-background--baseAlt Hero__StyledPageBackground-kvkd64-0 dxionP']/section[@class='ipc-page-section ipc-page-section--baseAlt ipc-page-section--tp-xs ipc-page-section--bp-xs Hero__HeroParent-kvkd64-1 fARFJI']/div[@class='TitleBlock__Container-sc-1nlhx7j-0 hglRHk']/div[@class='RatingBar__RatingContainer-sc-85l9wd-0 hNqCJh TitleBlock__HideableRatingBar-sc-1nlhx7j-4 bhTVMj']/div[@class='RatingBar__ButtonContainer-sc-85l9wd-1 idYUsR']/div[@class='RatingBarButtonBase__ContentWrap-sc-15v8ssr-0 jQXoLQ rating-bar__base-button'][1]/a[@class='ipc-button ipc-button--single-padding ipc-button--center-align-content ipc-button--default-height ipc-button--core-baseAlt ipc-button--theme-baseAlt ipc-button--on-textPrimary ipc-text-button RatingBarButtonBase__Button-sc-15v8ssr-2 jjcqHZ']/div[@class='ipc-button__text']/div[@class='RatingBarButtonBase__ButtonContentWrap-sc-15v8ssr-3 jodtvN']/div[@class='AggregateRatingButton__ContentWrap-sc-1ll29m0-0 hmJkIS']/div[@class='AggregateRatingButton__Rating-sc-1ll29m0-2 bmbYRW']/span[@class='AggregateRatingButton__RatingScore-sc-1ll29m0-1 iTLWoV']\"\n",
    "cast_xpath = \"/html[@class=' scriptsOn']/body/div[@id='__next']/main[@class='ipc-page-wrapper ipc-page-wrapper--base']/div[@class='ipc-page-content-container ipc-page-content-container--full BaseLayout__NextPageContentContainer-sc-180q5jf-0 fWxmdE']/section[@class='ipc-page-background ipc-page-background--base TitlePage__StyledPageBackground-wzlr49-0 dDUGgO']/div[@class='ipc-page-content-container ipc-page-content-container--center']/section[@class='ipc-page-background ipc-page-background--base TitleMainBelowTheFoldGroup__RelativePageBackground-sc-1vpywau-0 kcYXNj']/div[@class='ipc-page-grid ipc-page-grid--bias-left']/div[@class='TitleMainBelowTheFoldGroup__TitleMainPrimaryGroup-sc-1vpywau-1 btXiqv ipc-page-grid__item ipc-page-grid__item--span-2']/section[@class='ipc-page-section ipc-page-section--base StyledComponents__CastSection-y9ygcu-0 fswvJC celwidget']/div[@class='ipc-shoveler title-cast__grid']/div[@class='ipc-sub-grid ipc-sub-grid--page-span-2 ipc-sub-grid--wraps-at-above-l ipc-shoveler__grid']/div[@class='StyledComponents__CastItemWrapper-y9ygcu-7 hTEaNu']/div[@class='StyledComponents__CastItemSummary-y9ygcu-9 fBAofn']/a[@class='StyledComponents__ActorName-y9ygcu-1 eyqFnv']\"\n",
    "genre_xpath = \"/html[@class=' scriptsOn']/body/div[@id='__next']/main[@class='ipc-page-wrapper ipc-page-wrapper--base']/div[@class='ipc-page-content-container ipc-page-content-container--full BaseLayout__NextPageContentContainer-sc-180q5jf-0 fWxmdE']/section[@class='ipc-page-background ipc-page-background--base TitlePage__StyledPageBackground-wzlr49-0 dDUGgO']/section[@class='ipc-page-background ipc-page-background--baseAlt TitleMainHeroGroup__StyledPageBackground-w70azj-0 hEHQFC']/div[@class='ipc-page-content-container ipc-page-content-container--center'][2]/section[@class='ipc-page-background ipc-page-background--baseAlt Hero__StyledPageBackground-kvkd64-0 dxionP']/section[@class='ipc-page-section ipc-page-section--baseAlt ipc-page-section--tp-xs ipc-page-section--bp-xs Hero__HeroParent-kvkd64-1 fARFJI']/div[@class='Hero__MediaContentContainer__Video-kvkd64-2 kmTkgc']/div[@class='Hero__ContentContainer-kvkd64-10 eaUohq']/div[@class='Hero__MetaContainer__Video-kvkd64-4 kNqsIK']/div[@class='GenresAndPlot__ContentParent-cum89p-8 bFvaWW Hero__GenresAndPlotContainer-kvkd64-11 twqaW']/div[@class='ipc-chip-list GenresAndPlot__GenresChipList-cum89p-4 gtBDBL']/a[@class='GenresAndPlot__GenreChip-cum89p-3 fzmeux ipc-chip ipc-chip--on-baseAlt']\"\n",
    "# rating\n",
    "elem = driver.find_element_by_xpath(rating_xpath)\n",
    "rating = float(elem.text)\n",
    "print(rating)"
   ]
  },
  {
   "cell_type": "code",
   "execution_count": 10,
   "metadata": {},
   "outputs": [
    {
     "name": "stderr",
     "output_type": "stream",
     "text": [
      "C:\\Users\\Raylin\\AppData\\Local\\Temp/ipykernel_13520/3930872008.py:2: DeprecationWarning: find_elements_by_* commands are deprecated. Please use find_elements() instead\n",
      "  elem = driver.find_elements_by_xpath(cast_xpath)\n"
     ]
    },
    {
     "name": "stdout",
     "output_type": "stream",
     "text": [
      "['Peter Serafinowicz', 'Griffin Newman', 'Valorie Curry', 'Brendan Hines', 'Yara Martinez', 'Scott Speiser', 'Alan Tudyk', 'Devin Ratray', 'Jackie Earle Haley', 'Patricia Kalember', 'Joshua Schubart', 'François Chau', 'Kahlil Ashanti', 'Ryan Woodle', 'Marc Kudisch', 'John Pirkis', 'Julian Cihi', 'Steven Ogg']\n"
     ]
    }
   ],
   "source": [
    "# cast\n",
    "elem = driver.find_elements_by_xpath(cast_xpath)\n",
    "cast = [e.text for e in elem]\n",
    "print(cast)"
   ]
  },
  {
   "cell_type": "code",
   "execution_count": 11,
   "metadata": {},
   "outputs": [
    {
     "name": "stdout",
     "output_type": "stream",
     "text": [
      "['Action', 'Adventure', 'Comedy']\n"
     ]
    },
    {
     "name": "stderr",
     "output_type": "stream",
     "text": [
      "C:\\Users\\Raylin\\AppData\\Local\\Temp/ipykernel_13520/286600029.py:2: DeprecationWarning: find_elements_by_* commands are deprecated. Please use find_elements() instead\n",
      "  elem = driver.find_elements_by_xpath(genre_xpath)\n"
     ]
    }
   ],
   "source": [
    "# genre\n",
    "elem = driver.find_elements_by_xpath(genre_xpath)\n",
    "genre = [e.text for e in elem]\n",
    "#release_date = genre.pop()\n",
    "print(genre)\n",
    "#print(release_date)"
   ]
  },
  {
   "cell_type": "code",
   "execution_count": 12,
   "metadata": {},
   "outputs": [],
   "source": [
    "driver.close()"
   ]
  },
  {
   "cell_type": "markdown",
   "metadata": {},
   "source": [
    "## selenium 與 Yahoo! 奇摩股市"
   ]
  },
  {
   "cell_type": "code",
   "execution_count": 13,
   "metadata": {},
   "outputs": [],
   "source": [
    "from selenium import webdriver\n",
    "\n",
    "chrome_driver_path = \"chromedriver\"\n",
    "# chrome_driver_path = \"c:/Users/USERNAME/Downloads/chromedriver.exe\"\n",
    "driver = webdriver.Chrome(executable_path=chrome_driver_path)"
   ]
  },
  {
   "cell_type": "code",
   "execution_count": 14,
   "metadata": {},
   "outputs": [],
   "source": [
    "yahoo_stock_url = \"https://tw.stock.yahoo.com/rank/price\"\n",
    "driver.get(yahoo_stock_url)"
   ]
  },
  {
   "cell_type": "code",
   "execution_count": 26,
   "metadata": {},
   "outputs": [
    {
     "name": "stderr",
     "output_type": "stream",
     "text": [
      "C:\\Users\\Raylin\\AppData\\Local\\Temp/ipykernel_13520/1399472667.py:4: DeprecationWarning: find_elements_by_* commands are deprecated. Please use find_elements() instead\n",
      "  elem = driver.find_elements_by_xpath(ticker_name_xpath)\n"
     ]
    },
    {
     "name": "stdout",
     "output_type": "stream",
     "text": [
      "['1矽力-KY6415', '2信驊5274O', '3大立光3008', '4力旺3529O', '5譜瑞-KY4966O', '6祥碩5269', '7AES-KY6781', '8富邦媒8454', '9旭隼6409', '10聯發科2454', '11緯穎6669', '12亞德客-KY1590', '13世芯-KY3661', '14環球晶6488O', '15鈊象3293O', '16嘉澤3533', '17精測6510O', '18儒鴻1476', '19和泰車2207', '20台積電2330', '21創意3443', '22瑞昱2379', '23南電8046', '24玉晶光3406', '25聯詠3034', '26晶心科6533', '27川湖2059', '28昇佳電子6732O', '29威鋒電子6756', '30愛普*6531', '31群聯8299O', '32國巨2327', '33金麗科3228O', '34寶雅5904O', '35穎崴6515', '36健策3653', '37億豐8464', '38研華2395', '39晶碩6491', '40M316643O', '41鈺太6679O', '42華碩2357', '43穩懋3105O', '44宏觀6568O', '45弘塑3131O', '46璟德3152O', '47巨大9921', '48新普6121O', '49美利達9914', '50鮮活果汁-KY1256', '51矽創8016', '52雍智科技6683O', '53家登3680O', '54精華1565O', '55藥華藥6446O', '56上銀2049', '57同欣電6271', '58信邦3023', '59台勝科3532', '60德麥1264O', '61高端疫苗6547O', '62亨泰光6747O', '63合一4743O', '64華擎3515', '65亞信3169O', '66大學光3218O', '67天鈺4961', '68茂達6138O', '69是方6561O', '70台達電2308', '71台光電2383', '72立積4968', '73統一超2912', '74德微3675O', '75數字5287O', '76金可-KY8406O', '77上品4770', '78達亞6762O', '79中租-KY5871', '80智邦2345', '8191APP*-KY6741O', '82致新8081', '83貿聯-KY3665', '84牧德3563', '85京鼎3413', '86晶宏3141O', '87裕日車2227', '88聚陽1477', '89全家5903O', '90朋程8255O', '91智原3035', '92景碩3189', '93欣興3037', '94晶焱6411O', '95中美晶5483O', '96崑鼎6803O', '97可寧衛8422', '98麗豐-KY4137', '99豐泰9910', '100耀登3138']\n"
     ]
    }
   ],
   "source": [
    "ticker_name_xpath = \"//div[@class='D(f) Start(0) H(100%) Ai(c) Bgc(#fff) table-row:h_Bgc(#e7f3ff) Pstart(12px) Pend(12px) Bdrststart(4px) Bdrsbstart(4px) Pos(r) Bxz(bb) Z(2)']\"\n",
    "price_xpath = \"//div[@class='Fxg(1) Fxs(1) Fxb(0%) Ta(end) Mend($m-table-cell-space) Mend(0):lc Miw(76px)'][1]/span[@class='Jc(fe) Fw(600) D(f) Ai(c) C($c-trend-up)']\"\n",
    "# ticker_name 代號與名稱\n",
    "elem = driver.find_elements_by_xpath(ticker_name_xpath)\n",
    "ticker_name = [e.text.replace('\\n','').replace('.TW','') for e in elem]\n",
    "print(ticker_name)"
   ]
  },
  {
   "cell_type": "code",
   "execution_count": 24,
   "metadata": {},
   "outputs": [
    {
     "name": "stderr",
     "output_type": "stream",
     "text": [
      "C:\\Users\\Raylin\\AppData\\Local\\Temp/ipykernel_13520/2298000068.py:2: DeprecationWarning: find_elements_by_* commands are deprecated. Please use find_elements() instead\n",
      "  elem = driver.find_elements_by_xpath(price_xpath)\n"
     ]
    },
    {
     "name": "stdout",
     "output_type": "stream",
     "text": [
      "[5050.0, 3455.0, 2100.0, 1840.0, 1775.0, 1675.0, 1565.0, 1175.0, 872.0, 769.0, 703.0, 630.0, 615.0, 583.0, 537.0, 517.0, 502.0, 439.0, 423.5, 403.0, 400.0, 373.5, 371.5, 358.5, 346.0, 328.0, 323.0, 322.0, 317.5, 307.0, 297.0, 291.0, 291.0, 287.5, 282.5, 281.5, 278.5, 277.5, 271.0, 265.5, 264.5, 264.0, 262.0, 258.0, 255.0, 252.5, 252.0, 248.0, 245.5, 239.5, 239.0, 235.0, 231.5, 225.5]\n"
     ]
    }
   ],
   "source": [
    "# price 股價\n",
    "elem = driver.find_elements_by_xpath(price_xpath)\n",
    "#price = [float(e.text) for e in elem]\n",
    "price = [float(e.text.replace(',','')) for e in elem]\n",
    "print(price)"
   ]
  },
  {
   "cell_type": "code",
   "execution_count": 27,
   "metadata": {},
   "outputs": [],
   "source": [
    "driver.close()"
   ]
  },
  {
   "cell_type": "code",
   "execution_count": null,
   "metadata": {},
   "outputs": [],
   "source": []
  }
 ],
 "metadata": {
  "kernelspec": {
   "display_name": "selenium",
   "language": "python",
   "name": "selenium"
  },
  "language_info": {
   "codemirror_mode": {
    "name": "ipython",
    "version": 3
   },
   "file_extension": ".py",
   "mimetype": "text/x-python",
   "name": "python",
   "nbconvert_exporter": "python",
   "pygments_lexer": "ipython3",
   "version": "3.10.0"
  }
 },
 "nbformat": 4,
 "nbformat_minor": 2
}
