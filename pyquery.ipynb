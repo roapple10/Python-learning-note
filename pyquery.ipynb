{
 "cells": [
  {
   "cell_type": "markdown",
   "metadata": {
    "colab_type": "text",
    "id": "pf-ptNiFs9lY"
   },
   "source": [
    "## PyQuery 與 IMDB"
   ]
  },
  {
   "cell_type": "code",
   "execution_count": 1,
   "metadata": {
    "colab": {
     "base_uri": "https://localhost:8080/",
     "height": 69
    },
    "colab_type": "code",
    "executionInfo": {
     "elapsed": 6874,
     "status": "ok",
     "timestamp": 1551519235096,
     "user": {
      "displayName": "Tony Kuo",
      "photoUrl": "",
      "userId": "04188310621597892904"
     },
     "user_tz": -480
    },
    "id": "EHjoM8rdwCGH",
    "outputId": "54268f51-4f92-4917-87b8-5f464710123b"
   },
   "outputs": [
    {
     "name": "stdout",
     "output_type": "stream",
     "text": [
      "Requirement already satisfied: pyquery in c:\\users\\raylin\\anaconda3\\lib\\site-packages (1.4.3)\n",
      "Requirement already satisfied: lxml>=2.1 in c:\\users\\raylin\\anaconda3\\lib\\site-packages (from pyquery) (4.6.3)\n",
      "Requirement already satisfied: cssselect>0.7.9 in c:\\users\\raylin\\anaconda3\\lib\\site-packages (from pyquery) (1.1.0)\n"
     ]
    }
   ],
   "source": [
    "!pip install pyquery"
   ]
  },
  {
   "cell_type": "code",
   "execution_count": 8,
   "metadata": {
    "colab": {},
    "colab_type": "code",
    "id": "YeFqtgrpwMW4"
   },
   "outputs": [],
   "source": [
    "from pyquery import PyQuery as pq\n",
    "\n",
    "movie_url = \"https://www.imdb.com/title/tt3783958/ratings/?ref_=tt_ov_rt\"\n",
    "html_doc = pq(movie_url)"
   ]
  },
  {
   "cell_type": "code",
   "execution_count": 10,
   "metadata": {
    "colab": {
     "base_uri": "https://localhost:8080/",
     "height": 35
    },
    "colab_type": "code",
    "executionInfo": {
     "elapsed": 11340,
     "status": "ok",
     "timestamp": 1551519432714,
     "user": {
      "displayName": "Tony Kuo",
      "photoUrl": "",
      "userId": "04188310621597892904"
     },
     "user_tz": -480
    },
    "id": "l9Pas6cXwdP6",
    "outputId": "053cf971-3397-403e-b735-c1839dc49698"
   },
   "outputs": [
    {
     "name": "stdout",
     "output_type": "stream",
     "text": [
      "8.0\n"
     ]
    }
   ],
   "source": [
    "# rating 評等\n",
    "rating_css = \".ipl-rating-widget > .ipl-rating-star .ipl-rating-star__rating\"\n",
    "rating = html_doc(rating_css)\n",
    "rating = float(rating.text())\n",
    "print(rating)"
   ]
  },
  {
   "cell_type": "code",
   "execution_count": 13,
   "metadata": {
    "colab": {
     "base_uri": "https://localhost:8080/",
     "height": 55
    },
    "colab_type": "code",
    "executionInfo": {
     "elapsed": 1032,
     "status": "ok",
     "timestamp": 1551519606873,
     "user": {
      "displayName": "Tony Kuo",
      "photoUrl": "",
      "userId": "04188310621597892904"
     },
     "user_tz": -480
    },
    "id": "rYkXgbq9w-J0",
    "outputId": "c2e889e6-0af7-48e9-8d2e-c9d26f281a8a"
   },
   "outputs": [
    {
     "name": "stdout",
     "output_type": "stream",
     "text": [
      "['Ryan Gosling', 'Emma Stone', 'John Legend', 'J. K. Simmons', 'Rosemarie DeWitt', 'Finn Wittrock', 'Callie Hernandez', 'Sonoya Mizuno', 'Jessica Rothe', 'Tom Everett Scott', 'Amiee Conn', 'Anna Chazelle', 'Josh Pence', 'Meagen Fay', 'Damon Gupton', 'Jason Fuchs', 'Marius de Vries']\n"
     ]
    }
   ],
   "source": [
    "# cast 演員名單\n",
    "movie_url = \"https://en.wikipedia.org/wiki/La_La_Land\"\n",
    "html_doc = pq(movie_url)\n",
    "cast_css = \".div-col a\"\n",
    "cast = html_doc(cast_css)\n",
    "movie_cast = [c.text() for c in cast.items()]\n",
    "#for c in cast.items():\n",
    "#  movie_cast.append(c.text())\n",
    "print(movie_cast)"
   ]
  },
  {
   "cell_type": "code",
   "execution_count": 16,
   "metadata": {
    "colab": {
     "base_uri": "https://localhost:8080/",
     "height": 52
    },
    "colab_type": "code",
    "executionInfo": {
     "elapsed": 950,
     "status": "ok",
     "timestamp": 1551519716850,
     "user": {
      "displayName": "Tony Kuo",
      "photoUrl": "",
      "userId": "04188310621597892904"
     },
     "user_tz": -480
    },
    "id": "6Z6SDjdLxnsc",
    "outputId": "0b7c25e9-1db2-41a1-a44b-c87b60279022"
   },
   "outputs": [
    {
     "name": "stdout",
     "output_type": "stream",
     "text": [
      "[]\n",
      "comedy-drama\n"
     ]
    }
   ],
   "source": [
    "# genre 劇情類型\n",
    "movie_url = \"https://en.wikipedia.org/wiki/La_La_Land\"\n",
    "html_doc = pq(movie_url)\n",
    "genre_css = \".vevent+ p a:nth-child(4)\"\n",
    "genre = html_doc(genre_css)\n",
    "movie_genre = [g.text() for g in genre.items()]\n",
    "release_date = movie_genre.pop()\n",
    "print(movie_genre)\n",
    "print(release_date)"
   ]
  },
  {
   "cell_type": "markdown",
   "metadata": {
    "colab_type": "text",
    "id": "u-zKr0RmtBFb"
   },
   "source": [
    "## PyQuery 與 Yahoo! 奇摩股市"
   ]
  },
  {
   "cell_type": "code",
   "execution_count": 17,
   "metadata": {
    "colab": {},
    "colab_type": "code",
    "id": "HFpbF9XstD3S"
   },
   "outputs": [],
   "source": [
    "from pyquery import PyQuery as pq"
   ]
  },
  {
   "cell_type": "code",
   "execution_count": 20,
   "metadata": {
    "colab": {},
    "colab_type": "code",
    "id": "MozrsSPdyTgK"
   },
   "outputs": [],
   "source": [
    "stock_url = \"https://tw.stock.yahoo.com/d/i/rank.php?t=pri&e=tse&n=100\"\n",
    "html_doc = pq(stock_url)"
   ]
  },
  {
   "cell_type": "code",
   "execution_count": 21,
   "metadata": {
    "colab": {
     "base_uri": "https://localhost:8080/",
     "height": 55
    },
    "colab_type": "code",
    "executionInfo": {
     "elapsed": 970,
     "status": "ok",
     "timestamp": 1551520997857,
     "user": {
      "displayName": "Tony Kuo",
      "photoUrl": "",
      "userId": "04188310621597892904"
     },
     "user_tz": -480
    },
    "id": "SZweI9oH2gcI",
    "outputId": "f641bc69-0984-4482-bd17-dc5252da4260"
   },
   "outputs": [
    {
     "name": "stdout",
     "output_type": "stream",
     "text": [
      "[]\n"
     ]
    }
   ],
   "source": [
    "# ticker_name 代號與名稱\n",
    "ticker_name_css = \".name a\"\n",
    "ticker_name = html_doc(ticker_name_css)\n",
    "ticker_names = [tn.text() for tn in ticker_name.items()]\n",
    "print(ticker_names)"
   ]
  },
  {
   "cell_type": "code",
   "execution_count": 32,
   "metadata": {
    "colab": {
     "base_uri": "https://localhost:8080/",
     "height": 55
    },
    "colab_type": "code",
    "executionInfo": {
     "elapsed": 12359,
     "status": "ok",
     "timestamp": 1551521096542,
     "user": {
      "displayName": "Tony Kuo",
      "photoUrl": "",
      "userId": "04188310621597892904"
     },
     "user_tz": -480
    },
    "id": "kS7tFaaK2vAD",
    "outputId": "06b1741e-4daa-49c2-9c0d-e9301d03bee2"
   },
   "outputs": [
    {
     "name": "stdout",
     "output_type": "stream",
     "text": [
      "[4360.0, 586.0, 573.0, 554.0, 383.0, 352.5, 346.0, 335.0, 334.5, 320.0, 318.5, 312.0, 293.0, 280.0, 278.0, 277.0, 267.5, 247.0, 246.0, 239.0, 239.0, 235.0, 234.0, 231.5, 229.0, 219.5, 211.5, 210.5, 203.5, 199.0, 193.5, 187.5, 181.0, 178.0, 175.0, 172.0, 171.0, 169.5, 168.5, 165.5, 165.0, 164.5, 161.0, 160.5, 158.5, 153.5, 149.5, 147.0, 144.0, 141.5, 141.0, 139.5, 138.0, 136.5, 135.5, 135.0, 132.5, 132.0, 129.5, 128.0, 127.5, 125.5, 123.0, 122.0, 121.5, 121.0, 120.5, 120.0, 119.5, 118.0, 118.0, 117.0, 116.5, 114.0, 111.0, 110.0, 108.5, 108.0, 108.0, 107.5, 107.0, 106.0, 105.5, 105.0, 104.5, 104.5, 103.5, 102.5, 101.0, 100.5, 100.0, 100.0, 99.5, 99.5, 96.5, 95.7, 95.2, 94.6, 94.3, 93.0]\n"
     ]
    }
   ],
   "source": [
    "# price 成交價格\n",
    "price_css = \".name+ td\"\n",
    "price = html_doc(price_css)\n",
    "prices = [float(p.text()) for p in price.items()]\n",
    "print(prices)"
   ]
  },
  {
   "cell_type": "code",
   "execution_count": 0,
   "metadata": {
    "colab": {},
    "colab_type": "code",
    "id": "8YEqgbCH3PKp"
   },
   "outputs": [],
   "source": []
  }
 ],
 "metadata": {
  "colab": {
   "name": "1004-pyquery-case-studies.ipynb",
   "provenance": [
    {
     "file_id": "1DzGTHCVwWiMbHTiBrhvz3yhMQ2J69cJN",
     "timestamp": 1551517389839
    }
   ],
   "version": "0.3.2"
  },
  "kernelspec": {
   "display_name": "Python 3",
   "language": "python",
   "name": "python3"
  },
  "language_info": {
   "codemirror_mode": {
    "name": "ipython",
    "version": 3
   },
   "file_extension": ".py",
   "mimetype": "text/x-python",
   "name": "python",
   "nbconvert_exporter": "python",
   "pygments_lexer": "ipython3",
   "version": "3.8.8"
  }
 },
 "nbformat": 4,
 "nbformat_minor": 1
}
