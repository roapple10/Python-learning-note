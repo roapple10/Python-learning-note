{
 "cells": [
  {
   "cell_type": "code",
   "execution_count": 11,
   "metadata": {},
   "outputs": [],
   "source": [
    "from selenium import webdriver\n",
    "\n",
    "imdb_index_page = \"https://www.imdb.com/\"\n",
    "chrome_driver_path = \"chromedriver\"\n",
    "# chrome_driver_path = \"c:/Users/USERNAME/Downloads/chromedriver.exe\"\n",
    "driver = webdriver.Chrome(executable_path=chrome_driver_path)\n",
    "driver.get(imdb_index_page)"
   ]
  },
  {
   "cell_type": "code",
   "execution_count": 12,
   "metadata": {},
   "outputs": [
    {
     "name": "stderr",
     "output_type": "stream",
     "text": [
      "C:\\Users\\Raylin\\AppData\\Local\\Temp/ipykernel_10592/4114752446.py:3: DeprecationWarning: find_element_by_* commands are deprecated. Please use find_element() instead\n",
      "  elem = driver.find_element_by_xpath(search_xpath)\n"
     ]
    }
   ],
   "source": [
    "movie_title = \"La La Land\"\n",
    "search_xpath = \"//input[@id='suggestion-search']\"\n",
    "elem = driver.find_element_by_xpath(search_xpath)\n",
    "elem.send_keys(movie_title)"
   ]
  },
  {
   "cell_type": "code",
   "execution_count": 13,
   "metadata": {},
   "outputs": [
    {
     "name": "stderr",
     "output_type": "stream",
     "text": [
      "C:\\Users\\Raylin\\AppData\\Local\\Temp/ipykernel_10592/3562881371.py:2: DeprecationWarning: find_element_by_* commands are deprecated. Please use find_element() instead\n",
      "  elem = driver.find_element_by_xpath(submit_xpath)\n"
     ]
    }
   ],
   "source": [
    "submit_xpath = \"/html[@class=' scriptsOn']/body/div[@id='__next']/nav[@id='imdbHeader']/div[@class='ipc-page-content-container ipc-page-content-container--center navbar__inner']/div[@id='suggestion-search-container']/form[@id='nav-search-form']/button[@id='suggestion-search-button']\"\n",
    "elem = driver.find_element_by_xpath(submit_xpath)\n",
    "elem.click()"
   ]
  },
  {
   "cell_type": "code",
   "execution_count": 14,
   "metadata": {},
   "outputs": [
    {
     "name": "stderr",
     "output_type": "stream",
     "text": [
      "C:\\Users\\Raylin\\AppData\\Local\\Temp/ipykernel_10592/1179074260.py:2: DeprecationWarning: find_element_by_* commands are deprecated. Please use find_element() instead\n",
      "  elem = driver.find_element_by_xpath(movie_filter_xpath)\n"
     ]
    }
   ],
   "source": [
    "movie_filter_xpath = \"/html[@class=' scriptsOn']/body[@id='styleguide-v2']/div[@id='wrapper']/div[@id='root']/div[@id='pagecontent']/div[@id='content-2-wide']/div[@id='sidebar']/div[@class='aux-content-widget-3'][1]/ul[@class='findFilterList']/ul[@class='findTitleSubfilterList']/li[1]/a\"\n",
    "elem = driver.find_element_by_xpath(movie_filter_xpath)\n",
    "elem.click()"
   ]
  },
  {
   "cell_type": "code",
   "execution_count": 15,
   "metadata": {},
   "outputs": [
    {
     "name": "stderr",
     "output_type": "stream",
     "text": [
      "C:\\Users\\Raylin\\AppData\\Local\\Temp/ipykernel_10592/2772908653.py:2: DeprecationWarning: find_element_by_* commands are deprecated. Please use find_element() instead\n",
      "  elem = driver.find_element_by_xpath(first_result_xpath)\n"
     ]
    }
   ],
   "source": [
    "first_result_xpath = \"/html[@class=' scriptsOn']/body[@id='styleguide-v2']/div[@id='wrapper']/div[@id='root']/div[@id='pagecontent']/div[@id='content-2-wide']/div[@id='main']/div[@class='article']/div[@class='findSection']/table[@class='findList']/tbody/tr[@class='findResult odd'][1]/td[@class='result_text']/a\"\n",
    "elem = driver.find_element_by_xpath(first_result_xpath)\n",
    "elem.click()"
   ]
  },
  {
   "cell_type": "code",
   "execution_count": 16,
   "metadata": {},
   "outputs": [
    {
     "name": "stderr",
     "output_type": "stream",
     "text": [
      "C:\\Users\\Raylin\\AppData\\Local\\Temp/ipykernel_10592/3873408805.py:4: DeprecationWarning: find_element_by_* commands are deprecated. Please use find_element() instead\n",
      "  elem = driver.find_element_by_xpath(rating_xpath)\n",
      "C:\\Users\\Raylin\\AppData\\Local\\Temp/ipykernel_10592/3873408805.py:6: DeprecationWarning: find_elements_by_* commands are deprecated. Please use find_elements() instead\n",
      "  elem = driver.find_elements_by_xpath(genre_xpath)\n",
      "C:\\Users\\Raylin\\AppData\\Local\\Temp/ipykernel_10592/3873408805.py:9: DeprecationWarning: find_elements_by_* commands are deprecated. Please use find_elements() instead\n",
      "  elem = driver.find_elements_by_xpath(cast_xpath)\n"
     ]
    },
    {
     "name": "stdout",
     "output_type": "stream",
     "text": [
      "8.0\n",
      "['Comedy', 'Drama', 'Music']\n",
      "['Ryan Gosling', 'Emma Stone', 'Rosemarie DeWitt', 'J.K. Simmons', 'Amiee Conn', 'Terry Walters', 'Thom Shelton', 'Cinda Adams', 'Callie Hernandez', 'Jessica Rothe', 'Sonoya Mizuno', 'Claudine Claudio', 'Jason Fuchs', 'D.A. Wallach', 'Trevor Lissauer', 'Olivia Hamilton', 'Anna Chazelle', 'Marius De Vries']\n"
     ]
    }
   ],
   "source": [
    "rating_xpath = \"/html[@class=' scriptsOn']/body/div[@id='__next']/main[@class='ipc-page-wrapper ipc-page-wrapper--base']/div[@class='ipc-page-content-container ipc-page-content-container--full BaseLayout__NextPageContentContainer-sc-180q5jf-0 fWxmdE']/section[@class='ipc-page-background ipc-page-background--base TitlePage__StyledPageBackground-wzlr49-0 dDUGgO']/section[@class='ipc-page-background ipc-page-background--baseAlt TitleMainHeroGroup__StyledPageBackground-w70azj-0 hEHQFC']/div[@class='ipc-page-content-container ipc-page-content-container--center'][2]/section[@class='ipc-page-background ipc-page-background--baseAlt Hero__StyledPageBackground-kvkd64-0 dxionP']/section[@class='ipc-page-section ipc-page-section--baseAlt ipc-page-section--tp-xs ipc-page-section--bp-xs Hero__HeroParent-kvkd64-1 fARFJI']/div[@class='TitleBlock__Container-sc-1nlhx7j-0 hglRHk']/div[@class='RatingBar__RatingContainer-sc-85l9wd-0 hNqCJh TitleBlock__HideableRatingBar-sc-1nlhx7j-4 bhTVMj']/div[@class='RatingBar__ButtonContainer-sc-85l9wd-1 idYUsR']/div[@class='RatingBarButtonBase__ContentWrap-sc-15v8ssr-0 jQXoLQ rating-bar__base-button'][1]/a[@class='ipc-button ipc-button--single-padding ipc-button--center-align-content ipc-button--default-height ipc-button--core-baseAlt ipc-button--theme-baseAlt ipc-button--on-textPrimary ipc-text-button RatingBarButtonBase__Button-sc-15v8ssr-2 jjcqHZ']/div[@class='ipc-button__text']/div[@class='RatingBarButtonBase__ButtonContentWrap-sc-15v8ssr-3 jodtvN']/div[@class='AggregateRatingButton__ContentWrap-sc-1ll29m0-0 hmJkIS']/div[@class='AggregateRatingButton__Rating-sc-1ll29m0-2 bmbYRW']/span[@class='AggregateRatingButton__RatingScore-sc-1ll29m0-1 iTLWoV']\"\n",
    "cast_xpath = \"/html[@class=' scriptsOn']/body/div[@id='__next']/main[@class='ipc-page-wrapper ipc-page-wrapper--base']/div[@class='ipc-page-content-container ipc-page-content-container--full BaseLayout__NextPageContentContainer-sc-180q5jf-0 fWxmdE']/section[@class='ipc-page-background ipc-page-background--base TitlePage__StyledPageBackground-wzlr49-0 dDUGgO']/div[@class='ipc-page-content-container ipc-page-content-container--center']/section[@class='ipc-page-background ipc-page-background--base TitleMainBelowTheFoldGroup__RelativePageBackground-sc-1vpywau-0 kcYXNj']/div[@class='ipc-page-grid ipc-page-grid--bias-left']/div[@class='TitleMainBelowTheFoldGroup__TitleMainPrimaryGroup-sc-1vpywau-1 btXiqv ipc-page-grid__item ipc-page-grid__item--span-2']/section[@class='ipc-page-section ipc-page-section--base StyledComponents__CastSection-y9ygcu-0 fswvJC celwidget']/div[@class='ipc-shoveler title-cast__grid']/div[@class='ipc-sub-grid ipc-sub-grid--page-span-2 ipc-sub-grid--wraps-at-above-l ipc-shoveler__grid']/div[@class='StyledComponents__CastItemWrapper-y9ygcu-7 hTEaNu']/div[@class='StyledComponents__CastItemSummary-y9ygcu-9 fBAofn']/a[@class='StyledComponents__ActorName-y9ygcu-1 eyqFnv']\"\n",
    "genre_xpath = \"/html[@class=' scriptsOn']/body/div[@id='__next']/main[@class='ipc-page-wrapper ipc-page-wrapper--base']/div[@class='ipc-page-content-container ipc-page-content-container--full BaseLayout__NextPageContentContainer-sc-180q5jf-0 fWxmdE']/section[@class='ipc-page-background ipc-page-background--base TitlePage__StyledPageBackground-wzlr49-0 dDUGgO']/section[@class='ipc-page-background ipc-page-background--baseAlt TitleMainHeroGroup__StyledPageBackground-w70azj-0 hEHQFC']/div[@class='ipc-page-content-container ipc-page-content-container--center'][2]/section[@class='ipc-page-background ipc-page-background--baseAlt Hero__StyledPageBackground-kvkd64-0 dxionP']/section[@class='ipc-page-section ipc-page-section--baseAlt ipc-page-section--tp-xs ipc-page-section--bp-xs Hero__HeroParent-kvkd64-1 fARFJI']/div[@class='Hero__MediaContentContainer__Video-kvkd64-2 kmTkgc']/div[@class='Hero__ContentContainer-kvkd64-10 eaUohq']/div[@class='Hero__MetaContainer__Video-kvkd64-4 kNqsIK']/div[@class='GenresAndPlot__ContentParent-cum89p-8 bFvaWW Hero__GenresAndPlotContainer-kvkd64-11 twqaW']/div[@class='ipc-chip-list GenresAndPlot__GenresChipList-cum89p-4 gtBDBL']/a[@class='GenresAndPlot__GenreChip-cum89p-3 fzmeux ipc-chip ipc-chip--on-baseAlt']\"\n",
    "elem = driver.find_element_by_xpath(rating_xpath)\n",
    "rating = float(elem.text)\n",
    "elem = driver.find_elements_by_xpath(genre_xpath)\n",
    "genre = [e.text for e in elem]\n",
    "#release_date = genre.pop()\n",
    "elem = driver.find_elements_by_xpath(cast_xpath)\n",
    "cast = [e.text for e in elem]\n",
    "driver.close()\n",
    "print(rating)\n",
    "print(genre)\n",
    "#print(release_date)\n",
    "print(cast)"
   ]
  },
  {
   "cell_type": "markdown",
   "metadata": {},
   "source": [
    "## 寫作成函數"
   ]
  },
  {
   "cell_type": "code",
   "execution_count": 17,
   "metadata": {},
   "outputs": [],
   "source": [
    "from selenium import webdriver\n",
    "\n",
    "def get_movie_info(movie_title):\n",
    "  \"\"\"\n",
    "  Getting movie information from IMDB.com\n",
    "  \"\"\"\n",
    "  # defining xpaths\n",
    "  imdb_index_page = \"https://www.imdb.com/\"\n",
    "  chrome_driver_path = \"chromedriver\"\n",
    "  search_xpath = \"//input[@id='suggestion-search']\"\n",
    "  submit_xpath = \"/html[@class=' scriptsOn']/body/div[@id='__next']/nav[@id='imdbHeader']/div[@class='ipc-page-content-container ipc-page-content-container--center navbar__inner']/div[@id='suggestion-search-container']/form[@id='nav-search-form']/button[@id='suggestion-search-button']\"\n",
    "  movie_filter_xpath = \"/html[@class=' scriptsOn']/body[@id='styleguide-v2']/div[@id='wrapper']/div[@id='root']/div[@id='pagecontent']/div[@id='content-2-wide']/div[@id='sidebar']/div[@class='aux-content-widget-3'][1]/ul[@class='findFilterList']/ul[@class='findTitleSubfilterList']/li[1]/a\"\n",
    "  first_result_xpath = \"/html[@class=' scriptsOn']/body[@id='styleguide-v2']/div[@id='wrapper']/div[@id='root']/div[@id='pagecontent']/div[@id='content-2-wide']/div[@id='main']/div[@class='article']/div[@class='findSection']/table[@class='findList']/tbody/tr[@class='findResult odd'][1]/td[@class='result_text']/a\"\n",
    "  rating_xpath = \"/html[@class=' scriptsOn']/body/div[@id='__next']/main[@class='ipc-page-wrapper ipc-page-wrapper--base']/div[@class='ipc-page-content-container ipc-page-content-container--full BaseLayout__NextPageContentContainer-sc-180q5jf-0 fWxmdE']/section[@class='ipc-page-background ipc-page-background--base TitlePage__StyledPageBackground-wzlr49-0 dDUGgO']/section[@class='ipc-page-background ipc-page-background--baseAlt TitleMainHeroGroup__StyledPageBackground-w70azj-0 hEHQFC']/div[@class='ipc-page-content-container ipc-page-content-container--center'][2]/section[@class='ipc-page-background ipc-page-background--baseAlt Hero__StyledPageBackground-kvkd64-0 dxionP']/section[@class='ipc-page-section ipc-page-section--baseAlt ipc-page-section--tp-xs ipc-page-section--bp-xs Hero__HeroParent-kvkd64-1 fARFJI']/div[@class='TitleBlock__Container-sc-1nlhx7j-0 hglRHk']/div[@class='RatingBar__RatingContainer-sc-85l9wd-0 hNqCJh TitleBlock__HideableRatingBar-sc-1nlhx7j-4 bhTVMj']/div[@class='RatingBar__ButtonContainer-sc-85l9wd-1 idYUsR']/div[@class='RatingBarButtonBase__ContentWrap-sc-15v8ssr-0 jQXoLQ rating-bar__base-button'][1]/a[@class='ipc-button ipc-button--single-padding ipc-button--center-align-content ipc-button--default-height ipc-button--core-baseAlt ipc-button--theme-baseAlt ipc-button--on-textPrimary ipc-text-button RatingBarButtonBase__Button-sc-15v8ssr-2 jjcqHZ']/div[@class='ipc-button__text']/div[@class='RatingBarButtonBase__ButtonContentWrap-sc-15v8ssr-3 jodtvN']/div[@class='AggregateRatingButton__ContentWrap-sc-1ll29m0-0 hmJkIS']/div[@class='AggregateRatingButton__Rating-sc-1ll29m0-2 bmbYRW']/span[@class='AggregateRatingButton__RatingScore-sc-1ll29m0-1 iTLWoV']\"\n",
    "  cast_xpath = \"/html[@class=' scriptsOn']/body/div[@id='__next']/main[@class='ipc-page-wrapper ipc-page-wrapper--base']/div[@class='ipc-page-content-container ipc-page-content-container--full BaseLayout__NextPageContentContainer-sc-180q5jf-0 fWxmdE']/section[@class='ipc-page-background ipc-page-background--base TitlePage__StyledPageBackground-wzlr49-0 dDUGgO']/div[@class='ipc-page-content-container ipc-page-content-container--center']/section[@class='ipc-page-background ipc-page-background--base TitleMainBelowTheFoldGroup__RelativePageBackground-sc-1vpywau-0 kcYXNj']/div[@class='ipc-page-grid ipc-page-grid--bias-left']/div[@class='TitleMainBelowTheFoldGroup__TitleMainPrimaryGroup-sc-1vpywau-1 btXiqv ipc-page-grid__item ipc-page-grid__item--span-2']/section[@class='ipc-page-section ipc-page-section--base StyledComponents__CastSection-y9ygcu-0 fswvJC celwidget']/div[@class='ipc-shoveler title-cast__grid']/div[@class='ipc-sub-grid ipc-sub-grid--page-span-2 ipc-sub-grid--wraps-at-above-l ipc-shoveler__grid']/div[@class='StyledComponents__CastItemWrapper-y9ygcu-7 hTEaNu']/div[@class='StyledComponents__CastItemSummary-y9ygcu-9 fBAofn']/a[@class='StyledComponents__ActorName-y9ygcu-1 eyqFnv']\"\n",
    "  genre_xpath = \"/html[@class=' scriptsOn']/body/div[@id='__next']/main[@class='ipc-page-wrapper ipc-page-wrapper--base']/div[@class='ipc-page-content-container ipc-page-content-container--full BaseLayout__NextPageContentContainer-sc-180q5jf-0 fWxmdE']/section[@class='ipc-page-background ipc-page-background--base TitlePage__StyledPageBackground-wzlr49-0 dDUGgO']/section[@class='ipc-page-background ipc-page-background--baseAlt TitleMainHeroGroup__StyledPageBackground-w70azj-0 hEHQFC']/div[@class='ipc-page-content-container ipc-page-content-container--center'][2]/section[@class='ipc-page-background ipc-page-background--baseAlt Hero__StyledPageBackground-kvkd64-0 dxionP']/section[@class='ipc-page-section ipc-page-section--baseAlt ipc-page-section--tp-xs ipc-page-section--bp-xs Hero__HeroParent-kvkd64-1 fARFJI']/div[@class='Hero__MediaContentContainer__Video-kvkd64-2 kmTkgc']/div[@class='Hero__ContentContainer-kvkd64-10 eaUohq']/div[@class='Hero__MetaContainer__Video-kvkd64-4 kNqsIK']/div[@class='GenresAndPlot__ContentParent-cum89p-8 bFvaWW Hero__GenresAndPlotContainer-kvkd64-11 twqaW']/div[@class='ipc-chip-list GenresAndPlot__GenresChipList-cum89p-4 gtBDBL']/a[@class='GenresAndPlot__GenreChip-cum89p-3 fzmeux ipc-chip ipc-chip--on-baseAlt']\"\n",
    "\n",
    "  # web scraping\n",
    "  driver = webdriver.Chrome(executable_path=chrome_driver_path)\n",
    "  driver.get(imdb_index_page)\n",
    "  elem = driver.find_element_by_xpath(search_xpath)\n",
    "  elem.send_keys(movie_title)\n",
    "  elem = driver.find_element_by_xpath(submit_xpath)\n",
    "  elem.click()\n",
    "  elem = driver.find_element_by_xpath(movie_filter_xpath)\n",
    "  elem.click()\n",
    "  elem = driver.find_element_by_xpath(first_result_xpath)\n",
    "  elem.click()\n",
    "  elem = driver.find_element_by_xpath(rating_xpath)\n",
    "  rating = float(elem.text)\n",
    "  elem = driver.find_elements_by_xpath(genre_xpath)\n",
    "  genre = [e.text for e in elem]\n",
    "  release_date = genre.pop()\n",
    "  elem = driver.find_elements_by_xpath(cast_xpath)\n",
    "  cast = [e.text for e in elem]\n",
    "  driver.close()\n",
    "  movie_info = {\n",
    "    \"rating\": rating,\n",
    "    \"genre\": genre,\n",
    "    \"releaseDate\": release_date,\n",
    "    \"cast\": cast\n",
    "  }\n",
    "  return movie_info"
   ]
  },
  {
   "cell_type": "code",
   "execution_count": 18,
   "metadata": {},
   "outputs": [
    {
     "name": "stderr",
     "output_type": "stream",
     "text": [
      "C:\\Users\\Raylin\\AppData\\Local\\Temp/ipykernel_10592/3046907524.py:21: DeprecationWarning: find_element_by_* commands are deprecated. Please use find_element() instead\n",
      "  elem = driver.find_element_by_xpath(search_xpath)\n",
      "C:\\Users\\Raylin\\AppData\\Local\\Temp/ipykernel_10592/3046907524.py:23: DeprecationWarning: find_element_by_* commands are deprecated. Please use find_element() instead\n",
      "  elem = driver.find_element_by_xpath(submit_xpath)\n",
      "C:\\Users\\Raylin\\AppData\\Local\\Temp/ipykernel_10592/3046907524.py:25: DeprecationWarning: find_element_by_* commands are deprecated. Please use find_element() instead\n",
      "  elem = driver.find_element_by_xpath(movie_filter_xpath)\n",
      "C:\\Users\\Raylin\\AppData\\Local\\Temp/ipykernel_10592/3046907524.py:27: DeprecationWarning: find_element_by_* commands are deprecated. Please use find_element() instead\n",
      "  elem = driver.find_element_by_xpath(first_result_xpath)\n",
      "C:\\Users\\Raylin\\AppData\\Local\\Temp/ipykernel_10592/3046907524.py:29: DeprecationWarning: find_element_by_* commands are deprecated. Please use find_element() instead\n",
      "  elem = driver.find_element_by_xpath(rating_xpath)\n",
      "C:\\Users\\Raylin\\AppData\\Local\\Temp/ipykernel_10592/3046907524.py:31: DeprecationWarning: find_elements_by_* commands are deprecated. Please use find_elements() instead\n",
      "  elem = driver.find_elements_by_xpath(genre_xpath)\n",
      "C:\\Users\\Raylin\\AppData\\Local\\Temp/ipykernel_10592/3046907524.py:34: DeprecationWarning: find_elements_by_* commands are deprecated. Please use find_elements() instead\n",
      "  elem = driver.find_elements_by_xpath(cast_xpath)\n"
     ]
    },
    {
     "data": {
      "text/plain": [
       "{'rating': 8.0,\n",
       " 'genre': ['Comedy', 'Drama'],\n",
       " 'releaseDate': 'Music',\n",
       " 'cast': ['Ryan Gosling',\n",
       "  'Emma Stone',\n",
       "  'Rosemarie DeWitt',\n",
       "  'J.K. Simmons',\n",
       "  'Amiee Conn',\n",
       "  'Terry Walters',\n",
       "  'Thom Shelton',\n",
       "  'Cinda Adams',\n",
       "  'Callie Hernandez',\n",
       "  'Jessica Rothe',\n",
       "  'Sonoya Mizuno',\n",
       "  'Claudine Claudio',\n",
       "  'Jason Fuchs',\n",
       "  'D.A. Wallach',\n",
       "  'Trevor Lissauer',\n",
       "  'Olivia Hamilton',\n",
       "  'Anna Chazelle',\n",
       "  'Marius De Vries']}"
      ]
     },
     "execution_count": 18,
     "metadata": {},
     "output_type": "execute_result"
    }
   ],
   "source": [
    "get_movie_info(\"La La Land\")"
   ]
  },
  {
   "cell_type": "code",
   "execution_count": 19,
   "metadata": {},
   "outputs": [
    {
     "name": "stderr",
     "output_type": "stream",
     "text": [
      "C:\\Users\\Raylin\\AppData\\Local\\Temp/ipykernel_10592/3046907524.py:21: DeprecationWarning: find_element_by_* commands are deprecated. Please use find_element() instead\n",
      "  elem = driver.find_element_by_xpath(search_xpath)\n",
      "C:\\Users\\Raylin\\AppData\\Local\\Temp/ipykernel_10592/3046907524.py:23: DeprecationWarning: find_element_by_* commands are deprecated. Please use find_element() instead\n",
      "  elem = driver.find_element_by_xpath(submit_xpath)\n",
      "C:\\Users\\Raylin\\AppData\\Local\\Temp/ipykernel_10592/3046907524.py:25: DeprecationWarning: find_element_by_* commands are deprecated. Please use find_element() instead\n",
      "  elem = driver.find_element_by_xpath(movie_filter_xpath)\n",
      "C:\\Users\\Raylin\\AppData\\Local\\Temp/ipykernel_10592/3046907524.py:27: DeprecationWarning: find_element_by_* commands are deprecated. Please use find_element() instead\n",
      "  elem = driver.find_element_by_xpath(first_result_xpath)\n",
      "C:\\Users\\Raylin\\AppData\\Local\\Temp/ipykernel_10592/3046907524.py:29: DeprecationWarning: find_element_by_* commands are deprecated. Please use find_element() instead\n",
      "  elem = driver.find_element_by_xpath(rating_xpath)\n",
      "C:\\Users\\Raylin\\AppData\\Local\\Temp/ipykernel_10592/3046907524.py:31: DeprecationWarning: find_elements_by_* commands are deprecated. Please use find_elements() instead\n",
      "  elem = driver.find_elements_by_xpath(genre_xpath)\n",
      "C:\\Users\\Raylin\\AppData\\Local\\Temp/ipykernel_10592/3046907524.py:34: DeprecationWarning: find_elements_by_* commands are deprecated. Please use find_elements() instead\n",
      "  elem = driver.find_elements_by_xpath(cast_xpath)\n"
     ]
    }
   ],
   "source": [
    "import time\n",
    "from random import randint\n",
    "\n",
    "movie_titles = [\"La La Land\", \"Avengers: Infinity War\", \"The Grand Budapest Hotel\"]\n",
    "movie_dict = {}\n",
    "for mt in movie_titles:\n",
    "  movie_dict[mt] = get_movie_info(mt)\n",
    "  sleep_sec = randint(3, 11)\n",
    "  time.sleep(sleep_sec)"
   ]
  },
  {
   "cell_type": "code",
   "execution_count": 20,
   "metadata": {},
   "outputs": [
    {
     "data": {
      "text/plain": [
       "{'rating': 8.0,\n",
       " 'genre': ['Comedy', 'Drama'],\n",
       " 'releaseDate': 'Music',\n",
       " 'cast': ['Ryan Gosling',\n",
       "  'Emma Stone',\n",
       "  'Rosemarie DeWitt',\n",
       "  'J.K. Simmons',\n",
       "  'Amiee Conn',\n",
       "  'Terry Walters',\n",
       "  'Thom Shelton',\n",
       "  'Cinda Adams',\n",
       "  'Callie Hernandez',\n",
       "  'Jessica Rothe',\n",
       "  'Sonoya Mizuno',\n",
       "  'Claudine Claudio',\n",
       "  'Jason Fuchs',\n",
       "  'D.A. Wallach',\n",
       "  'Trevor Lissauer',\n",
       "  'Olivia Hamilton',\n",
       "  'Anna Chazelle',\n",
       "  'Marius De Vries']}"
      ]
     },
     "execution_count": 20,
     "metadata": {},
     "output_type": "execute_result"
    }
   ],
   "source": [
    "movie_dict[\"La La Land\"]"
   ]
  },
  {
   "cell_type": "code",
   "execution_count": 21,
   "metadata": {},
   "outputs": [
    {
     "data": {
      "text/plain": [
       "{'rating': 8.4,\n",
       " 'genre': ['Action', 'Adventure'],\n",
       " 'releaseDate': 'Sci-Fi',\n",
       " 'cast': ['Robert Downey Jr.',\n",
       "  'Chris Hemsworth',\n",
       "  'Mark Ruffalo',\n",
       "  'Chris Evans',\n",
       "  'Scarlett Johansson',\n",
       "  'Don Cheadle',\n",
       "  'Benedict Cumberbatch',\n",
       "  'Tom Holland',\n",
       "  'Chadwick Boseman',\n",
       "  'Zoe Saldana',\n",
       "  'Karen Gillan',\n",
       "  'Tom Hiddleston',\n",
       "  'Paul Bettany',\n",
       "  'Elizabeth Olsen',\n",
       "  'Anthony Mackie',\n",
       "  'Sebastian Stan',\n",
       "  'Idris Elba',\n",
       "  'Danai Gurira']}"
      ]
     },
     "execution_count": 21,
     "metadata": {},
     "output_type": "execute_result"
    }
   ],
   "source": [
    "movie_dict[\"Avengers: Infinity War\"]"
   ]
  },
  {
   "cell_type": "code",
   "execution_count": 22,
   "metadata": {},
   "outputs": [
    {
     "data": {
      "text/plain": [
       "{'rating': 8.1,\n",
       " 'genre': ['Adventure', 'Comedy'],\n",
       " 'releaseDate': 'Crime',\n",
       " 'cast': ['Ralph Fiennes',\n",
       "  'F. Murray Abraham',\n",
       "  'Mathieu Amalric',\n",
       "  'Adrien Brody',\n",
       "  'Willem Dafoe',\n",
       "  'Jeff Goldblum',\n",
       "  'Harvey Keitel',\n",
       "  'Jude Law',\n",
       "  'Bill Murray',\n",
       "  'Edward Norton',\n",
       "  'Saoirse Ronan',\n",
       "  'Jason Schwartzman',\n",
       "  'Léa Seydoux',\n",
       "  'Tilda Swinton',\n",
       "  'Tom Wilkinson',\n",
       "  'Owen Wilson',\n",
       "  'Tony Revolori',\n",
       "  'Larry Pine']}"
      ]
     },
     "execution_count": 22,
     "metadata": {},
     "output_type": "execute_result"
    }
   ],
   "source": [
    "movie_dict[\"The Grand Budapest Hotel\"]"
   ]
  },
  {
   "cell_type": "code",
   "execution_count": 23,
   "metadata": {},
   "outputs": [
    {
     "name": "stdout",
     "output_type": "stream",
     "text": [
      "{'rating': 8.0, 'genre': ['Comedy', 'Drama'], 'releaseDate': 'Music', 'cast': ['Ryan Gosling', 'Emma Stone', 'Rosemarie DeWitt', 'J.K. Simmons', 'Amiee Conn', 'Terry Walters', 'Thom Shelton', 'Cinda Adams', 'Callie Hernandez', 'Jessica Rothe', 'Sonoya Mizuno', 'Claudine Claudio', 'Jason Fuchs', 'D.A. Wallach', 'Trevor Lissauer', 'Olivia Hamilton', 'Anna Chazelle', 'Marius De Vries']}\n",
      "{'rating': 8.4, 'genre': ['Action', 'Adventure'], 'releaseDate': 'Sci-Fi', 'cast': ['Robert Downey Jr.', 'Chris Hemsworth', 'Mark Ruffalo', 'Chris Evans', 'Scarlett Johansson', 'Don Cheadle', 'Benedict Cumberbatch', 'Tom Holland', 'Chadwick Boseman', 'Zoe Saldana', 'Karen Gillan', 'Tom Hiddleston', 'Paul Bettany', 'Elizabeth Olsen', 'Anthony Mackie', 'Sebastian Stan', 'Idris Elba', 'Danai Gurira']}\n",
      "{'rating': 8.1, 'genre': ['Adventure', 'Comedy'], 'releaseDate': 'Crime', 'cast': ['Ralph Fiennes', 'F. Murray Abraham', 'Mathieu Amalric', 'Adrien Brody', 'Willem Dafoe', 'Jeff Goldblum', 'Harvey Keitel', 'Jude Law', 'Bill Murray', 'Edward Norton', 'Saoirse Ronan', 'Jason Schwartzman', 'Léa Seydoux', 'Tilda Swinton', 'Tom Wilkinson', 'Owen Wilson', 'Tony Revolori', 'Larry Pine']}\n"
     ]
    }
   ],
   "source": [
    "for k in movie_dict.keys():\n",
    "  print(movie_dict[k])"
   ]
  },
  {
   "cell_type": "code",
   "execution_count": null,
   "metadata": {},
   "outputs": [],
   "source": []
  }
 ],
 "metadata": {
  "kernelspec": {
   "display_name": "selenium",
   "language": "python",
   "name": "selenium"
  },
  "language_info": {
   "codemirror_mode": {
    "name": "ipython",
    "version": 3
   },
   "file_extension": ".py",
   "mimetype": "text/x-python",
   "name": "python",
   "nbconvert_exporter": "python",
   "pygments_lexer": "ipython3",
   "version": "3.10.0"
  }
 },
 "nbformat": 4,
 "nbformat_minor": 2
}
