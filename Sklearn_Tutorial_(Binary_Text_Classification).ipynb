{
  "cells": [
    {
      "cell_type": "markdown",
      "metadata": {
        "id": "view-in-github",
        "colab_type": "text"
      },
      "source": [
        "<a href=\"https://colab.research.google.com/github/roapple10/Python-learning-note/blob/main/Sklearn_Tutorial_(Binary_Text_Classification).ipynb\" target=\"_parent\"><img src=\"https://colab.research.google.com/assets/colab-badge.svg\" alt=\"Open In Colab\"/></a>"
      ]
    },
    {
      "cell_type": "markdown",
      "source": [
        "Building a Machine Learning Model in Python\n",
        "https://towardsdatascience.com/a-beginners-guide-to-text-classification-with-scikit-learn-632357e16f3a"
      ],
      "metadata": {
        "id": "YdN_OaXVTw9n"
      },
      "id": "YdN_OaXVTw9n"
    },
    {
      "cell_type": "code",
      "source": [
        "from google.colab import drive\n",
        "drive.mount('/content/drive')"
      ],
      "metadata": {
        "colab": {
          "base_uri": "https://localhost:8080/"
        },
        "id": "sNX0VzFKT2wm",
        "outputId": "2cd9e00a-c9db-4fad-9d0a-2f62a2e2f9dc"
      },
      "id": "sNX0VzFKT2wm",
      "execution_count": 74,
      "outputs": [
        {
          "output_type": "stream",
          "name": "stdout",
          "text": [
            "Drive already mounted at /content/drive; to attempt to forcibly remount, call drive.mount(\"/content/drive\", force_remount=True).\n"
          ]
        }
      ]
    },
    {
      "cell_type": "code",
      "execution_count": 75,
      "id": "violent-argument",
      "metadata": {
        "id": "violent-argument"
      },
      "outputs": [],
      "source": [
        "import matplotlib.pyplot as plt\n",
        "import seaborn as sns\n",
        "\n",
        "sns.set_style('darkgrid') # darkgrid, white grid, dark, white and ticks\n",
        "plt.rc('axes', titlesize=18)     # fontsize of the axes title\n",
        "plt.rc('axes', labelsize=14)    # fontsize of the x and y labels\n",
        "plt.rc('xtick', labelsize=13)    # fontsize of the tick labels\n",
        "plt.rc('ytick', labelsize=13)    # fontsize of the tick labels\n",
        "plt.rc('legend', fontsize=13)    # legend fontsize\n",
        "plt.rc('font', size=13)          # controls default text sizes"
      ]
    },
    {
      "cell_type": "markdown",
      "source": [
        ""
      ],
      "metadata": {
        "id": "Il8nhT1FTwWn"
      },
      "id": "Il8nhT1FTwWn"
    },
    {
      "cell_type": "markdown",
      "id": "organizational-league",
      "metadata": {
        "id": "organizational-league"
      },
      "source": [
        "# Preparing Data"
      ]
    },
    {
      "cell_type": "markdown",
      "id": "wireless-collectible",
      "metadata": {
        "id": "wireless-collectible"
      },
      "source": [
        "Goal: Our goal is to find which machine learning model is best suited to predict sentiment (output) given a movie review (input).\n",
        "\n",
        "- Input(x) -> movie review\n",
        "- Ourput(y) -> sentiment  "
      ]
    },
    {
      "cell_type": "markdown",
      "id": "theoretical-engineering",
      "metadata": {
        "id": "theoretical-engineering"
      },
      "source": [
        "## Reading dataset"
      ]
    },
    {
      "cell_type": "code",
      "execution_count": 76,
      "id": "adverse-attendance",
      "metadata": {
        "scrolled": false,
        "colab": {
          "base_uri": "https://localhost:8080/",
          "height": 423
        },
        "id": "adverse-attendance",
        "outputId": "45e6ce31-275a-477a-f353-c63498ca0c1a"
      },
      "outputs": [
        {
          "output_type": "execute_result",
          "data": {
            "text/plain": [
              "                                                  review sentiment\n",
              "0      One of the other reviewers has mentioned that ...  positive\n",
              "1      A wonderful little production. <br /><br />The...  positive\n",
              "2      I thought this was a wonderful way to spend ti...  positive\n",
              "3      Basically there's a family where a little boy ...  negative\n",
              "4      Petter Mattei's \"Love in the Time of Money\" is...  positive\n",
              "...                                                  ...       ...\n",
              "49995  I thought this movie did a down right good job...  positive\n",
              "49996  Bad plot, bad dialogue, bad acting, idiotic di...  negative\n",
              "49997  I am a Catholic taught in parochial elementary...  negative\n",
              "49998  I'm going to have to disagree with the previou...  negative\n",
              "49999  No one expects the Star Trek movies to be high...  negative\n",
              "\n",
              "[50000 rows x 2 columns]"
            ],
            "text/html": [
              "\n",
              "  <div id=\"df-0224295e-2cef-4f28-b654-f19f4558454a\">\n",
              "    <div class=\"colab-df-container\">\n",
              "      <div>\n",
              "<style scoped>\n",
              "    .dataframe tbody tr th:only-of-type {\n",
              "        vertical-align: middle;\n",
              "    }\n",
              "\n",
              "    .dataframe tbody tr th {\n",
              "        vertical-align: top;\n",
              "    }\n",
              "\n",
              "    .dataframe thead th {\n",
              "        text-align: right;\n",
              "    }\n",
              "</style>\n",
              "<table border=\"1\" class=\"dataframe\">\n",
              "  <thead>\n",
              "    <tr style=\"text-align: right;\">\n",
              "      <th></th>\n",
              "      <th>review</th>\n",
              "      <th>sentiment</th>\n",
              "    </tr>\n",
              "  </thead>\n",
              "  <tbody>\n",
              "    <tr>\n",
              "      <th>0</th>\n",
              "      <td>One of the other reviewers has mentioned that ...</td>\n",
              "      <td>positive</td>\n",
              "    </tr>\n",
              "    <tr>\n",
              "      <th>1</th>\n",
              "      <td>A wonderful little production. &lt;br /&gt;&lt;br /&gt;The...</td>\n",
              "      <td>positive</td>\n",
              "    </tr>\n",
              "    <tr>\n",
              "      <th>2</th>\n",
              "      <td>I thought this was a wonderful way to spend ti...</td>\n",
              "      <td>positive</td>\n",
              "    </tr>\n",
              "    <tr>\n",
              "      <th>3</th>\n",
              "      <td>Basically there's a family where a little boy ...</td>\n",
              "      <td>negative</td>\n",
              "    </tr>\n",
              "    <tr>\n",
              "      <th>4</th>\n",
              "      <td>Petter Mattei's \"Love in the Time of Money\" is...</td>\n",
              "      <td>positive</td>\n",
              "    </tr>\n",
              "    <tr>\n",
              "      <th>...</th>\n",
              "      <td>...</td>\n",
              "      <td>...</td>\n",
              "    </tr>\n",
              "    <tr>\n",
              "      <th>49995</th>\n",
              "      <td>I thought this movie did a down right good job...</td>\n",
              "      <td>positive</td>\n",
              "    </tr>\n",
              "    <tr>\n",
              "      <th>49996</th>\n",
              "      <td>Bad plot, bad dialogue, bad acting, idiotic di...</td>\n",
              "      <td>negative</td>\n",
              "    </tr>\n",
              "    <tr>\n",
              "      <th>49997</th>\n",
              "      <td>I am a Catholic taught in parochial elementary...</td>\n",
              "      <td>negative</td>\n",
              "    </tr>\n",
              "    <tr>\n",
              "      <th>49998</th>\n",
              "      <td>I'm going to have to disagree with the previou...</td>\n",
              "      <td>negative</td>\n",
              "    </tr>\n",
              "    <tr>\n",
              "      <th>49999</th>\n",
              "      <td>No one expects the Star Trek movies to be high...</td>\n",
              "      <td>negative</td>\n",
              "    </tr>\n",
              "  </tbody>\n",
              "</table>\n",
              "<p>50000 rows × 2 columns</p>\n",
              "</div>\n",
              "      <button class=\"colab-df-convert\" onclick=\"convertToInteractive('df-0224295e-2cef-4f28-b654-f19f4558454a')\"\n",
              "              title=\"Convert this dataframe to an interactive table.\"\n",
              "              style=\"display:none;\">\n",
              "        \n",
              "  <svg xmlns=\"http://www.w3.org/2000/svg\" height=\"24px\"viewBox=\"0 0 24 24\"\n",
              "       width=\"24px\">\n",
              "    <path d=\"M0 0h24v24H0V0z\" fill=\"none\"/>\n",
              "    <path d=\"M18.56 5.44l.94 2.06.94-2.06 2.06-.94-2.06-.94-.94-2.06-.94 2.06-2.06.94zm-11 1L8.5 8.5l.94-2.06 2.06-.94-2.06-.94L8.5 2.5l-.94 2.06-2.06.94zm10 10l.94 2.06.94-2.06 2.06-.94-2.06-.94-.94-2.06-.94 2.06-2.06.94z\"/><path d=\"M17.41 7.96l-1.37-1.37c-.4-.4-.92-.59-1.43-.59-.52 0-1.04.2-1.43.59L10.3 9.45l-7.72 7.72c-.78.78-.78 2.05 0 2.83L4 21.41c.39.39.9.59 1.41.59.51 0 1.02-.2 1.41-.59l7.78-7.78 2.81-2.81c.8-.78.8-2.07 0-2.86zM5.41 20L4 18.59l7.72-7.72 1.47 1.35L5.41 20z\"/>\n",
              "  </svg>\n",
              "      </button>\n",
              "      \n",
              "  <style>\n",
              "    .colab-df-container {\n",
              "      display:flex;\n",
              "      flex-wrap:wrap;\n",
              "      gap: 12px;\n",
              "    }\n",
              "\n",
              "    .colab-df-convert {\n",
              "      background-color: #E8F0FE;\n",
              "      border: none;\n",
              "      border-radius: 50%;\n",
              "      cursor: pointer;\n",
              "      display: none;\n",
              "      fill: #1967D2;\n",
              "      height: 32px;\n",
              "      padding: 0 0 0 0;\n",
              "      width: 32px;\n",
              "    }\n",
              "\n",
              "    .colab-df-convert:hover {\n",
              "      background-color: #E2EBFA;\n",
              "      box-shadow: 0px 1px 2px rgba(60, 64, 67, 0.3), 0px 1px 3px 1px rgba(60, 64, 67, 0.15);\n",
              "      fill: #174EA6;\n",
              "    }\n",
              "\n",
              "    [theme=dark] .colab-df-convert {\n",
              "      background-color: #3B4455;\n",
              "      fill: #D2E3FC;\n",
              "    }\n",
              "\n",
              "    [theme=dark] .colab-df-convert:hover {\n",
              "      background-color: #434B5C;\n",
              "      box-shadow: 0px 1px 3px 1px rgba(0, 0, 0, 0.15);\n",
              "      filter: drop-shadow(0px 1px 2px rgba(0, 0, 0, 0.3));\n",
              "      fill: #FFFFFF;\n",
              "    }\n",
              "  </style>\n",
              "\n",
              "      <script>\n",
              "        const buttonEl =\n",
              "          document.querySelector('#df-0224295e-2cef-4f28-b654-f19f4558454a button.colab-df-convert');\n",
              "        buttonEl.style.display =\n",
              "          google.colab.kernel.accessAllowed ? 'block' : 'none';\n",
              "\n",
              "        async function convertToInteractive(key) {\n",
              "          const element = document.querySelector('#df-0224295e-2cef-4f28-b654-f19f4558454a');\n",
              "          const dataTable =\n",
              "            await google.colab.kernel.invokeFunction('convertToInteractive',\n",
              "                                                     [key], {});\n",
              "          if (!dataTable) return;\n",
              "\n",
              "          const docLinkHtml = 'Like what you see? Visit the ' +\n",
              "            '<a target=\"_blank\" href=https://colab.research.google.com/notebooks/data_table.ipynb>data table notebook</a>'\n",
              "            + ' to learn more about interactive tables.';\n",
              "          element.innerHTML = '';\n",
              "          dataTable['output_type'] = 'display_data';\n",
              "          await google.colab.output.renderOutput(dataTable, element);\n",
              "          const docLink = document.createElement('div');\n",
              "          docLink.innerHTML = docLinkHtml;\n",
              "          element.appendChild(docLink);\n",
              "        }\n",
              "      </script>\n",
              "    </div>\n",
              "  </div>\n",
              "  "
            ]
          },
          "metadata": {},
          "execution_count": 76
        }
      ],
      "source": [
        "import pandas as pd\n",
        "\n",
        "df_review = pd.read_csv('/content/drive/MyDrive/Colab Notebooks/Building a Machine Learning Model in Python/datasets/IMDB Dataset.csv')\n",
        "df_review"
      ]
    },
    {
      "cell_type": "code",
      "execution_count": 77,
      "id": "earlier-bosnia",
      "metadata": {
        "run_control": {
          "marked": true
        },
        "colab": {
          "base_uri": "https://localhost:8080/"
        },
        "id": "earlier-bosnia",
        "outputId": "8b3427ab-1d0e-430c-f678-e494773a0b0a"
      },
      "outputs": [
        {
          "output_type": "execute_result",
          "data": {
            "text/plain": [
              "sentiment\n",
              "positive     9000\n",
              "negative     1000\n",
              "dtype: int64"
            ]
          },
          "metadata": {},
          "execution_count": 77
        }
      ],
      "source": [
        "#taking a smaller sample of 10000 rows to make processing faster and get imbalance data\n",
        "# 9000 positives\n",
        "df_positive = df_review[df_review['sentiment']=='positive'][:9000]\n",
        "# 1000 positives\n",
        "df_negative = df_review[df_review['sentiment']=='negative'][:1000]\n",
        "\n",
        "df_review_imb = pd.concat([df_positive, df_negative])\n",
        "df_review_imb.value_counts(['sentiment'])"
      ]
    },
    {
      "cell_type": "markdown",
      "id": "convinced-burke",
      "metadata": {
        "id": "convinced-burke"
      },
      "source": [
        "## Dealing with Imbalanced Classes"
      ]
    },
    {
      "cell_type": "code",
      "execution_count": 78,
      "id": "wrapped-assault",
      "metadata": {
        "colab": {
          "base_uri": "https://localhost:8080/",
          "height": 291
        },
        "id": "wrapped-assault",
        "outputId": "68ad681f-43de-4495-ce5c-30165c5bdae4"
      },
      "outputs": [
        {
          "output_type": "display_data",
          "data": {
            "text/plain": [
              "<Figure size 576x288 with 1 Axes>"
            ],
            "image/png": "[encoded data removed]"
          },
          "metadata": {}
        }
      ],
      "source": [
        "colors = sns.color_palette('deep')\n",
        "\n",
        "plt.figure(figsize=(8,4), tight_layout=True)\n",
        "plt.bar(x=['Positive', 'Negative'],\n",
        "        height=df_review_imb.value_counts(['sentiment']),\n",
        "        color=colors[:2])\n",
        "plt.title('Sentiment')\n",
        "#plt.savefig('sentiment.png')\n",
        "plt.show()"
      ]
    },
    {
      "cell_type": "markdown",
      "id": "humanitarian-sample",
      "metadata": {
        "id": "humanitarian-sample"
      },
      "source": [
        "Different options to balanced data\n",
        "\n",
        "1. Python imbalanced-learn module\n",
        "2. DataFrame.sample"
      ]
    },
    {
      "cell_type": "code",
      "execution_count": 79,
      "id": "incident-tamil",
      "metadata": {
        "run_control": {
          "marked": true
        },
        "colab": {
          "base_uri": "https://localhost:8080/",
          "height": 423
        },
        "id": "incident-tamil",
        "outputId": "b3b49ae6-59ce-484a-a706-480947eb4e90"
      },
      "outputs": [
        {
          "output_type": "execute_result",
          "data": {
            "text/plain": [
              "                                                 review sentiment\n",
              "0     Basically there's a family where a little boy ...  negative\n",
              "1     This show was an amazing, fresh & innovative i...  negative\n",
              "2     Encouraged by the positive comments about this...  negative\n",
              "3     Phil the Alien is one of those quirky films wh...  negative\n",
              "4     I saw this movie when I was about 12 when it c...  negative\n",
              "...                                                 ...       ...\n",
              "1995  Knute Rockne led an extraordinary life and his...  positive\n",
              "1996  At the height of the 'Celebrity Big Brother' r...  positive\n",
              "1997  This is another of Robert Altman's underrated ...  positive\n",
              "1998  This movie won a special award at Cannes for i...  positive\n",
              "1999  You'd be forgiven to think a Finnish director ...  positive\n",
              "\n",
              "[2000 rows x 2 columns]"
            ],
            "text/html": [
              "\n",
              "  <div id=\"df-5e39205b-e4a8-49df-9b9d-2533b2465eb3\">\n",
              "    <div class=\"colab-df-container\">\n",
              "      <div>\n",
              "<style scoped>\n",
              "    .dataframe tbody tr th:only-of-type {\n",
              "        vertical-align: middle;\n",
              "    }\n",
              "\n",
              "    .dataframe tbody tr th {\n",
              "        vertical-align: top;\n",
              "    }\n",
              "\n",
              "    .dataframe thead th {\n",
              "        text-align: right;\n",
              "    }\n",
              "</style>\n",
              "<table border=\"1\" class=\"dataframe\">\n",
              "  <thead>\n",
              "    <tr style=\"text-align: right;\">\n",
              "      <th></th>\n",
              "      <th>review</th>\n",
              "      <th>sentiment</th>\n",
              "    </tr>\n",
              "  </thead>\n",
              "  <tbody>\n",
              "    <tr>\n",
              "      <th>0</th>\n",
              "      <td>Basically there's a family where a little boy ...</td>\n",
              "      <td>negative</td>\n",
              "    </tr>\n",
              "    <tr>\n",
              "      <th>1</th>\n",
              "      <td>This show was an amazing, fresh &amp; innovative i...</td>\n",
              "      <td>negative</td>\n",
              "    </tr>\n",
              "    <tr>\n",
              "      <th>2</th>\n",
              "      <td>Encouraged by the positive comments about this...</td>\n",
              "      <td>negative</td>\n",
              "    </tr>\n",
              "    <tr>\n",
              "      <th>3</th>\n",
              "      <td>Phil the Alien is one of those quirky films wh...</td>\n",
              "      <td>negative</td>\n",
              "    </tr>\n",
              "    <tr>\n",
              "      <th>4</th>\n",
              "      <td>I saw this movie when I was about 12 when it c...</td>\n",
              "      <td>negative</td>\n",
              "    </tr>\n",
              "    <tr>\n",
              "      <th>...</th>\n",
              "      <td>...</td>\n",
              "      <td>...</td>\n",
              "    </tr>\n",
              "    <tr>\n",
              "      <th>1995</th>\n",
              "      <td>Knute Rockne led an extraordinary life and his...</td>\n",
              "      <td>positive</td>\n",
              "    </tr>\n",
              "    <tr>\n",
              "      <th>1996</th>\n",
              "      <td>At the height of the 'Celebrity Big Brother' r...</td>\n",
              "      <td>positive</td>\n",
              "    </tr>\n",
              "    <tr>\n",
              "      <th>1997</th>\n",
              "      <td>This is another of Robert Altman's underrated ...</td>\n",
              "      <td>positive</td>\n",
              "    </tr>\n",
              "    <tr>\n",
              "      <th>1998</th>\n",
              "      <td>This movie won a special award at Cannes for i...</td>\n",
              "      <td>positive</td>\n",
              "    </tr>\n",
              "    <tr>\n",
              "      <th>1999</th>\n",
              "      <td>You'd be forgiven to think a Finnish director ...</td>\n",
              "      <td>positive</td>\n",
              "    </tr>\n",
              "  </tbody>\n",
              "</table>\n",
              "<p>2000 rows × 2 columns</p>\n",
              "</div>\n",
              "      <button class=\"colab-df-convert\" onclick=\"convertToInteractive('df-5e39205b-e4a8-49df-9b9d-2533b2465eb3')\"\n",
              "              title=\"Convert this dataframe to an interactive table.\"\n",
              "              style=\"display:none;\">\n",
              "        \n",
              "  <svg xmlns=\"http://www.w3.org/2000/svg\" height=\"24px\"viewBox=\"0 0 24 24\"\n",
              "       width=\"24px\">\n",
              "    <path d=\"M0 0h24v24H0V0z\" fill=\"none\"/>\n",
              "    <path d=\"M18.56 5.44l.94 2.06.94-2.06 2.06-.94-2.06-.94-.94-2.06-.94 2.06-2.06.94zm-11 1L8.5 8.5l.94-2.06 2.06-.94-2.06-.94L8.5 2.5l-.94 2.06-2.06.94zm10 10l.94 2.06.94-2.06 2.06-.94-2.06-.94-.94-2.06-.94 2.06-2.06.94z\"/><path d=\"M17.41 7.96l-1.37-1.37c-.4-.4-.92-.59-1.43-.59-.52 0-1.04.2-1.43.59L10.3 9.45l-7.72 7.72c-.78.78-.78 2.05 0 2.83L4 21.41c.39.39.9.59 1.41.59.51 0 1.02-.2 1.41-.59l7.78-7.78 2.81-2.81c.8-.78.8-2.07 0-2.86zM5.41 20L4 18.59l7.72-7.72 1.47 1.35L5.41 20z\"/>\n",
              "  </svg>\n",
              "      </button>\n",
              "      \n",
              "  <style>\n",
              "    .colab-df-container {\n",
              "      display:flex;\n",
              "      flex-wrap:wrap;\n",
              "      gap: 12px;\n",
              "    }\n",
              "\n",
              "    .colab-df-convert {\n",
              "      background-color: #E8F0FE;\n",
              "      border: none;\n",
              "      border-radius: 50%;\n",
              "      cursor: pointer;\n",
              "      display: none;\n",
              "      fill: #1967D2;\n",
              "      height: 32px;\n",
              "      padding: 0 0 0 0;\n",
              "      width: 32px;\n",
              "    }\n",
              "\n",
              "    .colab-df-convert:hover {\n",
              "      background-color: #E2EBFA;\n",
              "      box-shadow: 0px 1px 2px rgba(60, 64, 67, 0.3), 0px 1px 3px 1px rgba(60, 64, 67, 0.15);\n",
              "      fill: #174EA6;\n",
              "    }\n",
              "\n",
              "    [theme=dark] .colab-df-convert {\n",
              "      background-color: #3B4455;\n",
              "      fill: #D2E3FC;\n",
              "    }\n",
              "\n",
              "    [theme=dark] .colab-df-convert:hover {\n",
              "      background-color: #434B5C;\n",
              "      box-shadow: 0px 1px 3px 1px rgba(0, 0, 0, 0.15);\n",
              "      filter: drop-shadow(0px 1px 2px rgba(0, 0, 0, 0.3));\n",
              "      fill: #FFFFFF;\n",
              "    }\n",
              "  </style>\n",
              "\n",
              "      <script>\n",
              "        const buttonEl =\n",
              "          document.querySelector('#df-5e39205b-e4a8-49df-9b9d-2533b2465eb3 button.colab-df-convert');\n",
              "        buttonEl.style.display =\n",
              "          google.colab.kernel.accessAllowed ? 'block' : 'none';\n",
              "\n",
              "        async function convertToInteractive(key) {\n",
              "          const element = document.querySelector('#df-5e39205b-e4a8-49df-9b9d-2533b2465eb3');\n",
              "          const dataTable =\n",
              "            await google.colab.kernel.invokeFunction('convertToInteractive',\n",
              "                                                     [key], {});\n",
              "          if (!dataTable) return;\n",
              "\n",
              "          const docLinkHtml = 'Like what you see? Visit the ' +\n",
              "            '<a target=\"_blank\" href=https://colab.research.google.com/notebooks/data_table.ipynb>data table notebook</a>'\n",
              "            + ' to learn more about interactive tables.';\n",
              "          element.innerHTML = '';\n",
              "          dataTable['output_type'] = 'display_data';\n",
              "          await google.colab.output.renderOutput(dataTable, element);\n",
              "          const docLink = document.createElement('div');\n",
              "          docLink.innerHTML = docLinkHtml;\n",
              "          element.appendChild(docLink);\n",
              "        }\n",
              "      </script>\n",
              "    </div>\n",
              "  </div>\n",
              "  "
            ]
          },
          "metadata": {},
          "execution_count": 79
        }
      ],
      "source": [
        "from imblearn.under_sampling import  RandomUnderSampler\n",
        "\n",
        "rus = RandomUnderSampler(random_state=0)\n",
        "df_review_bal, df_review_bal['sentiment']=rus.fit_resample(df_review_imb[['review']],\n",
        "                                                           df_review_imb['sentiment'])\n",
        "df_review_bal\n",
        "\n",
        "# option 2\n",
        "# length_negative = len(df_review[df_review['sentiment']=='negative'])\n",
        "# df_review_positive = df_review[df_review['sentiment']=='positive'].sample(n=length_negative)\n",
        "# df_review_non_positive = df_review[~(df_review['sentiment']=='positive')]\n",
        "\n",
        "# df_review = pd.concat([\n",
        "#     df_review_positive, df_review_non_positive\n",
        "# ])\n",
        "# df_review['sentiment'].value_counts()\n",
        "\n",
        "# df_review.reset_index(drop=True, inplace=True)"
      ]
    },
    {
      "cell_type": "code",
      "execution_count": 80,
      "id": "serious-triangle",
      "metadata": {
        "scrolled": true,
        "colab": {
          "base_uri": "https://localhost:8080/"
        },
        "id": "serious-triangle",
        "outputId": "e54d6bfa-90de-418a-9287-2b63ac7c7eb6"
      },
      "outputs": [
        {
          "output_type": "stream",
          "name": "stdout",
          "text": [
            "sentiment\n",
            "positive    9000\n",
            "negative    1000\n",
            "dtype: int64\n",
            "sentiment\n",
            "negative    1000\n",
            "positive    1000\n",
            "dtype: int64\n"
          ]
        }
      ],
      "source": [
        "print(df_review_imb.value_counts('sentiment'))\n",
        "print(df_review_bal.value_counts('sentiment'))"
      ]
    },
    {
      "cell_type": "markdown",
      "id": "indirect-competition",
      "metadata": {
        "id": "indirect-competition"
      },
      "source": [
        "## Splitting data into train and test"
      ]
    },
    {
      "cell_type": "code",
      "execution_count": 81,
      "id": "first-thesis",
      "metadata": {
        "id": "first-thesis"
      },
      "outputs": [],
      "source": [
        "from sklearn.model_selection import train_test_split\n",
        "\n",
        "train, test = train_test_split(df_review_bal, test_size=0.33, random_state=42)"
      ]
    },
    {
      "cell_type": "code",
      "execution_count": 82,
      "id": "adjustable-factor",
      "metadata": {
        "id": "adjustable-factor"
      },
      "outputs": [],
      "source": [
        "train_x, train_y = train['review'], train['sentiment']\n",
        "test_x, test_y = test['review'], test['sentiment']"
      ]
    },
    {
      "cell_type": "code",
      "execution_count": 83,
      "id": "second-contract",
      "metadata": {
        "colab": {
          "base_uri": "https://localhost:8080/"
        },
        "id": "second-contract",
        "outputId": "6e4b60b8-4448-474b-e831-d7ff2664ef2d"
      },
      "outputs": [
        {
          "output_type": "execute_result",
          "data": {
            "text/plain": [
              "negative    675\n",
              "positive    665\n",
              "Name: sentiment, dtype: int64"
            ]
          },
          "metadata": {},
          "execution_count": 83
        }
      ],
      "source": [
        "train_y.value_counts()"
      ]
    },
    {
      "cell_type": "markdown",
      "id": "compliant-adolescent",
      "metadata": {
        "id": "compliant-adolescent"
      },
      "source": [
        "# Text Representation (Bag of Words) "
      ]
    },
    {
      "cell_type": "markdown",
      "id": "sharing-chrome",
      "metadata": {
        "id": "sharing-chrome"
      },
      "source": [
        "The classifiers and learning algorithms expect numerical feature vectors rather than raw text documents. We need to convert the text to a more manageable representation."
      ]
    },
    {
      "cell_type": "markdown",
      "id": "small-philip",
      "metadata": {
        "id": "small-philip"
      },
      "source": [
        "## Count Vectorizer"
      ]
    },
    {
      "cell_type": "code",
      "execution_count": 84,
      "id": "elder-increase",
      "metadata": {
        "colab": {
          "base_uri": "https://localhost:8080/",
          "height": 167
        },
        "id": "elder-increase",
        "outputId": "88312aba-c6f8-47f4-f57d-fe1a2624955c"
      },
      "outputs": [
        {
          "output_type": "stream",
          "name": "stderr",
          "text": [
            "/usr/local/lib/python3.7/dist-packages/sklearn/utils/deprecation.py:87: FutureWarning: Function get_feature_names is deprecated; get_feature_names is deprecated in 1.0 and will be removed in 1.2. Please use get_feature_names_out instead.\n",
            "  warnings.warn(msg, category=FutureWarning)\n"
          ]
        },
        {
          "output_type": "execute_result",
          "data": {
            "text/plain": [
              "         code  hate  java  love  python  writing\n",
              "review1     2     0     0     2       2        1\n",
              "review2     2     2     2     0       0        1"
            ],
            "text/html": [
              "\n",
              "  <div id=\"df-028c5b96-d9bc-4a8b-900a-568af8056534\">\n",
              "    <div class=\"colab-df-container\">\n",
              "      <div>\n",
              "<style scoped>\n",
              "    .dataframe tbody tr th:only-of-type {\n",
              "        vertical-align: middle;\n",
              "    }\n",
              "\n",
              "    .dataframe tbody tr th {\n",
              "        vertical-align: top;\n",
              "    }\n",
              "\n",
              "    .dataframe thead th {\n",
              "        text-align: right;\n",
              "    }\n",
              "</style>\n",
              "<table border=\"1\" class=\"dataframe\">\n",
              "  <thead>\n",
              "    <tr style=\"text-align: right;\">\n",
              "      <th></th>\n",
              "      <th>code</th>\n",
              "      <th>hate</th>\n",
              "      <th>java</th>\n",
              "      <th>love</th>\n",
              "      <th>python</th>\n",
              "      <th>writing</th>\n",
              "    </tr>\n",
              "  </thead>\n",
              "  <tbody>\n",
              "    <tr>\n",
              "      <th>review1</th>\n",
              "      <td>2</td>\n",
              "      <td>0</td>\n",
              "      <td>0</td>\n",
              "      <td>2</td>\n",
              "      <td>2</td>\n",
              "      <td>1</td>\n",
              "    </tr>\n",
              "    <tr>\n",
              "      <th>review2</th>\n",
              "      <td>2</td>\n",
              "      <td>2</td>\n",
              "      <td>2</td>\n",
              "      <td>0</td>\n",
              "      <td>0</td>\n",
              "      <td>1</td>\n",
              "    </tr>\n",
              "  </tbody>\n",
              "</table>\n",
              "</div>\n",
              "      <button class=\"colab-df-convert\" onclick=\"convertToInteractive('df-028c5b96-d9bc-4a8b-900a-568af8056534')\"\n",
              "              title=\"Convert this dataframe to an interactive table.\"\n",
              "              style=\"display:none;\">\n",
              "        \n",
              "  <svg xmlns=\"http://www.w3.org/2000/svg\" height=\"24px\"viewBox=\"0 0 24 24\"\n",
              "       width=\"24px\">\n",
              "    <path d=\"M0 0h24v24H0V0z\" fill=\"none\"/>\n",
              "    <path d=\"M18.56 5.44l.94 2.06.94-2.06 2.06-.94-2.06-.94-.94-2.06-.94 2.06-2.06.94zm-11 1L8.5 8.5l.94-2.06 2.06-.94-2.06-.94L8.5 2.5l-.94 2.06-2.06.94zm10 10l.94 2.06.94-2.06 2.06-.94-2.06-.94-.94-2.06-.94 2.06-2.06.94z\"/><path d=\"M17.41 7.96l-1.37-1.37c-.4-.4-.92-.59-1.43-.59-.52 0-1.04.2-1.43.59L10.3 9.45l-7.72 7.72c-.78.78-.78 2.05 0 2.83L4 21.41c.39.39.9.59 1.41.59.51 0 1.02-.2 1.41-.59l7.78-7.78 2.81-2.81c.8-.78.8-2.07 0-2.86zM5.41 20L4 18.59l7.72-7.72 1.47 1.35L5.41 20z\"/>\n",
              "  </svg>\n",
              "      </button>\n",
              "      \n",
              "  <style>\n",
              "    .colab-df-container {\n",
              "      display:flex;\n",
              "      flex-wrap:wrap;\n",
              "      gap: 12px;\n",
              "    }\n",
              "\n",
              "    .colab-df-convert {\n",
              "      background-color: #E8F0FE;\n",
              "      border: none;\n",
              "      border-radius: 50%;\n",
              "      cursor: pointer;\n",
              "      display: none;\n",
              "      fill: #1967D2;\n",
              "      height: 32px;\n",
              "      padding: 0 0 0 0;\n",
              "      width: 32px;\n",
              "    }\n",
              "\n",
              "    .colab-df-convert:hover {\n",
              "      background-color: #E2EBFA;\n",
              "      box-shadow: 0px 1px 2px rgba(60, 64, 67, 0.3), 0px 1px 3px 1px rgba(60, 64, 67, 0.15);\n",
              "      fill: #174EA6;\n",
              "    }\n",
              "\n",
              "    [theme=dark] .colab-df-convert {\n",
              "      background-color: #3B4455;\n",
              "      fill: #D2E3FC;\n",
              "    }\n",
              "\n",
              "    [theme=dark] .colab-df-convert:hover {\n",
              "      background-color: #434B5C;\n",
              "      box-shadow: 0px 1px 3px 1px rgba(0, 0, 0, 0.15);\n",
              "      filter: drop-shadow(0px 1px 2px rgba(0, 0, 0, 0.3));\n",
              "      fill: #FFFFFF;\n",
              "    }\n",
              "  </style>\n",
              "\n",
              "      <script>\n",
              "        const buttonEl =\n",
              "          document.querySelector('#df-028c5b96-d9bc-4a8b-900a-568af8056534 button.colab-df-convert');\n",
              "        buttonEl.style.display =\n",
              "          google.colab.kernel.accessAllowed ? 'block' : 'none';\n",
              "\n",
              "        async function convertToInteractive(key) {\n",
              "          const element = document.querySelector('#df-028c5b96-d9bc-4a8b-900a-568af8056534');\n",
              "          const dataTable =\n",
              "            await google.colab.kernel.invokeFunction('convertToInteractive',\n",
              "                                                     [key], {});\n",
              "          if (!dataTable) return;\n",
              "\n",
              "          const docLinkHtml = 'Like what you see? Visit the ' +\n",
              "            '<a target=\"_blank\" href=https://colab.research.google.com/notebooks/data_table.ipynb>data table notebook</a>'\n",
              "            + ' to learn more about interactive tables.';\n",
              "          element.innerHTML = '';\n",
              "          dataTable['output_type'] = 'display_data';\n",
              "          await google.colab.output.renderOutput(dataTable, element);\n",
              "          const docLink = document.createElement('div');\n",
              "          docLink.innerHTML = docLinkHtml;\n",
              "          element.appendChild(docLink);\n",
              "        }\n",
              "      </script>\n",
              "    </div>\n",
              "  </div>\n",
              "  "
            ]
          },
          "metadata": {},
          "execution_count": 84
        }
      ],
      "source": [
        "import pandas as pd\n",
        "from sklearn.feature_extraction.text import CountVectorizer\n",
        "text = [\"I love writing code in Python. I love Python code\",\n",
        "        \"I hate writing code in Java. I hate Java code\"]\n",
        "\n",
        "df = pd.DataFrame({'review': ['review1', 'review2'], 'text':text})\n",
        "cv = CountVectorizer(stop_words='english')\n",
        "cv_matrix = cv.fit_transform(df['text'])\n",
        "df_dtm = pd.DataFrame(cv_matrix.toarray(), index=df['review'].values, columns=cv.get_feature_names())\n",
        "df_dtm"
      ]
    },
    {
      "cell_type": "markdown",
      "id": "adjusted-prince",
      "metadata": {
        "id": "adjusted-prince"
      },
      "source": [
        "## Tfidf"
      ]
    },
    {
      "cell_type": "code",
      "execution_count": 85,
      "id": "bigger-rebecca",
      "metadata": {
        "colab": {
          "base_uri": "https://localhost:8080/",
          "height": 167
        },
        "id": "bigger-rebecca",
        "outputId": "2d51d712-868f-492d-de9d-250cf7688407"
      },
      "outputs": [
        {
          "output_type": "stream",
          "name": "stderr",
          "text": [
            "/usr/local/lib/python3.7/dist-packages/sklearn/utils/deprecation.py:87: FutureWarning: Function get_feature_names is deprecated; get_feature_names is deprecated in 1.0 and will be removed in 1.2. Please use get_feature_names_out instead.\n",
            "  warnings.warn(msg, category=FutureWarning)\n"
          ]
        },
        {
          "output_type": "execute_result",
          "data": {
            "text/plain": [
              "             code      hate      java      love    python  writing\n",
              "review1  0.438501  0.000000  0.000000  0.616298  0.616298  0.21925\n",
              "review2  0.438501  0.616298  0.616298  0.000000  0.000000  0.21925"
            ],
            "text/html": [
              "\n",
              "  <div id=\"df-7e9c3f46-666d-414d-a934-0b26a7b28ea0\">\n",
              "    <div class=\"colab-df-container\">\n",
              "      <div>\n",
              "<style scoped>\n",
              "    .dataframe tbody tr th:only-of-type {\n",
              "        vertical-align: middle;\n",
              "    }\n",
              "\n",
              "    .dataframe tbody tr th {\n",
              "        vertical-align: top;\n",
              "    }\n",
              "\n",
              "    .dataframe thead th {\n",
              "        text-align: right;\n",
              "    }\n",
              "</style>\n",
              "<table border=\"1\" class=\"dataframe\">\n",
              "  <thead>\n",
              "    <tr style=\"text-align: right;\">\n",
              "      <th></th>\n",
              "      <th>code</th>\n",
              "      <th>hate</th>\n",
              "      <th>java</th>\n",
              "      <th>love</th>\n",
              "      <th>python</th>\n",
              "      <th>writing</th>\n",
              "    </tr>\n",
              "  </thead>\n",
              "  <tbody>\n",
              "    <tr>\n",
              "      <th>review1</th>\n",
              "      <td>0.438501</td>\n",
              "      <td>0.000000</td>\n",
              "      <td>0.000000</td>\n",
              "      <td>0.616298</td>\n",
              "      <td>0.616298</td>\n",
              "      <td>0.21925</td>\n",
              "    </tr>\n",
              "    <tr>\n",
              "      <th>review2</th>\n",
              "      <td>0.438501</td>\n",
              "      <td>0.616298</td>\n",
              "      <td>0.616298</td>\n",
              "      <td>0.000000</td>\n",
              "      <td>0.000000</td>\n",
              "      <td>0.21925</td>\n",
              "    </tr>\n",
              "  </tbody>\n",
              "</table>\n",
              "</div>\n",
              "      <button class=\"colab-df-convert\" onclick=\"convertToInteractive('df-7e9c3f46-666d-414d-a934-0b26a7b28ea0')\"\n",
              "              title=\"Convert this dataframe to an interactive table.\"\n",
              "              style=\"display:none;\">\n",
              "        \n",
              "  <svg xmlns=\"http://www.w3.org/2000/svg\" height=\"24px\"viewBox=\"0 0 24 24\"\n",
              "       width=\"24px\">\n",
              "    <path d=\"M0 0h24v24H0V0z\" fill=\"none\"/>\n",
              "    <path d=\"M18.56 5.44l.94 2.06.94-2.06 2.06-.94-2.06-.94-.94-2.06-.94 2.06-2.06.94zm-11 1L8.5 8.5l.94-2.06 2.06-.94-2.06-.94L8.5 2.5l-.94 2.06-2.06.94zm10 10l.94 2.06.94-2.06 2.06-.94-2.06-.94-.94-2.06-.94 2.06-2.06.94z\"/><path d=\"M17.41 7.96l-1.37-1.37c-.4-.4-.92-.59-1.43-.59-.52 0-1.04.2-1.43.59L10.3 9.45l-7.72 7.72c-.78.78-.78 2.05 0 2.83L4 21.41c.39.39.9.59 1.41.59.51 0 1.02-.2 1.41-.59l7.78-7.78 2.81-2.81c.8-.78.8-2.07 0-2.86zM5.41 20L4 18.59l7.72-7.72 1.47 1.35L5.41 20z\"/>\n",
              "  </svg>\n",
              "      </button>\n",
              "      \n",
              "  <style>\n",
              "    .colab-df-container {\n",
              "      display:flex;\n",
              "      flex-wrap:wrap;\n",
              "      gap: 12px;\n",
              "    }\n",
              "\n",
              "    .colab-df-convert {\n",
              "      background-color: #E8F0FE;\n",
              "      border: none;\n",
              "      border-radius: 50%;\n",
              "      cursor: pointer;\n",
              "      display: none;\n",
              "      fill: #1967D2;\n",
              "      height: 32px;\n",
              "      padding: 0 0 0 0;\n",
              "      width: 32px;\n",
              "    }\n",
              "\n",
              "    .colab-df-convert:hover {\n",
              "      background-color: #E2EBFA;\n",
              "      box-shadow: 0px 1px 2px rgba(60, 64, 67, 0.3), 0px 1px 3px 1px rgba(60, 64, 67, 0.15);\n",
              "      fill: #174EA6;\n",
              "    }\n",
              "\n",
              "    [theme=dark] .colab-df-convert {\n",
              "      background-color: #3B4455;\n",
              "      fill: #D2E3FC;\n",
              "    }\n",
              "\n",
              "    [theme=dark] .colab-df-convert:hover {\n",
              "      background-color: #434B5C;\n",
              "      box-shadow: 0px 1px 3px 1px rgba(0, 0, 0, 0.15);\n",
              "      filter: drop-shadow(0px 1px 2px rgba(0, 0, 0, 0.3));\n",
              "      fill: #FFFFFF;\n",
              "    }\n",
              "  </style>\n",
              "\n",
              "      <script>\n",
              "        const buttonEl =\n",
              "          document.querySelector('#df-7e9c3f46-666d-414d-a934-0b26a7b28ea0 button.colab-df-convert');\n",
              "        buttonEl.style.display =\n",
              "          google.colab.kernel.accessAllowed ? 'block' : 'none';\n",
              "\n",
              "        async function convertToInteractive(key) {\n",
              "          const element = document.querySelector('#df-7e9c3f46-666d-414d-a934-0b26a7b28ea0');\n",
              "          const dataTable =\n",
              "            await google.colab.kernel.invokeFunction('convertToInteractive',\n",
              "                                                     [key], {});\n",
              "          if (!dataTable) return;\n",
              "\n",
              "          const docLinkHtml = 'Like what you see? Visit the ' +\n",
              "            '<a target=\"_blank\" href=https://colab.research.google.com/notebooks/data_table.ipynb>data table notebook</a>'\n",
              "            + ' to learn more about interactive tables.';\n",
              "          element.innerHTML = '';\n",
              "          dataTable['output_type'] = 'display_data';\n",
              "          await google.colab.output.renderOutput(dataTable, element);\n",
              "          const docLink = document.createElement('div');\n",
              "          docLink.innerHTML = docLinkHtml;\n",
              "          element.appendChild(docLink);\n",
              "        }\n",
              "      </script>\n",
              "    </div>\n",
              "  </div>\n",
              "  "
            ]
          },
          "metadata": {},
          "execution_count": 85
        }
      ],
      "source": [
        "import pandas as pd\n",
        "from sklearn.feature_extraction.text import TfidfVectorizer\n",
        "text = [\"I love writing code in Python. I love Python code\",\n",
        "        \"I hate writing code in Java. I hate Java code\"]\n",
        "\n",
        "df = pd.DataFrame({'review': ['review1', 'review2'], 'text':text})\n",
        "tfidf = TfidfVectorizer(stop_words='english')\n",
        "tfidf_matrix = tfidf.fit_transform(df['text'])\n",
        "df_dtm = pd.DataFrame(tfidf_matrix.toarray(), index=df['review'].values, columns=tfidf.get_feature_names())\n",
        "df_dtm"
      ]
    },
    {
      "cell_type": "markdown",
      "id": "stock-future",
      "metadata": {
        "id": "stock-future"
      },
      "source": [
        "## Turning our text data into numerical vectors"
      ]
    },
    {
      "cell_type": "code",
      "execution_count": 86,
      "id": "signal-mechanics",
      "metadata": {
        "run_control": {
          "marked": true
        },
        "id": "signal-mechanics"
      },
      "outputs": [],
      "source": [
        "from sklearn.feature_extraction.text import TfidfVectorizer\n",
        "\n",
        "tfidf = TfidfVectorizer(stop_words='english')\n",
        "train_x_vector = tfidf.fit_transform(train_x)\n",
        "# also fit the test_x_vector\n",
        "test_x_vector = tfidf.transform(test_x)\n",
        "\n",
        "# from sklearn.feature_extraction.text import CountVectorizer\n",
        "\n",
        "# cv = CountVectorizer(stop_words='english')\n",
        "# train_x_vector = cv.fit_transform(train_x)\n",
        "# test_x_vector = cv.transform(test_x)"
      ]
    },
    {
      "cell_type": "code",
      "execution_count": 87,
      "id": "quick-beauty",
      "metadata": {
        "colab": {
          "base_uri": "https://localhost:8080/"
        },
        "id": "quick-beauty",
        "outputId": "af215065-3b32-45f7-d308-2fc373474204"
      },
      "outputs": [
        {
          "output_type": "execute_result",
          "data": {
            "text/plain": [
              "<1340x20625 sparse matrix of type '<class 'numpy.float64'>'\n",
              "\twith 118834 stored elements in Compressed Sparse Row format>"
            ]
          },
          "metadata": {},
          "execution_count": 87
        }
      ],
      "source": [
        "train_x_vector"
      ]
    },
    {
      "cell_type": "code",
      "source": [
        "type(train_x_vector)"
      ],
      "metadata": {
        "colab": {
          "base_uri": "https://localhost:8080/"
        },
        "id": "f3JPfJJedSRT",
        "outputId": "ec5bbf92-c420-4f89-ed93-3aca84790b04"
      },
      "id": "f3JPfJJedSRT",
      "execution_count": 88,
      "outputs": [
        {
          "output_type": "execute_result",
          "data": {
            "text/plain": [
              "scipy.sparse.csr.csr_matrix"
            ]
          },
          "metadata": {},
          "execution_count": 88
        }
      ]
    },
    {
      "cell_type": "markdown",
      "id": "lucky-software",
      "metadata": {
        "id": "lucky-software"
      },
      "source": [
        "Types of matrix\n",
        "- Sparse matrix\n",
        "- Dense matrix"
      ]
    },
    {
      "cell_type": "code",
      "execution_count": 89,
      "id": "portable-coach",
      "metadata": {
        "run_control": {
          "marked": true
        },
        "scrolled": false,
        "colab": {
          "base_uri": "https://localhost:8080/",
          "height": 478
        },
        "id": "portable-coach",
        "outputId": "6b02ec9b-48ee-4b9e-abb6-eaa541520134"
      },
      "outputs": [
        {
          "output_type": "stream",
          "name": "stderr",
          "text": [
            "/usr/local/lib/python3.7/dist-packages/sklearn/utils/deprecation.py:87: FutureWarning: Function get_feature_names is deprecated; get_feature_names is deprecated in 1.0 and will be removed in 1.2. Please use get_feature_names_out instead.\n",
            "  warnings.warn(msg, category=FutureWarning)\n"
          ]
        },
        {
          "output_type": "execute_result",
          "data": {
            "text/plain": [
              "       00  000  007  01pm   02   04   08        10  100  1000  ...  zooming  \\\n",
              "81    0.0  0.0  0.0   0.0  0.0  0.0  0.0  0.000000  0.0   0.0  ...      0.0   \n",
              "915   0.0  0.0  0.0   0.0  0.0  0.0  0.0  0.000000  0.0   0.0  ...      0.0   \n",
              "1018  0.0  0.0  0.0   0.0  0.0  0.0  0.0  0.000000  0.0   0.0  ...      0.0   \n",
              "380   0.0  0.0  0.0   0.0  0.0  0.0  0.0  0.042791  0.0   0.0  ...      0.0   \n",
              "1029  0.0  0.0  0.0   0.0  0.0  0.0  0.0  0.000000  0.0   0.0  ...      0.0   \n",
              "...   ...  ...  ...   ...  ...  ...  ...       ...  ...   ...  ...      ...   \n",
              "1130  0.0  0.0  0.0   0.0  0.0  0.0  0.0  0.000000  0.0   0.0  ...      0.0   \n",
              "1294  0.0  0.0  0.0   0.0  0.0  0.0  0.0  0.000000  0.0   0.0  ...      0.0   \n",
              "860   0.0  0.0  0.0   0.0  0.0  0.0  0.0  0.000000  0.0   0.0  ...      0.0   \n",
              "1459  0.0  0.0  0.0   0.0  0.0  0.0  0.0  0.000000  0.0   0.0  ...      0.0   \n",
              "1126  0.0  0.0  0.0   0.0  0.0  0.0  0.0  0.000000  0.0   0.0  ...      0.0   \n",
              "\n",
              "      zooms  zues  zzzzzzzzzzzzzzzzzz  æon  élan  émigré  ísnt   ïn  \\\n",
              "81      0.0   0.0                 0.0  0.0   0.0     0.0   0.0  0.0   \n",
              "915     0.0   0.0                 0.0  0.0   0.0     0.0   0.0  0.0   \n",
              "1018    0.0   0.0                 0.0  0.0   0.0     0.0   0.0  0.0   \n",
              "380     0.0   0.0                 0.0  0.0   0.0     0.0   0.0  0.0   \n",
              "1029    0.0   0.0                 0.0  0.0   0.0     0.0   0.0  0.0   \n",
              "...     ...   ...                 ...  ...   ...     ...   ...  ...   \n",
              "1130    0.0   0.0                 0.0  0.0   0.0     0.0   0.0  0.0   \n",
              "1294    0.0   0.0                 0.0  0.0   0.0     0.0   0.0  0.0   \n",
              "860     0.0   0.0                 0.0  0.0   0.0     0.0   0.0  0.0   \n",
              "1459    0.0   0.0                 0.0  0.0   0.0     0.0   0.0  0.0   \n",
              "1126    0.0   0.0                 0.0  0.0   0.0     0.0   0.0  0.0   \n",
              "\n",
              "      ünfaithful  \n",
              "81           0.0  \n",
              "915          0.0  \n",
              "1018         0.0  \n",
              "380          0.0  \n",
              "1029         0.0  \n",
              "...          ...  \n",
              "1130         0.0  \n",
              "1294         0.0  \n",
              "860          0.0  \n",
              "1459         0.0  \n",
              "1126         0.0  \n",
              "\n",
              "[1340 rows x 20625 columns]"
            ],
            "text/html": [
              "\n",
              "  <div id=\"df-635196ee-b7e2-494f-9506-10607476f799\">\n",
              "    <div class=\"colab-df-container\">\n",
              "      <div>\n",
              "<style scoped>\n",
              "    .dataframe tbody tr th:only-of-type {\n",
              "        vertical-align: middle;\n",
              "    }\n",
              "\n",
              "    .dataframe tbody tr th {\n",
              "        vertical-align: top;\n",
              "    }\n",
              "\n",
              "    .dataframe thead th {\n",
              "        text-align: right;\n",
              "    }\n",
              "</style>\n",
              "<table border=\"1\" class=\"dataframe\">\n",
              "  <thead>\n",
              "    <tr style=\"text-align: right;\">\n",
              "      <th></th>\n",
              "      <th>00</th>\n",
              "      <th>000</th>\n",
              "      <th>007</th>\n",
              "      <th>01pm</th>\n",
              "      <th>02</th>\n",
              "      <th>04</th>\n",
              "      <th>08</th>\n",
              "      <th>10</th>\n",
              "      <th>100</th>\n",
              "      <th>1000</th>\n",
              "      <th>...</th>\n",
              "      <th>zooming</th>\n",
              "      <th>zooms</th>\n",
              "      <th>zues</th>\n",
              "      <th>zzzzzzzzzzzzzzzzzz</th>\n",
              "      <th>æon</th>\n",
              "      <th>élan</th>\n",
              "      <th>émigré</th>\n",
              "      <th>ísnt</th>\n",
              "      <th>ïn</th>\n",
              "      <th>ünfaithful</th>\n",
              "    </tr>\n",
              "  </thead>\n",
              "  <tbody>\n",
              "    <tr>\n",
              "      <th>81</th>\n",
              "      <td>0.0</td>\n",
              "      <td>0.0</td>\n",
              "      <td>0.0</td>\n",
              "      <td>0.0</td>\n",
              "      <td>0.0</td>\n",
              "      <td>0.0</td>\n",
              "      <td>0.0</td>\n",
              "      <td>0.000000</td>\n",
              "      <td>0.0</td>\n",
              "      <td>0.0</td>\n",
              "      <td>...</td>\n",
              "      <td>0.0</td>\n",
              "      <td>0.0</td>\n",
              "      <td>0.0</td>\n",
              "      <td>0.0</td>\n",
              "      <td>0.0</td>\n",
              "      <td>0.0</td>\n",
              "      <td>0.0</td>\n",
              "      <td>0.0</td>\n",
              "      <td>0.0</td>\n",
              "      <td>0.0</td>\n",
              "    </tr>\n",
              "    <tr>\n",
              "      <th>915</th>\n",
              "      <td>0.0</td>\n",
              "      <td>0.0</td>\n",
              "      <td>0.0</td>\n",
              "      <td>0.0</td>\n",
              "      <td>0.0</td>\n",
              "      <td>0.0</td>\n",
              "      <td>0.0</td>\n",
              "      <td>0.000000</td>\n",
              "      <td>0.0</td>\n",
              "      <td>0.0</td>\n",
              "      <td>...</td>\n",
              "      <td>0.0</td>\n",
              "      <td>0.0</td>\n",
              "      <td>0.0</td>\n",
              "      <td>0.0</td>\n",
              "      <td>0.0</td>\n",
              "      <td>0.0</td>\n",
              "      <td>0.0</td>\n",
              "      <td>0.0</td>\n",
              "      <td>0.0</td>\n",
              "      <td>0.0</td>\n",
              "    </tr>\n",
              "    <tr>\n",
              "      <th>1018</th>\n",
              "      <td>0.0</td>\n",
              "      <td>0.0</td>\n",
              "      <td>0.0</td>\n",
              "      <td>0.0</td>\n",
              "      <td>0.0</td>\n",
              "      <td>0.0</td>\n",
              "      <td>0.0</td>\n",
              "      <td>0.000000</td>\n",
              "      <td>0.0</td>\n",
              "      <td>0.0</td>\n",
              "      <td>...</td>\n",
              "      <td>0.0</td>\n",
              "      <td>0.0</td>\n",
              "      <td>0.0</td>\n",
              "      <td>0.0</td>\n",
              "      <td>0.0</td>\n",
              "      <td>0.0</td>\n",
              "      <td>0.0</td>\n",
              "      <td>0.0</td>\n",
              "      <td>0.0</td>\n",
              "      <td>0.0</td>\n",
              "    </tr>\n",
              "    <tr>\n",
              "      <th>380</th>\n",
              "      <td>0.0</td>\n",
              "      <td>0.0</td>\n",
              "      <td>0.0</td>\n",
              "      <td>0.0</td>\n",
              "      <td>0.0</td>\n",
              "      <td>0.0</td>\n",
              "      <td>0.0</td>\n",
              "      <td>0.042791</td>\n",
              "      <td>0.0</td>\n",
              "      <td>0.0</td>\n",
              "      <td>...</td>\n",
              "      <td>0.0</td>\n",
              "      <td>0.0</td>\n",
              "      <td>0.0</td>\n",
              "      <td>0.0</td>\n",
              "      <td>0.0</td>\n",
              "      <td>0.0</td>\n",
              "      <td>0.0</td>\n",
              "      <td>0.0</td>\n",
              "      <td>0.0</td>\n",
              "      <td>0.0</td>\n",
              "    </tr>\n",
              "    <tr>\n",
              "      <th>1029</th>\n",
              "      <td>0.0</td>\n",
              "      <td>0.0</td>\n",
              "      <td>0.0</td>\n",
              "      <td>0.0</td>\n",
              "      <td>0.0</td>\n",
              "      <td>0.0</td>\n",
              "      <td>0.0</td>\n",
              "      <td>0.000000</td>\n",
              "      <td>0.0</td>\n",
              "      <td>0.0</td>\n",
              "      <td>...</td>\n",
              "      <td>0.0</td>\n",
              "      <td>0.0</td>\n",
              "      <td>0.0</td>\n",
              "      <td>0.0</td>\n",
              "      <td>0.0</td>\n",
              "      <td>0.0</td>\n",
              "      <td>0.0</td>\n",
              "      <td>0.0</td>\n",
              "      <td>0.0</td>\n",
              "      <td>0.0</td>\n",
              "    </tr>\n",
              "    <tr>\n",
              "      <th>...</th>\n",
              "      <td>...</td>\n",
              "      <td>...</td>\n",
              "      <td>...</td>\n",
              "      <td>...</td>\n",
              "      <td>...</td>\n",
              "      <td>...</td>\n",
              "      <td>...</td>\n",
              "      <td>...</td>\n",
              "      <td>...</td>\n",
              "      <td>...</td>\n",
              "      <td>...</td>\n",
              "      <td>...</td>\n",
              "      <td>...</td>\n",
              "      <td>...</td>\n",
              "      <td>...</td>\n",
              "      <td>...</td>\n",
              "      <td>...</td>\n",
              "      <td>...</td>\n",
              "      <td>...</td>\n",
              "      <td>...</td>\n",
              "      <td>...</td>\n",
              "    </tr>\n",
              "    <tr>\n",
              "      <th>1130</th>\n",
              "      <td>0.0</td>\n",
              "      <td>0.0</td>\n",
              "      <td>0.0</td>\n",
              "      <td>0.0</td>\n",
              "      <td>0.0</td>\n",
              "      <td>0.0</td>\n",
              "      <td>0.0</td>\n",
              "      <td>0.000000</td>\n",
              "      <td>0.0</td>\n",
              "      <td>0.0</td>\n",
              "      <td>...</td>\n",
              "      <td>0.0</td>\n",
              "      <td>0.0</td>\n",
              "      <td>0.0</td>\n",
              "      <td>0.0</td>\n",
              "      <td>0.0</td>\n",
              "      <td>0.0</td>\n",
              "      <td>0.0</td>\n",
              "      <td>0.0</td>\n",
              "      <td>0.0</td>\n",
              "      <td>0.0</td>\n",
              "    </tr>\n",
              "    <tr>\n",
              "      <th>1294</th>\n",
              "      <td>0.0</td>\n",
              "      <td>0.0</td>\n",
              "      <td>0.0</td>\n",
              "      <td>0.0</td>\n",
              "      <td>0.0</td>\n",
              "      <td>0.0</td>\n",
              "      <td>0.0</td>\n",
              "      <td>0.000000</td>\n",
              "      <td>0.0</td>\n",
              "      <td>0.0</td>\n",
              "      <td>...</td>\n",
              "      <td>0.0</td>\n",
              "      <td>0.0</td>\n",
              "      <td>0.0</td>\n",
              "      <td>0.0</td>\n",
              "      <td>0.0</td>\n",
              "      <td>0.0</td>\n",
              "      <td>0.0</td>\n",
              "      <td>0.0</td>\n",
              "      <td>0.0</td>\n",
              "      <td>0.0</td>\n",
              "    </tr>\n",
              "    <tr>\n",
              "      <th>860</th>\n",
              "      <td>0.0</td>\n",
              "      <td>0.0</td>\n",
              "      <td>0.0</td>\n",
              "      <td>0.0</td>\n",
              "      <td>0.0</td>\n",
              "      <td>0.0</td>\n",
              "      <td>0.0</td>\n",
              "      <td>0.000000</td>\n",
              "      <td>0.0</td>\n",
              "      <td>0.0</td>\n",
              "      <td>...</td>\n",
              "      <td>0.0</td>\n",
              "      <td>0.0</td>\n",
              "      <td>0.0</td>\n",
              "      <td>0.0</td>\n",
              "      <td>0.0</td>\n",
              "      <td>0.0</td>\n",
              "      <td>0.0</td>\n",
              "      <td>0.0</td>\n",
              "      <td>0.0</td>\n",
              "      <td>0.0</td>\n",
              "    </tr>\n",
              "    <tr>\n",
              "      <th>1459</th>\n",
              "      <td>0.0</td>\n",
              "      <td>0.0</td>\n",
              "      <td>0.0</td>\n",
              "      <td>0.0</td>\n",
              "      <td>0.0</td>\n",
              "      <td>0.0</td>\n",
              "      <td>0.0</td>\n",
              "      <td>0.000000</td>\n",
              "      <td>0.0</td>\n",
              "      <td>0.0</td>\n",
              "      <td>...</td>\n",
              "      <td>0.0</td>\n",
              "      <td>0.0</td>\n",
              "      <td>0.0</td>\n",
              "      <td>0.0</td>\n",
              "      <td>0.0</td>\n",
              "      <td>0.0</td>\n",
              "      <td>0.0</td>\n",
              "      <td>0.0</td>\n",
              "      <td>0.0</td>\n",
              "      <td>0.0</td>\n",
              "    </tr>\n",
              "    <tr>\n",
              "      <th>1126</th>\n",
              "      <td>0.0</td>\n",
              "      <td>0.0</td>\n",
              "      <td>0.0</td>\n",
              "      <td>0.0</td>\n",
              "      <td>0.0</td>\n",
              "      <td>0.0</td>\n",
              "      <td>0.0</td>\n",
              "      <td>0.000000</td>\n",
              "      <td>0.0</td>\n",
              "      <td>0.0</td>\n",
              "      <td>...</td>\n",
              "      <td>0.0</td>\n",
              "      <td>0.0</td>\n",
              "      <td>0.0</td>\n",
              "      <td>0.0</td>\n",
              "      <td>0.0</td>\n",
              "      <td>0.0</td>\n",
              "      <td>0.0</td>\n",
              "      <td>0.0</td>\n",
              "      <td>0.0</td>\n",
              "      <td>0.0</td>\n",
              "    </tr>\n",
              "  </tbody>\n",
              "</table>\n",
              "<p>1340 rows × 20625 columns</p>\n",
              "</div>\n",
              "      <button class=\"colab-df-convert\" onclick=\"convertToInteractive('df-635196ee-b7e2-494f-9506-10607476f799')\"\n",
              "              title=\"Convert this dataframe to an interactive table.\"\n",
              "              style=\"display:none;\">\n",
              "        \n",
              "  <svg xmlns=\"http://www.w3.org/2000/svg\" height=\"24px\"viewBox=\"0 0 24 24\"\n",
              "       width=\"24px\">\n",
              "    <path d=\"M0 0h24v24H0V0z\" fill=\"none\"/>\n",
              "    <path d=\"M18.56 5.44l.94 2.06.94-2.06 2.06-.94-2.06-.94-.94-2.06-.94 2.06-2.06.94zm-11 1L8.5 8.5l.94-2.06 2.06-.94-2.06-.94L8.5 2.5l-.94 2.06-2.06.94zm10 10l.94 2.06.94-2.06 2.06-.94-2.06-.94-.94-2.06-.94 2.06-2.06.94z\"/><path d=\"M17.41 7.96l-1.37-1.37c-.4-.4-.92-.59-1.43-.59-.52 0-1.04.2-1.43.59L10.3 9.45l-7.72 7.72c-.78.78-.78 2.05 0 2.83L4 21.41c.39.39.9.59 1.41.59.51 0 1.02-.2 1.41-.59l7.78-7.78 2.81-2.81c.8-.78.8-2.07 0-2.86zM5.41 20L4 18.59l7.72-7.72 1.47 1.35L5.41 20z\"/>\n",
              "  </svg>\n",
              "      </button>\n",
              "      \n",
              "  <style>\n",
              "    .colab-df-container {\n",
              "      display:flex;\n",
              "      flex-wrap:wrap;\n",
              "      gap: 12px;\n",
              "    }\n",
              "\n",
              "    .colab-df-convert {\n",
              "      background-color: #E8F0FE;\n",
              "      border: none;\n",
              "      border-radius: 50%;\n",
              "      cursor: pointer;\n",
              "      display: none;\n",
              "      fill: #1967D2;\n",
              "      height: 32px;\n",
              "      padding: 0 0 0 0;\n",
              "      width: 32px;\n",
              "    }\n",
              "\n",
              "    .colab-df-convert:hover {\n",
              "      background-color: #E2EBFA;\n",
              "      box-shadow: 0px 1px 2px rgba(60, 64, 67, 0.3), 0px 1px 3px 1px rgba(60, 64, 67, 0.15);\n",
              "      fill: #174EA6;\n",
              "    }\n",
              "\n",
              "    [theme=dark] .colab-df-convert {\n",
              "      background-color: #3B4455;\n",
              "      fill: #D2E3FC;\n",
              "    }\n",
              "\n",
              "    [theme=dark] .colab-df-convert:hover {\n",
              "      background-color: #434B5C;\n",
              "      box-shadow: 0px 1px 3px 1px rgba(0, 0, 0, 0.15);\n",
              "      filter: drop-shadow(0px 1px 2px rgba(0, 0, 0, 0.3));\n",
              "      fill: #FFFFFF;\n",
              "    }\n",
              "  </style>\n",
              "\n",
              "      <script>\n",
              "        const buttonEl =\n",
              "          document.querySelector('#df-635196ee-b7e2-494f-9506-10607476f799 button.colab-df-convert');\n",
              "        buttonEl.style.display =\n",
              "          google.colab.kernel.accessAllowed ? 'block' : 'none';\n",
              "\n",
              "        async function convertToInteractive(key) {\n",
              "          const element = document.querySelector('#df-635196ee-b7e2-494f-9506-10607476f799');\n",
              "          const dataTable =\n",
              "            await google.colab.kernel.invokeFunction('convertToInteractive',\n",
              "                                                     [key], {});\n",
              "          if (!dataTable) return;\n",
              "\n",
              "          const docLinkHtml = 'Like what you see? Visit the ' +\n",
              "            '<a target=\"_blank\" href=https://colab.research.google.com/notebooks/data_table.ipynb>data table notebook</a>'\n",
              "            + ' to learn more about interactive tables.';\n",
              "          element.innerHTML = '';\n",
              "          dataTable['output_type'] = 'display_data';\n",
              "          await google.colab.output.renderOutput(dataTable, element);\n",
              "          const docLink = document.createElement('div');\n",
              "          docLink.innerHTML = docLinkHtml;\n",
              "          element.appendChild(docLink);\n",
              "        }\n",
              "      </script>\n",
              "    </div>\n",
              "  </div>\n",
              "  "
            ]
          },
          "metadata": {},
          "execution_count": 89
        }
      ],
      "source": [
        "pd.DataFrame.sparse.from_spmatrix(train_x_vector,\n",
        "                                  index=train_x.index,\n",
        "                                  columns=tfidf.get_feature_names())"
      ]
    },
    {
      "cell_type": "markdown",
      "id": "third-mills",
      "metadata": {
        "id": "third-mills"
      },
      "source": [
        "# Model Selection"
      ]
    },
    {
      "cell_type": "markdown",
      "id": "lesser-sullivan",
      "metadata": {
        "id": "lesser-sullivan"
      },
      "source": [
        "ML algorithms \n",
        "\n",
        "1. Supervised learning: Regression (numerical output), <b>Classification (discrete output)</b>\n",
        "- Input: Review\n",
        "- Output: Sentiment (discrete)\n",
        "2. Unsupervised learning"
      ]
    },
    {
      "cell_type": "markdown",
      "id": "medium-cheat",
      "metadata": {
        "id": "medium-cheat"
      },
      "source": [
        "## Support Vector Machines (SVM)"
      ]
    },
    {
      "cell_type": "code",
      "execution_count": 90,
      "id": "realistic-stationery",
      "metadata": {
        "colab": {
          "base_uri": "https://localhost:8080/"
        },
        "id": "realistic-stationery",
        "outputId": "4174734f-111e-4966-bc92-24a03ed62b6e"
      },
      "outputs": [
        {
          "output_type": "execute_result",
          "data": {
            "text/plain": [
              "SVC(kernel='linear')"
            ]
          },
          "metadata": {},
          "execution_count": 90
        }
      ],
      "source": [
        "from sklearn.svm import SVC\n",
        "\n",
        "svc = SVC(kernel='linear')\n",
        "svc.fit(train_x_vector, train_y)\n",
        "# svc.predict(train_x_vector[0])"
      ]
    },
    {
      "cell_type": "markdown",
      "id": "tutorial-iceland",
      "metadata": {
        "id": "tutorial-iceland"
      },
      "source": [
        "### Testing"
      ]
    },
    {
      "cell_type": "code",
      "execution_count": 91,
      "id": "isolated-reflection",
      "metadata": {
        "colab": {
          "base_uri": "https://localhost:8080/"
        },
        "id": "isolated-reflection",
        "outputId": "57573bb9-28b0-43c0-d91c-643aecd88ecb"
      },
      "outputs": [
        {
          "output_type": "stream",
          "name": "stdout",
          "text": [
            "['positive']\n",
            "['positive']\n",
            "['negative']\n",
            "['negative']\n"
          ]
        }
      ],
      "source": [
        "print(svc.predict(tfidf.transform(['A good movie'])))\n",
        "print(svc.predict(tfidf.transform(['An excellent movie'])))\n",
        "print(svc.predict(tfidf.transform(['\"I did not like this movie at all I gave this movie away\"'])))\n",
        "print(svc.predict(tfidf.transform(['A bad movie'])))"
      ]
    },
    {
      "cell_type": "markdown",
      "id": "opposed-progress",
      "metadata": {
        "id": "opposed-progress"
      },
      "source": [
        "## Decision Tree"
      ]
    },
    {
      "cell_type": "code",
      "execution_count": 92,
      "id": "breathing-border",
      "metadata": {
        "colab": {
          "base_uri": "https://localhost:8080/"
        },
        "id": "breathing-border",
        "outputId": "ae556879-5862-43be-9083-e607880497b4"
      },
      "outputs": [
        {
          "output_type": "execute_result",
          "data": {
            "text/plain": [
              "DecisionTreeClassifier()"
            ]
          },
          "metadata": {},
          "execution_count": 92
        }
      ],
      "source": [
        "from sklearn.tree import DecisionTreeClassifier\n",
        "\n",
        "dec_tree = DecisionTreeClassifier()\n",
        "dec_tree.fit(train_x_vector, train_y)"
      ]
    },
    {
      "cell_type": "markdown",
      "id": "medical-anderson",
      "metadata": {
        "id": "medical-anderson"
      },
      "source": [
        "## Naive Bayes"
      ]
    },
    {
      "cell_type": "code",
      "execution_count": 93,
      "id": "nervous-adrian",
      "metadata": {
        "colab": {
          "base_uri": "https://localhost:8080/"
        },
        "id": "nervous-adrian",
        "outputId": "66d7724f-5967-493d-a5cc-0b05fcb8a48f"
      },
      "outputs": [
        {
          "output_type": "execute_result",
          "data": {
            "text/plain": [
              "GaussianNB()"
            ]
          },
          "metadata": {},
          "execution_count": 93
        }
      ],
      "source": [
        "from sklearn.naive_bayes import GaussianNB\n",
        "\n",
        "gnb = GaussianNB()\n",
        "gnb.fit(train_x_vector.toarray(), train_y)"
      ]
    },
    {
      "cell_type": "markdown",
      "id": "pursuant-italian",
      "metadata": {
        "id": "pursuant-italian"
      },
      "source": [
        "## Logistic Regression"
      ]
    },
    {
      "cell_type": "code",
      "execution_count": 94,
      "id": "juvenile-stopping",
      "metadata": {
        "colab": {
          "base_uri": "https://localhost:8080/"
        },
        "id": "juvenile-stopping",
        "outputId": "d8f9ed73-cfc1-4d04-cc59-8a882d7290f7"
      },
      "outputs": [
        {
          "output_type": "execute_result",
          "data": {
            "text/plain": [
              "LogisticRegression()"
            ]
          },
          "metadata": {},
          "execution_count": 94
        }
      ],
      "source": [
        "from sklearn.linear_model import LogisticRegression\n",
        "\n",
        "log_reg = LogisticRegression()\n",
        "log_reg.fit(train_x_vector, train_y)"
      ]
    },
    {
      "cell_type": "markdown",
      "id": "herbal-rider",
      "metadata": {
        "id": "herbal-rider"
      },
      "source": [
        "# Model Evaluation"
      ]
    },
    {
      "cell_type": "markdown",
      "id": "final-paint",
      "metadata": {
        "id": "final-paint"
      },
      "source": [
        "## Mean Accuracy"
      ]
    },
    {
      "cell_type": "markdown",
      "id": "imperial-affect",
      "metadata": {
        "id": "imperial-affect"
      },
      "source": [
        "Return the mean accuracy on the given test data and labels."
      ]
    },
    {
      "cell_type": "code",
      "execution_count": 95,
      "id": "invisible-latest",
      "metadata": {
        "scrolled": false,
        "colab": {
          "base_uri": "https://localhost:8080/"
        },
        "id": "invisible-latest",
        "outputId": "aca547c1-4112-4475-dd1a-0acc226eceb4"
      },
      "outputs": [
        {
          "output_type": "stream",
          "name": "stdout",
          "text": [
            "0.8409090909090909\n",
            "0.6515151515151515\n",
            "0.6348484848484849\n",
            "0.8303030303030303\n"
          ]
        }
      ],
      "source": [
        "print(svc.score(test_x_vector, test_y))\n",
        "print(dec_tree.score(test_x_vector, test_y))\n",
        "print(gnb.score(test_x_vector.toarray(), test_y))\n",
        "print(log_reg.score(test_x_vector, test_y))\n",
        "\n",
        "# svc.score('Test samples', 'True labels')"
      ]
    },
    {
      "cell_type": "markdown",
      "id": "digital-calvin",
      "metadata": {
        "id": "digital-calvin"
      },
      "source": [
        "## F1 Score"
      ]
    },
    {
      "cell_type": "markdown",
      "id": "going-voice",
      "metadata": {
        "run_control": {
          "marked": true
        },
        "id": "going-voice"
      },
      "source": [
        "F1 Score is the weighted average of Precision and Recall. Accuracy is used when the True Positives and True negatives are more important while F1-score is used when the False Negatives and False Positives are crucial. Also, F1 takes into account how the data is distributed, so it's useful when you have data with imbalance classes.\n",
        "\n",
        "F1 Score = 2*(Recall * Precision) / (Recall + Precision)"
      ]
    },
    {
      "cell_type": "code",
      "execution_count": 96,
      "id": "separate-howard",
      "metadata": {
        "code_folding": [],
        "run_control": {
          "marked": true
        },
        "colab": {
          "base_uri": "https://localhost:8080/"
        },
        "id": "separate-howard",
        "outputId": "6d02b7bb-3ac4-427b-deb4-77b2aeb81526"
      },
      "outputs": [
        {
          "output_type": "execute_result",
          "data": {
            "text/plain": [
              "array([0.84671533, 0.83464567])"
            ]
          },
          "metadata": {},
          "execution_count": 96
        }
      ],
      "source": [
        "from sklearn.metrics import f1_score\n",
        "\n",
        "f1_score(test_y, svc.predict(test_x_vector),\n",
        "         labels=['positive', 'negative'],\n",
        "         average=None)\n",
        "\n",
        "# f1_score(y_true, y_pred, average=None)"
      ]
    },
    {
      "cell_type": "markdown",
      "id": "electoral-recorder",
      "metadata": {
        "id": "electoral-recorder"
      },
      "source": [
        "## Classification report"
      ]
    },
    {
      "cell_type": "markdown",
      "id": "native-virgin",
      "metadata": {
        "id": "native-virgin"
      },
      "source": [
        "Build a text report showing the main classification metrics."
      ]
    },
    {
      "cell_type": "code",
      "execution_count": 97,
      "id": "twenty-train",
      "metadata": {
        "scrolled": false,
        "colab": {
          "base_uri": "https://localhost:8080/"
        },
        "id": "twenty-train",
        "outputId": "b16ed931-9fb7-4f3b-9f4b-bb4977b72e98"
      },
      "outputs": [
        {
          "output_type": "stream",
          "name": "stdout",
          "text": [
            "              precision    recall  f1-score   support\n",
            "\n",
            "    positive       0.83      0.87      0.85       335\n",
            "    negative       0.85      0.82      0.83       325\n",
            "\n",
            "    accuracy                           0.84       660\n",
            "   macro avg       0.84      0.84      0.84       660\n",
            "weighted avg       0.84      0.84      0.84       660\n",
            "\n"
          ]
        }
      ],
      "source": [
        "from sklearn.metrics import classification_report\n",
        "\n",
        "print(classification_report(test_y, \n",
        "                            svc.predict(test_x_vector),\n",
        "                            labels=['positive', 'negative']))\n",
        "# classification_report(y_true, y_pred)"
      ]
    },
    {
      "cell_type": "markdown",
      "id": "purple-settle",
      "metadata": {
        "code_folding": [],
        "run_control": {
          "marked": false
        },
        "id": "purple-settle"
      },
      "source": [
        "## Confusion Matrix"
      ]
    },
    {
      "cell_type": "markdown",
      "id": "weird-butter",
      "metadata": {
        "id": "weird-butter"
      },
      "source": [
        "A confusion matrix) is a table with two rows and two columns that reports the number of false positives, false negatives, true positives, and true negatives"
      ]
    },
    {
      "cell_type": "code",
      "execution_count": 98,
      "id": "focal-disposal",
      "metadata": {
        "colab": {
          "base_uri": "https://localhost:8080/"
        },
        "id": "focal-disposal",
        "outputId": "abffe84d-ac85-4c3d-8531-749f812ae53f"
      },
      "outputs": [
        {
          "output_type": "execute_result",
          "data": {
            "text/plain": [
              "array([[290,  45],\n",
              "       [ 60, 265]])"
            ]
          },
          "metadata": {},
          "execution_count": 98
        }
      ],
      "source": [
        "from sklearn.metrics import confusion_matrix\n",
        "\n",
        "conf_mat = confusion_matrix(test_y, \n",
        "                            svc.predict(test_x_vector), \n",
        "                            labels=['positive', 'negative'])\n",
        "conf_mat"
      ]
    },
    {
      "cell_type": "markdown",
      "source": [
        "![image.png](data:image/png;base64,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)"
      ],
      "metadata": {
        "id": "PiyYz17K7_SO"
      },
      "id": "PiyYz17K7_SO"
    },
    {
      "cell_type": "markdown",
      "id": "plastic-director",
      "metadata": {
        "id": "plastic-director"
      },
      "source": [
        "# Tuning the Model"
      ]
    },
    {
      "cell_type": "markdown",
      "id": "weighted-reporter",
      "metadata": {
        "id": "weighted-reporter"
      },
      "source": [
        "## GridSearchCV"
      ]
    },
    {
      "cell_type": "code",
      "execution_count": 99,
      "id": "stable-flood",
      "metadata": {
        "scrolled": true,
        "colab": {
          "base_uri": "https://localhost:8080/"
        },
        "id": "stable-flood",
        "outputId": "2a045235-c39a-4cfa-ae98-b06d1ef3634e"
      },
      "outputs": [
        {
          "output_type": "execute_result",
          "data": {
            "text/plain": [
              "GridSearchCV(cv=5, estimator=SVC(),\n",
              "             param_grid={'C': [1, 4, 8, 16, 32], 'kernel': ['linear', 'rbf']})"
            ]
          },
          "metadata": {},
          "execution_count": 99
        }
      ],
      "source": [
        "from sklearn.model_selection import GridSearchCV\n",
        "\n",
        "parameters = {'C': [1,4,8,16,32] ,'kernel':['linear', 'rbf']}\n",
        "svc = SVC()\n",
        "svc_grid = GridSearchCV(svc,parameters, cv=5,)\n",
        "#              refit=True, verbose=0)\n",
        "svc_grid.fit(train_x_vector, train_y)"
      ]
    },
    {
      "cell_type": "code",
      "execution_count": 100,
      "id": "practical-giving",
      "metadata": {
        "colab": {
          "base_uri": "https://localhost:8080/"
        },
        "id": "practical-giving",
        "outputId": "4c1a9e8e-1cbe-43e3-d197-c1aac9522a93"
      },
      "outputs": [
        {
          "output_type": "stream",
          "name": "stdout",
          "text": [
            "{'C': 1, 'kernel': 'linear'}\n",
            "SVC(C=1, kernel='linear')\n"
          ]
        }
      ],
      "source": [
        "print(svc_grid.best_params_)\n",
        "print(svc_grid.best_estimator_)"
      ]
    }
  ],
  "metadata": {
    "hide_input": false,
    "kernelspec": {
      "display_name": "Python 3",
      "language": "python",
      "name": "python3"
    },
    "language_info": {
      "codemirror_mode": {
        "name": "ipython",
        "version": 3
      },
      "file_extension": ".py",
      "mimetype": "text/x-python",
      "name": "python",
      "nbconvert_exporter": "python",
      "pygments_lexer": "ipython3",
      "version": "3.7.3"
    },
    "nbTranslate": {
      "displayLangs": [
        "es",
        "en"
      ],
      "hotkey": "alt-t",
      "langInMainMenu": true,
      "sourceLang": "en",
      "targetLang": "es",
      "useGoogleTranslate": true
    },
    "toc": {
      "base_numbering": 1,
      "nav_menu": {},
      "number_sections": true,
      "sideBar": true,
      "skip_h1_title": false,
      "title_cell": "Table of Contents",
      "title_sidebar": "Contents",
      "toc_cell": false,
      "toc_position": {
        "height": "343px",
        "left": "1162px",
        "top": "259px",
        "width": "278px"
      },
      "toc_section_display": true,
      "toc_window_display": false
    },
    "varInspector": {
      "cols": {
        "lenName": 16,
        "lenType": 16,
        "lenVar": 40
      },
      "kernels_config": {
        "python": {
          "delete_cmd_postfix": "",
          "delete_cmd_prefix": "del ",
          "library": "var_list.py",
          "varRefreshCmd": "print(var_dic_list())"
        },
        "r": {
          "delete_cmd_postfix": ") ",
          "delete_cmd_prefix": "rm(",
          "library": "var_list.r",
          "varRefreshCmd": "cat(var_dic_list()) "
        }
      },
      "oldHeight": 432.7999938726425,
      "position": {
        "height": "40px",
        "left": "787.5999755859375px",
        "right": "20px",
        "top": "120px",
        "width": "344.3999938964844px"
      },
      "types_to_exclude": [
        "module",
        "function",
        "builtin_function_or_method",
        "instance",
        "_Feature"
      ],
      "varInspector_section_display": "none",
      "window_display": true
    },
    "colab": {
      "name": "Sklearn Tutorial (Binary Text Classification).ipynb",
      "provenance": [],
      "include_colab_link": true
    }
  },
  "nbformat": 4,
  "nbformat_minor": 5
}