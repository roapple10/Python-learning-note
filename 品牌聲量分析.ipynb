{
  "cells": [
    {
      "cell_type": "markdown",
      "metadata": {
        "id": "view-in-github",
        "colab_type": "text"
      },
      "source": [
        "<a href=\"https://colab.research.google.com/github/roapple10/Python-learning-note/blob/main/%E5%93%81%E7%89%8C%E8%81%B2%E9%87%8F%E5%88%86%E6%9E%90.ipynb\" target=\"_parent\"><img src=\"https://colab.research.google.com/assets/colab-badge.svg\" alt=\"Open In Colab\"/></a>"
      ]
    },
    {
      "cell_type": "code",
      "source": [
        "pip install snownlp"
      ],
      "metadata": {
        "colab": {
          "base_uri": "https://localhost:8080/"
        },
        "id": "j6U8hrwV1aTZ",
        "outputId": "d55ad3ae-6806-4c93-dc6f-b83fe8acf10d"
      },
      "id": "j6U8hrwV1aTZ",
      "execution_count": 2,
      "outputs": [
        {
          "output_type": "stream",
          "name": "stdout",
          "text": [
            "Collecting snownlp\n",
            "  Downloading snownlp-0.12.3.tar.gz (37.6 MB)\n",
            "\u001b[K     |████████████████████████████████| 37.6 MB 286 kB/s \n",
            "\u001b[?25hBuilding wheels for collected packages: snownlp\n",
            "  Building wheel for snownlp (setup.py) ... \u001b[?25l\u001b[?25hdone\n",
            "  Created wheel for snownlp: filename=snownlp-0.12.3-py3-none-any.whl size=37760963 sha256=fa126621a466716b383c0184a064f5d0b2938dd6e18dd2a73d20f158b3d9c261\n",
            "  Stored in directory: /root/.cache/pip/wheels/4a/7a/fe/a5747434679b22a95c93bcf9fa49a988f5d9be56366bdf6c79\n",
            "Successfully built snownlp\n",
            "Installing collected packages: snownlp\n",
            "Successfully installed snownlp-0.12.3\n"
          ]
        }
      ]
    },
    {
      "cell_type": "code",
      "source": [
        "from google.colab import drive\n",
        "drive.mount('/content/drive')"
      ],
      "metadata": {
        "colab": {
          "base_uri": "https://localhost:8080/"
        },
        "id": "A-rsyVP_1muO",
        "outputId": "78727e42-1478-4ae0-c27f-5d48a8d8351e"
      },
      "id": "A-rsyVP_1muO",
      "execution_count": 4,
      "outputs": [
        {
          "output_type": "stream",
          "name": "stdout",
          "text": [
            "Mounted at /content/drive\n"
          ]
        }
      ]
    },
    {
      "cell_type": "code",
      "source": [
        "# 一般繪圖套件\n",
        "import matplotlib as mpl\n",
        "import matplotlib.pyplot as plt \n",
        "from matplotlib.font_manager import fontManager\n",
        "import seaborn as sns"
      ],
      "metadata": {
        "id": "TnES25m26Mlf"
      },
      "id": "TnES25m26Mlf",
      "execution_count": 8,
      "outputs": []
    },
    {
      "cell_type": "code",
      "source": [
        "# Colab 進行matplotlib繪圖時顯示繁體中文\n",
        "# 下載台北思源黑體並命名taipei_sans_tc_beta.ttf，移至指定路徑\n",
        "!wget -O TaipeiSansTCBeta-Regular.ttf https://drive.google.com/uc?id=1eGAsTN1HBpJAkeVM57_C7ccp7hbgSz3_&export=download\n",
        "\n",
        "# 改style要在改font之前\n",
        "# plt.style.use('seaborn')  \n",
        "\n",
        "fontManager.addfont('TaipeiSansTCBeta-Regular.ttf')\n",
        "mpl.rc('font', family='Taipei Sans TC Beta')"
      ],
      "metadata": {
        "colab": {
          "base_uri": "https://localhost:8080/"
        },
        "id": "GJX_5OlB6EuK",
        "outputId": "c7c017f7-9d8f-481c-e87a-88519858eed7"
      },
      "id": "GJX_5OlB6EuK",
      "execution_count": 9,
      "outputs": [
        {
          "output_type": "stream",
          "name": "stdout",
          "text": [
            "--2022-04-27 07:25:10--  https://drive.google.com/uc?id=1eGAsTN1HBpJAkeVM57_C7ccp7hbgSz3_\n",
            "Resolving drive.google.com (drive.google.com)... 173.194.215.101, 173.194.215.100, 173.194.215.113, ...\n",
            "Connecting to drive.google.com (drive.google.com)|173.194.215.101|:443... connected.\n",
            "HTTP request sent, awaiting response... 303 See Other\n",
            "Location: https://doc-0k-9o-docs.googleusercontent.com/docs/securesc/ha0ro937gcuc7l7deffksulhg5h7mbp1/sr63b1ob332gm1l45hknl08617lved9r/1651044300000/02847987870453524430/*/1eGAsTN1HBpJAkeVM57_C7ccp7hbgSz3_ [following]\n",
            "Warning: wildcards not supported in HTTP.\n",
            "--2022-04-27 07:25:14--  https://doc-0k-9o-docs.googleusercontent.com/docs/securesc/ha0ro937gcuc7l7deffksulhg5h7mbp1/sr63b1ob332gm1l45hknl08617lved9r/1651044300000/02847987870453524430/*/1eGAsTN1HBpJAkeVM57_C7ccp7hbgSz3_\n",
            "Resolving doc-0k-9o-docs.googleusercontent.com (doc-0k-9o-docs.googleusercontent.com)... 142.250.98.132, 2607:f8b0:400c:c1a::84\n",
            "Connecting to doc-0k-9o-docs.googleusercontent.com (doc-0k-9o-docs.googleusercontent.com)|142.250.98.132|:443... connected.\n",
            "HTTP request sent, awaiting response... 200 OK\n",
            "Length: 20659344 (20M) [application/x-font-ttf]\n",
            "Saving to: ‘TaipeiSansTCBeta-Regular.ttf’\n",
            "\n",
            "TaipeiSansTCBeta-Re 100%[===================>]  19.70M  --.-KB/s    in 0.1s    \n",
            "\n",
            "2022-04-27 07:25:15 (204 MB/s) - ‘TaipeiSansTCBeta-Regular.ttf’ saved [20659344/20659344]\n",
            "\n"
          ]
        }
      ]
    },
    {
      "cell_type": "code",
      "execution_count": 10,
      "id": "young-attachment",
      "metadata": {
        "colab": {
          "base_uri": "https://localhost:8080/",
          "height": 471
        },
        "id": "young-attachment",
        "outputId": "f1fe78b3-2115-4892-d0ca-4e0922366e4a"
      },
      "outputs": [
        {
          "output_type": "stream",
          "name": "stderr",
          "text": [
            "/usr/local/lib/python3.7/dist-packages/IPython/core/interactiveshell.py:2882: FutureWarning: The error_bad_lines argument has been deprecated and will be removed in a future version.\n",
            "\n",
            "\n",
            "  exec(code_obj, self.user_global_ns, self.user_ns)\n",
            "Skipping line 127: unexpected end of data\n"
          ]
        },
        {
          "output_type": "display_data",
          "data": {
            "text/plain": [
              "<Figure size 432x288 with 1 Axes>"
            ],
            "image/png": "[encoded data removed]"
          },
          "metadata": {
            "needs_background": "light"
          }
        }
      ],
      "source": [
        "# %load 品牌聲量分析.py\n",
        "#!/usr/bin/env python3\n",
        "\"\"\"\n",
        "Created on Tue Feb 25 09:18:30 2020\n",
        "https://medium.com/marketingdatascience/%E5%B8%82%E5%A0%B4%E8%AA%BF%E6%9F%A5%E5%BE%88%E8%8A%B1%E9%8C%A2-%E8%87%AA%E5%B7%B1%E4%BE%86%E5%81%9A%E8%81%B2%E9%87%8F%E5%88%86%E6%9E%90%E5%90%A7-56e75c001be0\n",
        "\n",
        "@author: ivan\n",
        "\"\"\"\n",
        "\n",
        "import jieba.analyse\n",
        "import pandas as pd\n",
        "import jieba\n",
        "import numpy as np\n",
        "from snownlp import SnowNLP\n",
        "import matplotlib.pyplot as plt\n",
        "plt.rcParams['font.sans-serif'] = ['Microsoft JhengHei'] \n",
        "plt.rcParams['axes.unicode_minus'] = False\n",
        "jieba.set_dictionary('/content/drive/MyDrive/Colab Notebooks/品牌聲量分析/dict.txt.big')\n",
        "colrogroup = ['#427f8f','#4a8fa1','#559db0','#66a7b8','#77b1c0','#89bbc8','#9ac5d0','#bdd9e0','#cee3e8','#e0edf0']\n",
        "colrogroup2 = ['#cd0003','#e60003','#ff0004','#ff1a1d','#ff3436','#ff4d4f','#ff6768','#ff8181','#ff9a9b','#ffb4b4']\n",
        "# 無意義字元列表，可以自行新增\n",
        "removeword = ['span','class','f3','https','imgur','h1','_   blank','href','rel',\n",
        "              'nofollow','target','cdn','cgi','b4','jpg','hl','b1','f5','f4',\n",
        "              'goo.gl','f2','email','map','f1','f6','__cf___','data','bbs'\n",
        "              'html','cf','f0','b2','b3','b5','b6','原文內容','原文連結','作者'\n",
        "              '標題','時間','看板','<','>','，','。','？','-','閒聊','・','/',\n",
        "              ' ','=','\\\"','\\n','」','「','！','[',']','：','‧','╦','╔','╗','║'\n",
        "              ,'╠','╬','╬',':','╰','╩','╯','╭','╮','│','╪','─','《','》','_'\n",
        "              ,'.','、','（','）',' ','*','※','~','○','\"','\"','～','@','＋','\\r'\n",
        "              ,'▁',')','(','-','═','?',',','!','…','&',';','『','』','#','＝'\n",
        "              ,'\\l']\n",
        "#設定你關心的影劇名稱\n",
        "movie = ['成為王的男人','皇后的品格','赤月青日','神的測驗','死之詠讚',\n",
        "         '加油吧威基基','皮諾丘','魔女寶鑑','男朋友','來自星星的你']\n",
        "# 讀入爬蟲資料\n",
        "KoreaDrama=pd.read_csv('/content/drive/MyDrive/Colab Notebooks/品牌聲量分析/KoreaDrama_re.csv',encoding='utf-8',engine='python',error_bad_lines=False) #開啟檔案\n",
        "\n",
        "#所有文章和標題都串在一起\n",
        "thearticle = KoreaDrama['標題'] + KoreaDrama['內容']\n",
        "\n",
        "# 移除無意義字元列\n",
        "for word in removeword:\n",
        "    thearticle = thearticle.replace(word,'')\n",
        "\n",
        "#搜尋每個句子中，有出現該品牌的名稱，就+1\n",
        "tatal_movie = []\n",
        "for mov in movie:\n",
        "    count = 0\n",
        "    for art in thearticle:\n",
        "        if mov in art:\n",
        "            count = count +1\n",
        "    tatal_movie.append(count)\n",
        "    \n",
        "    \n",
        "# 繪畫\n",
        "plt.bar(movie, tatal_movie, color=colrogroup) #給予線標籤\n",
        "plt.xticks(fontsize=15,rotation=90) \n",
        "plt.xlabel('韓劇名稱', fontsize=15)\n",
        "plt.ylabel('聲量', fontsize=15)\n",
        "plt.title('韓劇聲量分析', fontsize=20)\n",
        "plt.show()\n"
      ]
    }
  ],
  "metadata": {
    "kernelspec": {
      "display_name": "Python 3",
      "language": "python",
      "name": "python3"
    },
    "language_info": {
      "codemirror_mode": {
        "name": "ipython",
        "version": 3
      },
      "file_extension": ".py",
      "mimetype": "text/x-python",
      "name": "python",
      "nbconvert_exporter": "python",
      "pygments_lexer": "ipython3",
      "version": "3.8.5"
    },
    "colab": {
      "name": "品牌聲量分析.ipynb",
      "provenance": [],
      "collapsed_sections": [],
      "include_colab_link": true
    }
  },
  "nbformat": 4,
  "nbformat_minor": 5
}