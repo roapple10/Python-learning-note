{
  "cells": [
    {
      "cell_type": "markdown",
      "metadata": {
        "id": "view-in-github",
        "colab_type": "text"
      },
      "source": [
        "<a href=\"https://colab.research.google.com/github/roapple10/Python-learning-note/blob/main/IBN_HR_analysis_Kaggle.ipynb\" target=\"_parent\"><img src=\"https://colab.research.google.com/assets/colab-badge.svg\" alt=\"Open In Colab\"/></a>"
      ]
    },
    {
      "cell_type": "code",
      "execution_count": null,
      "id": "light-manual",
      "metadata": {
        "id": "light-manual"
      },
      "outputs": [],
      "source": [
        "import numpy as np # linear algebra\n",
        "import pandas as pd # data processing, CSV file I/O (e.g. pd.read_csv)\n",
        "import os\n",
        "import matplotlib.pyplot as plt\n",
        "import seaborn as sns\n",
        "import sklearn\n",
        "from sklearn.preprocessing import LabelEncoder,MinMaxScaler\n",
        "from sklearn.model_selection import train_test_split\n",
        "from sklearn.ensemble import RandomForestClassifier\n",
        "from sklearn.linear_model import LogisticRegression\n",
        "from sklearn.metrics import accuracy_score\n",
        "from imblearn.over_sampling import SMOTE\n",
        "from sklearn.metrics import ConfusionMatrixDisplay\n",
        "from sklearn.metrics import confusion_matrix\n",
        "from xgboost import XGBClassifier\n",
        "# sns.color_palette(\"Set3\", as_cmap=True)\n",
        "sns.set_style('darkgrid')\n",
        "%matplotlib inline"
      ]
    },
    {
      "cell_type": "code",
      "execution_count": null,
      "id": "upper-processor",
      "metadata": {
        "id": "upper-processor"
      },
      "outputs": [],
      "source": [
        "pd.options.display.max_columns = 200\n",
        "pd.options.display.max_rows =200"
      ]
    },
    {
      "cell_type": "code",
      "execution_count": null,
      "id": "silver-guide",
      "metadata": {
        "id": "silver-guide",
        "outputId": "f909d359-ee54-409f-8744-a8dc01ba2649"
      },
      "outputs": [
        {
          "data": {
            "text/html": [
              "<div>\n",
              "<style scoped>\n",
              "    .dataframe tbody tr th:only-of-type {\n",
              "        vertical-align: middle;\n",
              "    }\n",
              "\n",
              "    .dataframe tbody tr th {\n",
              "        vertical-align: top;\n",
              "    }\n",
              "\n",
              "    .dataframe thead th {\n",
              "        text-align: right;\n",
              "    }\n",
              "</style>\n",
              "<table border=\"1\" class=\"dataframe\">\n",
              "  <thead>\n",
              "    <tr style=\"text-align: right;\">\n",
              "      <th></th>\n",
              "      <th>Age</th>\n",
              "      <th>Attrition</th>\n",
              "      <th>BusinessTravel</th>\n",
              "      <th>DailyRate</th>\n",
              "      <th>Department</th>\n",
              "      <th>DistanceFromHome</th>\n",
              "      <th>Education</th>\n",
              "      <th>EducationField</th>\n",
              "      <th>EmployeeCount</th>\n",
              "      <th>EmployeeNumber</th>\n",
              "      <th>EnvironmentSatisfaction</th>\n",
              "      <th>Gender</th>\n",
              "      <th>HourlyRate</th>\n",
              "      <th>JobInvolvement</th>\n",
              "      <th>JobLevel</th>\n",
              "      <th>JobRole</th>\n",
              "      <th>JobSatisfaction</th>\n",
              "      <th>MaritalStatus</th>\n",
              "      <th>MonthlyIncome</th>\n",
              "      <th>MonthlyRate</th>\n",
              "      <th>NumCompaniesWorked</th>\n",
              "      <th>Over18</th>\n",
              "      <th>OverTime</th>\n",
              "      <th>PercentSalaryHike</th>\n",
              "      <th>PerformanceRating</th>\n",
              "      <th>RelationshipSatisfaction</th>\n",
              "      <th>StandardHours</th>\n",
              "      <th>StockOptionLevel</th>\n",
              "      <th>TotalWorkingYears</th>\n",
              "      <th>TrainingTimesLastYear</th>\n",
              "      <th>WorkLifeBalance</th>\n",
              "      <th>YearsAtCompany</th>\n",
              "      <th>YearsInCurrentRole</th>\n",
              "      <th>YearsSinceLastPromotion</th>\n",
              "      <th>YearsWithCurrManager</th>\n",
              "    </tr>\n",
              "  </thead>\n",
              "  <tbody>\n",
              "    <tr>\n",
              "      <th>0</th>\n",
              "      <td>41</td>\n",
              "      <td>Yes</td>\n",
              "      <td>Travel_Rarely</td>\n",
              "      <td>1102</td>\n",
              "      <td>Sales</td>\n",
              "      <td>1</td>\n",
              "      <td>2</td>\n",
              "      <td>Life Sciences</td>\n",
              "      <td>1</td>\n",
              "      <td>1</td>\n",
              "      <td>2</td>\n",
              "      <td>Female</td>\n",
              "      <td>94</td>\n",
              "      <td>3</td>\n",
              "      <td>2</td>\n",
              "      <td>Sales Executive</td>\n",
              "      <td>4</td>\n",
              "      <td>Single</td>\n",
              "      <td>5993</td>\n",
              "      <td>19479</td>\n",
              "      <td>8</td>\n",
              "      <td>Y</td>\n",
              "      <td>Yes</td>\n",
              "      <td>11</td>\n",
              "      <td>3</td>\n",
              "      <td>1</td>\n",
              "      <td>80</td>\n",
              "      <td>0</td>\n",
              "      <td>8</td>\n",
              "      <td>0</td>\n",
              "      <td>1</td>\n",
              "      <td>6</td>\n",
              "      <td>4</td>\n",
              "      <td>0</td>\n",
              "      <td>5</td>\n",
              "    </tr>\n",
              "    <tr>\n",
              "      <th>1</th>\n",
              "      <td>49</td>\n",
              "      <td>No</td>\n",
              "      <td>Travel_Frequently</td>\n",
              "      <td>279</td>\n",
              "      <td>Research &amp; Development</td>\n",
              "      <td>8</td>\n",
              "      <td>1</td>\n",
              "      <td>Life Sciences</td>\n",
              "      <td>1</td>\n",
              "      <td>2</td>\n",
              "      <td>3</td>\n",
              "      <td>Male</td>\n",
              "      <td>61</td>\n",
              "      <td>2</td>\n",
              "      <td>2</td>\n",
              "      <td>Research Scientist</td>\n",
              "      <td>2</td>\n",
              "      <td>Married</td>\n",
              "      <td>5130</td>\n",
              "      <td>24907</td>\n",
              "      <td>1</td>\n",
              "      <td>Y</td>\n",
              "      <td>No</td>\n",
              "      <td>23</td>\n",
              "      <td>4</td>\n",
              "      <td>4</td>\n",
              "      <td>80</td>\n",
              "      <td>1</td>\n",
              "      <td>10</td>\n",
              "      <td>3</td>\n",
              "      <td>3</td>\n",
              "      <td>10</td>\n",
              "      <td>7</td>\n",
              "      <td>1</td>\n",
              "      <td>7</td>\n",
              "    </tr>\n",
              "    <tr>\n",
              "      <th>2</th>\n",
              "      <td>37</td>\n",
              "      <td>Yes</td>\n",
              "      <td>Travel_Rarely</td>\n",
              "      <td>1373</td>\n",
              "      <td>Research &amp; Development</td>\n",
              "      <td>2</td>\n",
              "      <td>2</td>\n",
              "      <td>Other</td>\n",
              "      <td>1</td>\n",
              "      <td>4</td>\n",
              "      <td>4</td>\n",
              "      <td>Male</td>\n",
              "      <td>92</td>\n",
              "      <td>2</td>\n",
              "      <td>1</td>\n",
              "      <td>Laboratory Technician</td>\n",
              "      <td>3</td>\n",
              "      <td>Single</td>\n",
              "      <td>2090</td>\n",
              "      <td>2396</td>\n",
              "      <td>6</td>\n",
              "      <td>Y</td>\n",
              "      <td>Yes</td>\n",
              "      <td>15</td>\n",
              "      <td>3</td>\n",
              "      <td>2</td>\n",
              "      <td>80</td>\n",
              "      <td>0</td>\n",
              "      <td>7</td>\n",
              "      <td>3</td>\n",
              "      <td>3</td>\n",
              "      <td>0</td>\n",
              "      <td>0</td>\n",
              "      <td>0</td>\n",
              "      <td>0</td>\n",
              "    </tr>\n",
              "    <tr>\n",
              "      <th>3</th>\n",
              "      <td>33</td>\n",
              "      <td>No</td>\n",
              "      <td>Travel_Frequently</td>\n",
              "      <td>1392</td>\n",
              "      <td>Research &amp; Development</td>\n",
              "      <td>3</td>\n",
              "      <td>4</td>\n",
              "      <td>Life Sciences</td>\n",
              "      <td>1</td>\n",
              "      <td>5</td>\n",
              "      <td>4</td>\n",
              "      <td>Female</td>\n",
              "      <td>56</td>\n",
              "      <td>3</td>\n",
              "      <td>1</td>\n",
              "      <td>Research Scientist</td>\n",
              "      <td>3</td>\n",
              "      <td>Married</td>\n",
              "      <td>2909</td>\n",
              "      <td>23159</td>\n",
              "      <td>1</td>\n",
              "      <td>Y</td>\n",
              "      <td>Yes</td>\n",
              "      <td>11</td>\n",
              "      <td>3</td>\n",
              "      <td>3</td>\n",
              "      <td>80</td>\n",
              "      <td>0</td>\n",
              "      <td>8</td>\n",
              "      <td>3</td>\n",
              "      <td>3</td>\n",
              "      <td>8</td>\n",
              "      <td>7</td>\n",
              "      <td>3</td>\n",
              "      <td>0</td>\n",
              "    </tr>\n",
              "    <tr>\n",
              "      <th>4</th>\n",
              "      <td>27</td>\n",
              "      <td>No</td>\n",
              "      <td>Travel_Rarely</td>\n",
              "      <td>591</td>\n",
              "      <td>Research &amp; Development</td>\n",
              "      <td>2</td>\n",
              "      <td>1</td>\n",
              "      <td>Medical</td>\n",
              "      <td>1</td>\n",
              "      <td>7</td>\n",
              "      <td>1</td>\n",
              "      <td>Male</td>\n",
              "      <td>40</td>\n",
              "      <td>3</td>\n",
              "      <td>1</td>\n",
              "      <td>Laboratory Technician</td>\n",
              "      <td>2</td>\n",
              "      <td>Married</td>\n",
              "      <td>3468</td>\n",
              "      <td>16632</td>\n",
              "      <td>9</td>\n",
              "      <td>Y</td>\n",
              "      <td>No</td>\n",
              "      <td>12</td>\n",
              "      <td>3</td>\n",
              "      <td>4</td>\n",
              "      <td>80</td>\n",
              "      <td>1</td>\n",
              "      <td>6</td>\n",
              "      <td>3</td>\n",
              "      <td>3</td>\n",
              "      <td>2</td>\n",
              "      <td>2</td>\n",
              "      <td>2</td>\n",
              "      <td>2</td>\n",
              "    </tr>\n",
              "  </tbody>\n",
              "</table>\n",
              "</div>"
            ],
            "text/plain": [
              "   Age Attrition     BusinessTravel  DailyRate              Department  \\\n",
              "0   41       Yes      Travel_Rarely       1102                   Sales   \n",
              "1   49        No  Travel_Frequently        279  Research & Development   \n",
              "2   37       Yes      Travel_Rarely       1373  Research & Development   \n",
              "3   33        No  Travel_Frequently       1392  Research & Development   \n",
              "4   27        No      Travel_Rarely        591  Research & Development   \n",
              "\n",
              "   DistanceFromHome  Education EducationField  EmployeeCount  EmployeeNumber  \\\n",
              "0                 1          2  Life Sciences              1               1   \n",
              "1                 8          1  Life Sciences              1               2   \n",
              "2                 2          2          Other              1               4   \n",
              "3                 3          4  Life Sciences              1               5   \n",
              "4                 2          1        Medical              1               7   \n",
              "\n",
              "   EnvironmentSatisfaction  Gender  HourlyRate  JobInvolvement  JobLevel  \\\n",
              "0                        2  Female          94               3         2   \n",
              "1                        3    Male          61               2         2   \n",
              "2                        4    Male          92               2         1   \n",
              "3                        4  Female          56               3         1   \n",
              "4                        1    Male          40               3         1   \n",
              "\n",
              "                 JobRole  JobSatisfaction MaritalStatus  MonthlyIncome  \\\n",
              "0        Sales Executive                4        Single           5993   \n",
              "1     Research Scientist                2       Married           5130   \n",
              "2  Laboratory Technician                3        Single           2090   \n",
              "3     Research Scientist                3       Married           2909   \n",
              "4  Laboratory Technician                2       Married           3468   \n",
              "\n",
              "   MonthlyRate  NumCompaniesWorked Over18 OverTime  PercentSalaryHike  \\\n",
              "0        19479                   8      Y      Yes                 11   \n",
              "1        24907                   1      Y       No                 23   \n",
              "2         2396                   6      Y      Yes                 15   \n",
              "3        23159                   1      Y      Yes                 11   \n",
              "4        16632                   9      Y       No                 12   \n",
              "\n",
              "   PerformanceRating  RelationshipSatisfaction  StandardHours  \\\n",
              "0                  3                         1             80   \n",
              "1                  4                         4             80   \n",
              "2                  3                         2             80   \n",
              "3                  3                         3             80   \n",
              "4                  3                         4             80   \n",
              "\n",
              "   StockOptionLevel  TotalWorkingYears  TrainingTimesLastYear  \\\n",
              "0                 0                  8                      0   \n",
              "1                 1                 10                      3   \n",
              "2                 0                  7                      3   \n",
              "3                 0                  8                      3   \n",
              "4                 1                  6                      3   \n",
              "\n",
              "   WorkLifeBalance  YearsAtCompany  YearsInCurrentRole  \\\n",
              "0                1               6                   4   \n",
              "1                3              10                   7   \n",
              "2                3               0                   0   \n",
              "3                3               8                   7   \n",
              "4                3               2                   2   \n",
              "\n",
              "   YearsSinceLastPromotion  YearsWithCurrManager  \n",
              "0                        0                     5  \n",
              "1                        1                     7  \n",
              "2                        0                     0  \n",
              "3                        3                     0  \n",
              "4                        2                     2  "
            ]
          },
          "execution_count": 134,
          "metadata": {},
          "output_type": "execute_result"
        }
      ],
      "source": [
        "df = pd.read_csv('WA_Fn-UseC_-HR-Employee-Attrition.csv')\n",
        "df.head()"
      ]
    },
    {
      "cell_type": "markdown",
      "id": "micro-science",
      "metadata": {
        "id": "micro-science"
      },
      "source": [
        "### Exploratory Data Analysis"
      ]
    },
    {
      "cell_type": "code",
      "execution_count": null,
      "id": "protected-proof",
      "metadata": {
        "id": "protected-proof",
        "outputId": "1eb4cf54-6226-4b82-e6ed-d71f8652ba28"
      },
      "outputs": [
        {
          "name": "stdout",
          "output_type": "stream",
          "text": [
            "<class 'pandas.core.frame.DataFrame'>\n",
            "RangeIndex: 1470 entries, 0 to 1469\n",
            "Data columns (total 35 columns):\n",
            " #   Column                    Non-Null Count  Dtype \n",
            "---  ------                    --------------  ----- \n",
            " 0   Age                       1470 non-null   int64 \n",
            " 1   Attrition                 1470 non-null   object\n",
            " 2   BusinessTravel            1470 non-null   object\n",
            " 3   DailyRate                 1470 non-null   int64 \n",
            " 4   Department                1470 non-null   object\n",
            " 5   DistanceFromHome          1470 non-null   int64 \n",
            " 6   Education                 1470 non-null   int64 \n",
            " 7   EducationField            1470 non-null   object\n",
            " 8   EmployeeCount             1470 non-null   int64 \n",
            " 9   EmployeeNumber            1470 non-null   int64 \n",
            " 10  EnvironmentSatisfaction   1470 non-null   int64 \n",
            " 11  Gender                    1470 non-null   object\n",
            " 12  HourlyRate                1470 non-null   int64 \n",
            " 13  JobInvolvement            1470 non-null   int64 \n",
            " 14  JobLevel                  1470 non-null   int64 \n",
            " 15  JobRole                   1470 non-null   object\n",
            " 16  JobSatisfaction           1470 non-null   int64 \n",
            " 17  MaritalStatus             1470 non-null   object\n",
            " 18  MonthlyIncome             1470 non-null   int64 \n",
            " 19  MonthlyRate               1470 non-null   int64 \n",
            " 20  NumCompaniesWorked        1470 non-null   int64 \n",
            " 21  Over18                    1470 non-null   object\n",
            " 22  OverTime                  1470 non-null   object\n",
            " 23  PercentSalaryHike         1470 non-null   int64 \n",
            " 24  PerformanceRating         1470 non-null   int64 \n",
            " 25  RelationshipSatisfaction  1470 non-null   int64 \n",
            " 26  StandardHours             1470 non-null   int64 \n",
            " 27  StockOptionLevel          1470 non-null   int64 \n",
            " 28  TotalWorkingYears         1470 non-null   int64 \n",
            " 29  TrainingTimesLastYear     1470 non-null   int64 \n",
            " 30  WorkLifeBalance           1470 non-null   int64 \n",
            " 31  YearsAtCompany            1470 non-null   int64 \n",
            " 32  YearsInCurrentRole        1470 non-null   int64 \n",
            " 33  YearsSinceLastPromotion   1470 non-null   int64 \n",
            " 34  YearsWithCurrManager      1470 non-null   int64 \n",
            "dtypes: int64(26), object(9)\n",
            "memory usage: 402.1+ KB\n"
          ]
        }
      ],
      "source": [
        "df.info()"
      ]
    },
    {
      "cell_type": "code",
      "execution_count": null,
      "id": "opponent-brief",
      "metadata": {
        "id": "opponent-brief",
        "outputId": "ccc8237f-cf88-4eec-f11d-90481db97d0a"
      },
      "outputs": [
        {
          "data": {
            "text/plain": [
              "(1470, 35)"
            ]
          },
          "execution_count": 5,
          "metadata": {},
          "output_type": "execute_result"
        }
      ],
      "source": [
        "df.shape"
      ]
    },
    {
      "cell_type": "code",
      "execution_count": null,
      "id": "meaningful-merit",
      "metadata": {
        "id": "meaningful-merit"
      },
      "outputs": [],
      "source": [
        "numeric_cols = df.select_dtypes(include=['int64','float64']).columns.tolist()\n",
        "categorical_cols = df.select_dtypes(include=['object']).columns.tolist()"
      ]
    },
    {
      "cell_type": "code",
      "execution_count": null,
      "id": "ordered-bridges",
      "metadata": {
        "id": "ordered-bridges",
        "outputId": "b1d1bfd3-09d3-4b85-f6a4-94711cc3ca69"
      },
      "outputs": [
        {
          "data": {
            "text/html": [
              "<div>\n",
              "<style scoped>\n",
              "    .dataframe tbody tr th:only-of-type {\n",
              "        vertical-align: middle;\n",
              "    }\n",
              "\n",
              "    .dataframe tbody tr th {\n",
              "        vertical-align: top;\n",
              "    }\n",
              "\n",
              "    .dataframe thead th {\n",
              "        text-align: right;\n",
              "    }\n",
              "</style>\n",
              "<table border=\"1\" class=\"dataframe\">\n",
              "  <thead>\n",
              "    <tr style=\"text-align: right;\">\n",
              "      <th></th>\n",
              "      <th>Age</th>\n",
              "      <th>DailyRate</th>\n",
              "      <th>DistanceFromHome</th>\n",
              "      <th>Education</th>\n",
              "      <th>EmployeeCount</th>\n",
              "      <th>EmployeeNumber</th>\n",
              "      <th>EnvironmentSatisfaction</th>\n",
              "      <th>HourlyRate</th>\n",
              "      <th>JobInvolvement</th>\n",
              "      <th>JobLevel</th>\n",
              "      <th>JobSatisfaction</th>\n",
              "      <th>MonthlyIncome</th>\n",
              "      <th>MonthlyRate</th>\n",
              "      <th>NumCompaniesWorked</th>\n",
              "      <th>PercentSalaryHike</th>\n",
              "      <th>PerformanceRating</th>\n",
              "      <th>RelationshipSatisfaction</th>\n",
              "      <th>StandardHours</th>\n",
              "      <th>StockOptionLevel</th>\n",
              "      <th>TotalWorkingYears</th>\n",
              "      <th>TrainingTimesLastYear</th>\n",
              "      <th>WorkLifeBalance</th>\n",
              "      <th>YearsAtCompany</th>\n",
              "      <th>YearsInCurrentRole</th>\n",
              "      <th>YearsSinceLastPromotion</th>\n",
              "      <th>YearsWithCurrManager</th>\n",
              "    </tr>\n",
              "  </thead>\n",
              "  <tbody>\n",
              "    <tr>\n",
              "      <th>0</th>\n",
              "      <td>41</td>\n",
              "      <td>1102</td>\n",
              "      <td>1</td>\n",
              "      <td>2</td>\n",
              "      <td>1</td>\n",
              "      <td>1</td>\n",
              "      <td>2</td>\n",
              "      <td>94</td>\n",
              "      <td>3</td>\n",
              "      <td>2</td>\n",
              "      <td>4</td>\n",
              "      <td>5993</td>\n",
              "      <td>19479</td>\n",
              "      <td>8</td>\n",
              "      <td>11</td>\n",
              "      <td>3</td>\n",
              "      <td>1</td>\n",
              "      <td>80</td>\n",
              "      <td>0</td>\n",
              "      <td>8</td>\n",
              "      <td>0</td>\n",
              "      <td>1</td>\n",
              "      <td>6</td>\n",
              "      <td>4</td>\n",
              "      <td>0</td>\n",
              "      <td>5</td>\n",
              "    </tr>\n",
              "    <tr>\n",
              "      <th>1</th>\n",
              "      <td>49</td>\n",
              "      <td>279</td>\n",
              "      <td>8</td>\n",
              "      <td>1</td>\n",
              "      <td>1</td>\n",
              "      <td>2</td>\n",
              "      <td>3</td>\n",
              "      <td>61</td>\n",
              "      <td>2</td>\n",
              "      <td>2</td>\n",
              "      <td>2</td>\n",
              "      <td>5130</td>\n",
              "      <td>24907</td>\n",
              "      <td>1</td>\n",
              "      <td>23</td>\n",
              "      <td>4</td>\n",
              "      <td>4</td>\n",
              "      <td>80</td>\n",
              "      <td>1</td>\n",
              "      <td>10</td>\n",
              "      <td>3</td>\n",
              "      <td>3</td>\n",
              "      <td>10</td>\n",
              "      <td>7</td>\n",
              "      <td>1</td>\n",
              "      <td>7</td>\n",
              "    </tr>\n",
              "    <tr>\n",
              "      <th>2</th>\n",
              "      <td>37</td>\n",
              "      <td>1373</td>\n",
              "      <td>2</td>\n",
              "      <td>2</td>\n",
              "      <td>1</td>\n",
              "      <td>4</td>\n",
              "      <td>4</td>\n",
              "      <td>92</td>\n",
              "      <td>2</td>\n",
              "      <td>1</td>\n",
              "      <td>3</td>\n",
              "      <td>2090</td>\n",
              "      <td>2396</td>\n",
              "      <td>6</td>\n",
              "      <td>15</td>\n",
              "      <td>3</td>\n",
              "      <td>2</td>\n",
              "      <td>80</td>\n",
              "      <td>0</td>\n",
              "      <td>7</td>\n",
              "      <td>3</td>\n",
              "      <td>3</td>\n",
              "      <td>0</td>\n",
              "      <td>0</td>\n",
              "      <td>0</td>\n",
              "      <td>0</td>\n",
              "    </tr>\n",
              "    <tr>\n",
              "      <th>3</th>\n",
              "      <td>33</td>\n",
              "      <td>1392</td>\n",
              "      <td>3</td>\n",
              "      <td>4</td>\n",
              "      <td>1</td>\n",
              "      <td>5</td>\n",
              "      <td>4</td>\n",
              "      <td>56</td>\n",
              "      <td>3</td>\n",
              "      <td>1</td>\n",
              "      <td>3</td>\n",
              "      <td>2909</td>\n",
              "      <td>23159</td>\n",
              "      <td>1</td>\n",
              "      <td>11</td>\n",
              "      <td>3</td>\n",
              "      <td>3</td>\n",
              "      <td>80</td>\n",
              "      <td>0</td>\n",
              "      <td>8</td>\n",
              "      <td>3</td>\n",
              "      <td>3</td>\n",
              "      <td>8</td>\n",
              "      <td>7</td>\n",
              "      <td>3</td>\n",
              "      <td>0</td>\n",
              "    </tr>\n",
              "    <tr>\n",
              "      <th>4</th>\n",
              "      <td>27</td>\n",
              "      <td>591</td>\n",
              "      <td>2</td>\n",
              "      <td>1</td>\n",
              "      <td>1</td>\n",
              "      <td>7</td>\n",
              "      <td>1</td>\n",
              "      <td>40</td>\n",
              "      <td>3</td>\n",
              "      <td>1</td>\n",
              "      <td>2</td>\n",
              "      <td>3468</td>\n",
              "      <td>16632</td>\n",
              "      <td>9</td>\n",
              "      <td>12</td>\n",
              "      <td>3</td>\n",
              "      <td>4</td>\n",
              "      <td>80</td>\n",
              "      <td>1</td>\n",
              "      <td>6</td>\n",
              "      <td>3</td>\n",
              "      <td>3</td>\n",
              "      <td>2</td>\n",
              "      <td>2</td>\n",
              "      <td>2</td>\n",
              "      <td>2</td>\n",
              "    </tr>\n",
              "  </tbody>\n",
              "</table>\n",
              "</div>"
            ],
            "text/plain": [
              "   Age  DailyRate  DistanceFromHome  Education  EmployeeCount  EmployeeNumber  \\\n",
              "0   41       1102                 1          2              1               1   \n",
              "1   49        279                 8          1              1               2   \n",
              "2   37       1373                 2          2              1               4   \n",
              "3   33       1392                 3          4              1               5   \n",
              "4   27        591                 2          1              1               7   \n",
              "\n",
              "   EnvironmentSatisfaction  HourlyRate  JobInvolvement  JobLevel  \\\n",
              "0                        2          94               3         2   \n",
              "1                        3          61               2         2   \n",
              "2                        4          92               2         1   \n",
              "3                        4          56               3         1   \n",
              "4                        1          40               3         1   \n",
              "\n",
              "   JobSatisfaction  MonthlyIncome  MonthlyRate  NumCompaniesWorked  \\\n",
              "0                4           5993        19479                   8   \n",
              "1                2           5130        24907                   1   \n",
              "2                3           2090         2396                   6   \n",
              "3                3           2909        23159                   1   \n",
              "4                2           3468        16632                   9   \n",
              "\n",
              "   PercentSalaryHike  PerformanceRating  RelationshipSatisfaction  \\\n",
              "0                 11                  3                         1   \n",
              "1                 23                  4                         4   \n",
              "2                 15                  3                         2   \n",
              "3                 11                  3                         3   \n",
              "4                 12                  3                         4   \n",
              "\n",
              "   StandardHours  StockOptionLevel  TotalWorkingYears  TrainingTimesLastYear  \\\n",
              "0             80                 0                  8                      0   \n",
              "1             80                 1                 10                      3   \n",
              "2             80                 0                  7                      3   \n",
              "3             80                 0                  8                      3   \n",
              "4             80                 1                  6                      3   \n",
              "\n",
              "   WorkLifeBalance  YearsAtCompany  YearsInCurrentRole  \\\n",
              "0                1               6                   4   \n",
              "1                3              10                   7   \n",
              "2                3               0                   0   \n",
              "3                3               8                   7   \n",
              "4                3               2                   2   \n",
              "\n",
              "   YearsSinceLastPromotion  YearsWithCurrManager  \n",
              "0                        0                     5  \n",
              "1                        1                     7  \n",
              "2                        0                     0  \n",
              "3                        3                     0  \n",
              "4                        2                     2  "
            ]
          },
          "execution_count": 136,
          "metadata": {},
          "output_type": "execute_result"
        }
      ],
      "source": [
        "df[numeric_cols].head()"
      ]
    },
    {
      "cell_type": "code",
      "execution_count": null,
      "id": "widespread-cooking",
      "metadata": {
        "id": "widespread-cooking",
        "outputId": "ea0b9c83-337b-4453-8b40-3b7b26c5b834"
      },
      "outputs": [
        {
          "data": {
            "text/html": [
              "<div>\n",
              "<style scoped>\n",
              "    .dataframe tbody tr th:only-of-type {\n",
              "        vertical-align: middle;\n",
              "    }\n",
              "\n",
              "    .dataframe tbody tr th {\n",
              "        vertical-align: top;\n",
              "    }\n",
              "\n",
              "    .dataframe thead th {\n",
              "        text-align: right;\n",
              "    }\n",
              "</style>\n",
              "<table border=\"1\" class=\"dataframe\">\n",
              "  <thead>\n",
              "    <tr style=\"text-align: right;\">\n",
              "      <th></th>\n",
              "      <th>Attrition</th>\n",
              "      <th>BusinessTravel</th>\n",
              "      <th>Department</th>\n",
              "      <th>EducationField</th>\n",
              "      <th>Gender</th>\n",
              "      <th>JobRole</th>\n",
              "      <th>MaritalStatus</th>\n",
              "      <th>Over18</th>\n",
              "      <th>OverTime</th>\n",
              "    </tr>\n",
              "  </thead>\n",
              "  <tbody>\n",
              "    <tr>\n",
              "      <th>0</th>\n",
              "      <td>Yes</td>\n",
              "      <td>Travel_Rarely</td>\n",
              "      <td>Sales</td>\n",
              "      <td>Life Sciences</td>\n",
              "      <td>Female</td>\n",
              "      <td>Sales Executive</td>\n",
              "      <td>Single</td>\n",
              "      <td>Y</td>\n",
              "      <td>Yes</td>\n",
              "    </tr>\n",
              "    <tr>\n",
              "      <th>1</th>\n",
              "      <td>No</td>\n",
              "      <td>Travel_Frequently</td>\n",
              "      <td>Research &amp; Development</td>\n",
              "      <td>Life Sciences</td>\n",
              "      <td>Male</td>\n",
              "      <td>Research Scientist</td>\n",
              "      <td>Married</td>\n",
              "      <td>Y</td>\n",
              "      <td>No</td>\n",
              "    </tr>\n",
              "    <tr>\n",
              "      <th>2</th>\n",
              "      <td>Yes</td>\n",
              "      <td>Travel_Rarely</td>\n",
              "      <td>Research &amp; Development</td>\n",
              "      <td>Other</td>\n",
              "      <td>Male</td>\n",
              "      <td>Laboratory Technician</td>\n",
              "      <td>Single</td>\n",
              "      <td>Y</td>\n",
              "      <td>Yes</td>\n",
              "    </tr>\n",
              "    <tr>\n",
              "      <th>3</th>\n",
              "      <td>No</td>\n",
              "      <td>Travel_Frequently</td>\n",
              "      <td>Research &amp; Development</td>\n",
              "      <td>Life Sciences</td>\n",
              "      <td>Female</td>\n",
              "      <td>Research Scientist</td>\n",
              "      <td>Married</td>\n",
              "      <td>Y</td>\n",
              "      <td>Yes</td>\n",
              "    </tr>\n",
              "    <tr>\n",
              "      <th>4</th>\n",
              "      <td>No</td>\n",
              "      <td>Travel_Rarely</td>\n",
              "      <td>Research &amp; Development</td>\n",
              "      <td>Medical</td>\n",
              "      <td>Male</td>\n",
              "      <td>Laboratory Technician</td>\n",
              "      <td>Married</td>\n",
              "      <td>Y</td>\n",
              "      <td>No</td>\n",
              "    </tr>\n",
              "  </tbody>\n",
              "</table>\n",
              "</div>"
            ],
            "text/plain": [
              "  Attrition     BusinessTravel              Department EducationField  Gender  \\\n",
              "0       Yes      Travel_Rarely                   Sales  Life Sciences  Female   \n",
              "1        No  Travel_Frequently  Research & Development  Life Sciences    Male   \n",
              "2       Yes      Travel_Rarely  Research & Development          Other    Male   \n",
              "3        No  Travel_Frequently  Research & Development  Life Sciences  Female   \n",
              "4        No      Travel_Rarely  Research & Development        Medical    Male   \n",
              "\n",
              "                 JobRole MaritalStatus Over18 OverTime  \n",
              "0        Sales Executive        Single      Y      Yes  \n",
              "1     Research Scientist       Married      Y       No  \n",
              "2  Laboratory Technician        Single      Y      Yes  \n",
              "3     Research Scientist       Married      Y      Yes  \n",
              "4  Laboratory Technician       Married      Y       No  "
            ]
          },
          "execution_count": 8,
          "metadata": {},
          "output_type": "execute_result"
        }
      ],
      "source": [
        "df[categorical_cols].head()"
      ]
    },
    {
      "cell_type": "code",
      "execution_count": null,
      "id": "signal-burke",
      "metadata": {
        "id": "signal-burke",
        "outputId": "b4dc5c3a-c118-45af-8f87-ea0992f90a95"
      },
      "outputs": [
        {
          "data": {
            "text/plain": [
              "Series([], dtype: int64)"
            ]
          },
          "execution_count": 137,
          "metadata": {},
          "output_type": "execute_result"
        }
      ],
      "source": [
        "missing_counts = df[numeric_cols].isna().sum().sort_values(ascending = False)\n",
        "missing_counts[missing_counts>0]"
      ]
    },
    {
      "cell_type": "code",
      "execution_count": null,
      "id": "noticed-place",
      "metadata": {
        "id": "noticed-place",
        "outputId": "4c5ed9b9-66ef-4f5f-88a2-c479169e87b9"
      },
      "outputs": [
        {
          "data": {
            "text/plain": [
              "Series([], dtype: int64)"
            ]
          },
          "execution_count": 138,
          "metadata": {},
          "output_type": "execute_result"
        }
      ],
      "source": [
        "missing_counts = df[categorical_cols].isna().sum().sort_values(ascending = False)\n",
        "missing_counts[missing_counts>0]"
      ]
    },
    {
      "cell_type": "code",
      "execution_count": null,
      "id": "identified-fence",
      "metadata": {
        "id": "identified-fence",
        "outputId": "e9459b77-1c34-421a-9890-2a2ae478e2bd"
      },
      "outputs": [
        {
          "data": {
            "text/html": [
              "<div>\n",
              "<style scoped>\n",
              "    .dataframe tbody tr th:only-of-type {\n",
              "        vertical-align: middle;\n",
              "    }\n",
              "\n",
              "    .dataframe tbody tr th {\n",
              "        vertical-align: top;\n",
              "    }\n",
              "\n",
              "    .dataframe thead th {\n",
              "        text-align: right;\n",
              "    }\n",
              "</style>\n",
              "<table border=\"1\" class=\"dataframe\">\n",
              "  <thead>\n",
              "    <tr style=\"text-align: right;\">\n",
              "      <th></th>\n",
              "      <th>Age</th>\n",
              "      <th>DailyRate</th>\n",
              "      <th>DistanceFromHome</th>\n",
              "      <th>Education</th>\n",
              "      <th>EmployeeCount</th>\n",
              "      <th>EmployeeNumber</th>\n",
              "      <th>EnvironmentSatisfaction</th>\n",
              "      <th>HourlyRate</th>\n",
              "      <th>JobInvolvement</th>\n",
              "      <th>JobLevel</th>\n",
              "      <th>JobSatisfaction</th>\n",
              "      <th>MonthlyIncome</th>\n",
              "      <th>MonthlyRate</th>\n",
              "      <th>NumCompaniesWorked</th>\n",
              "      <th>PercentSalaryHike</th>\n",
              "      <th>PerformanceRating</th>\n",
              "      <th>RelationshipSatisfaction</th>\n",
              "      <th>StandardHours</th>\n",
              "      <th>StockOptionLevel</th>\n",
              "      <th>TotalWorkingYears</th>\n",
              "      <th>TrainingTimesLastYear</th>\n",
              "      <th>WorkLifeBalance</th>\n",
              "      <th>YearsAtCompany</th>\n",
              "      <th>YearsInCurrentRole</th>\n",
              "      <th>YearsSinceLastPromotion</th>\n",
              "      <th>YearsWithCurrManager</th>\n",
              "    </tr>\n",
              "  </thead>\n",
              "  <tbody>\n",
              "    <tr>\n",
              "      <th>count</th>\n",
              "      <td>1470.000000</td>\n",
              "      <td>1470.000000</td>\n",
              "      <td>1470.000000</td>\n",
              "      <td>1470.000000</td>\n",
              "      <td>1470.0</td>\n",
              "      <td>1470.000000</td>\n",
              "      <td>1470.000000</td>\n",
              "      <td>1470.000000</td>\n",
              "      <td>1470.000000</td>\n",
              "      <td>1470.000000</td>\n",
              "      <td>1470.000000</td>\n",
              "      <td>1470.000000</td>\n",
              "      <td>1470.000000</td>\n",
              "      <td>1470.000000</td>\n",
              "      <td>1470.000000</td>\n",
              "      <td>1470.000000</td>\n",
              "      <td>1470.000000</td>\n",
              "      <td>1470.0</td>\n",
              "      <td>1470.000000</td>\n",
              "      <td>1470.000000</td>\n",
              "      <td>1470.000000</td>\n",
              "      <td>1470.000000</td>\n",
              "      <td>1470.000000</td>\n",
              "      <td>1470.000000</td>\n",
              "      <td>1470.000000</td>\n",
              "      <td>1470.000000</td>\n",
              "    </tr>\n",
              "    <tr>\n",
              "      <th>mean</th>\n",
              "      <td>36.923810</td>\n",
              "      <td>802.485714</td>\n",
              "      <td>9.192517</td>\n",
              "      <td>2.912925</td>\n",
              "      <td>1.0</td>\n",
              "      <td>1024.865306</td>\n",
              "      <td>2.721769</td>\n",
              "      <td>65.891156</td>\n",
              "      <td>2.729932</td>\n",
              "      <td>2.063946</td>\n",
              "      <td>2.728571</td>\n",
              "      <td>6502.931293</td>\n",
              "      <td>14313.103401</td>\n",
              "      <td>2.693197</td>\n",
              "      <td>15.209524</td>\n",
              "      <td>3.153741</td>\n",
              "      <td>2.712245</td>\n",
              "      <td>80.0</td>\n",
              "      <td>0.793878</td>\n",
              "      <td>11.279592</td>\n",
              "      <td>2.799320</td>\n",
              "      <td>2.761224</td>\n",
              "      <td>7.008163</td>\n",
              "      <td>4.229252</td>\n",
              "      <td>2.187755</td>\n",
              "      <td>4.123129</td>\n",
              "    </tr>\n",
              "    <tr>\n",
              "      <th>std</th>\n",
              "      <td>9.135373</td>\n",
              "      <td>403.509100</td>\n",
              "      <td>8.106864</td>\n",
              "      <td>1.024165</td>\n",
              "      <td>0.0</td>\n",
              "      <td>602.024335</td>\n",
              "      <td>1.093082</td>\n",
              "      <td>20.329428</td>\n",
              "      <td>0.711561</td>\n",
              "      <td>1.106940</td>\n",
              "      <td>1.102846</td>\n",
              "      <td>4707.956783</td>\n",
              "      <td>7117.786044</td>\n",
              "      <td>2.498009</td>\n",
              "      <td>3.659938</td>\n",
              "      <td>0.360824</td>\n",
              "      <td>1.081209</td>\n",
              "      <td>0.0</td>\n",
              "      <td>0.852077</td>\n",
              "      <td>7.780782</td>\n",
              "      <td>1.289271</td>\n",
              "      <td>0.706476</td>\n",
              "      <td>6.126525</td>\n",
              "      <td>3.623137</td>\n",
              "      <td>3.222430</td>\n",
              "      <td>3.568136</td>\n",
              "    </tr>\n",
              "    <tr>\n",
              "      <th>min</th>\n",
              "      <td>18.000000</td>\n",
              "      <td>102.000000</td>\n",
              "      <td>1.000000</td>\n",
              "      <td>1.000000</td>\n",
              "      <td>1.0</td>\n",
              "      <td>1.000000</td>\n",
              "      <td>1.000000</td>\n",
              "      <td>30.000000</td>\n",
              "      <td>1.000000</td>\n",
              "      <td>1.000000</td>\n",
              "      <td>1.000000</td>\n",
              "      <td>1009.000000</td>\n",
              "      <td>2094.000000</td>\n",
              "      <td>0.000000</td>\n",
              "      <td>11.000000</td>\n",
              "      <td>3.000000</td>\n",
              "      <td>1.000000</td>\n",
              "      <td>80.0</td>\n",
              "      <td>0.000000</td>\n",
              "      <td>0.000000</td>\n",
              "      <td>0.000000</td>\n",
              "      <td>1.000000</td>\n",
              "      <td>0.000000</td>\n",
              "      <td>0.000000</td>\n",
              "      <td>0.000000</td>\n",
              "      <td>0.000000</td>\n",
              "    </tr>\n",
              "    <tr>\n",
              "      <th>25%</th>\n",
              "      <td>30.000000</td>\n",
              "      <td>465.000000</td>\n",
              "      <td>2.000000</td>\n",
              "      <td>2.000000</td>\n",
              "      <td>1.0</td>\n",
              "      <td>491.250000</td>\n",
              "      <td>2.000000</td>\n",
              "      <td>48.000000</td>\n",
              "      <td>2.000000</td>\n",
              "      <td>1.000000</td>\n",
              "      <td>2.000000</td>\n",
              "      <td>2911.000000</td>\n",
              "      <td>8047.000000</td>\n",
              "      <td>1.000000</td>\n",
              "      <td>12.000000</td>\n",
              "      <td>3.000000</td>\n",
              "      <td>2.000000</td>\n",
              "      <td>80.0</td>\n",
              "      <td>0.000000</td>\n",
              "      <td>6.000000</td>\n",
              "      <td>2.000000</td>\n",
              "      <td>2.000000</td>\n",
              "      <td>3.000000</td>\n",
              "      <td>2.000000</td>\n",
              "      <td>0.000000</td>\n",
              "      <td>2.000000</td>\n",
              "    </tr>\n",
              "    <tr>\n",
              "      <th>50%</th>\n",
              "      <td>36.000000</td>\n",
              "      <td>802.000000</td>\n",
              "      <td>7.000000</td>\n",
              "      <td>3.000000</td>\n",
              "      <td>1.0</td>\n",
              "      <td>1020.500000</td>\n",
              "      <td>3.000000</td>\n",
              "      <td>66.000000</td>\n",
              "      <td>3.000000</td>\n",
              "      <td>2.000000</td>\n",
              "      <td>3.000000</td>\n",
              "      <td>4919.000000</td>\n",
              "      <td>14235.500000</td>\n",
              "      <td>2.000000</td>\n",
              "      <td>14.000000</td>\n",
              "      <td>3.000000</td>\n",
              "      <td>3.000000</td>\n",
              "      <td>80.0</td>\n",
              "      <td>1.000000</td>\n",
              "      <td>10.000000</td>\n",
              "      <td>3.000000</td>\n",
              "      <td>3.000000</td>\n",
              "      <td>5.000000</td>\n",
              "      <td>3.000000</td>\n",
              "      <td>1.000000</td>\n",
              "      <td>3.000000</td>\n",
              "    </tr>\n",
              "    <tr>\n",
              "      <th>75%</th>\n",
              "      <td>43.000000</td>\n",
              "      <td>1157.000000</td>\n",
              "      <td>14.000000</td>\n",
              "      <td>4.000000</td>\n",
              "      <td>1.0</td>\n",
              "      <td>1555.750000</td>\n",
              "      <td>4.000000</td>\n",
              "      <td>83.750000</td>\n",
              "      <td>3.000000</td>\n",
              "      <td>3.000000</td>\n",
              "      <td>4.000000</td>\n",
              "      <td>8379.000000</td>\n",
              "      <td>20461.500000</td>\n",
              "      <td>4.000000</td>\n",
              "      <td>18.000000</td>\n",
              "      <td>3.000000</td>\n",
              "      <td>4.000000</td>\n",
              "      <td>80.0</td>\n",
              "      <td>1.000000</td>\n",
              "      <td>15.000000</td>\n",
              "      <td>3.000000</td>\n",
              "      <td>3.000000</td>\n",
              "      <td>9.000000</td>\n",
              "      <td>7.000000</td>\n",
              "      <td>3.000000</td>\n",
              "      <td>7.000000</td>\n",
              "    </tr>\n",
              "    <tr>\n",
              "      <th>max</th>\n",
              "      <td>60.000000</td>\n",
              "      <td>1499.000000</td>\n",
              "      <td>29.000000</td>\n",
              "      <td>5.000000</td>\n",
              "      <td>1.0</td>\n",
              "      <td>2068.000000</td>\n",
              "      <td>4.000000</td>\n",
              "      <td>100.000000</td>\n",
              "      <td>4.000000</td>\n",
              "      <td>5.000000</td>\n",
              "      <td>4.000000</td>\n",
              "      <td>19999.000000</td>\n",
              "      <td>26999.000000</td>\n",
              "      <td>9.000000</td>\n",
              "      <td>25.000000</td>\n",
              "      <td>4.000000</td>\n",
              "      <td>4.000000</td>\n",
              "      <td>80.0</td>\n",
              "      <td>3.000000</td>\n",
              "      <td>40.000000</td>\n",
              "      <td>6.000000</td>\n",
              "      <td>4.000000</td>\n",
              "      <td>40.000000</td>\n",
              "      <td>18.000000</td>\n",
              "      <td>15.000000</td>\n",
              "      <td>17.000000</td>\n",
              "    </tr>\n",
              "  </tbody>\n",
              "</table>\n",
              "</div>"
            ],
            "text/plain": [
              "               Age    DailyRate  DistanceFromHome    Education  EmployeeCount  \\\n",
              "count  1470.000000  1470.000000       1470.000000  1470.000000         1470.0   \n",
              "mean     36.923810   802.485714          9.192517     2.912925            1.0   \n",
              "std       9.135373   403.509100          8.106864     1.024165            0.0   \n",
              "min      18.000000   102.000000          1.000000     1.000000            1.0   \n",
              "25%      30.000000   465.000000          2.000000     2.000000            1.0   \n",
              "50%      36.000000   802.000000          7.000000     3.000000            1.0   \n",
              "75%      43.000000  1157.000000         14.000000     4.000000            1.0   \n",
              "max      60.000000  1499.000000         29.000000     5.000000            1.0   \n",
              "\n",
              "       EmployeeNumber  EnvironmentSatisfaction   HourlyRate  JobInvolvement  \\\n",
              "count     1470.000000              1470.000000  1470.000000     1470.000000   \n",
              "mean      1024.865306                 2.721769    65.891156        2.729932   \n",
              "std        602.024335                 1.093082    20.329428        0.711561   \n",
              "min          1.000000                 1.000000    30.000000        1.000000   \n",
              "25%        491.250000                 2.000000    48.000000        2.000000   \n",
              "50%       1020.500000                 3.000000    66.000000        3.000000   \n",
              "75%       1555.750000                 4.000000    83.750000        3.000000   \n",
              "max       2068.000000                 4.000000   100.000000        4.000000   \n",
              "\n",
              "          JobLevel  JobSatisfaction  MonthlyIncome   MonthlyRate  \\\n",
              "count  1470.000000      1470.000000    1470.000000   1470.000000   \n",
              "mean      2.063946         2.728571    6502.931293  14313.103401   \n",
              "std       1.106940         1.102846    4707.956783   7117.786044   \n",
              "min       1.000000         1.000000    1009.000000   2094.000000   \n",
              "25%       1.000000         2.000000    2911.000000   8047.000000   \n",
              "50%       2.000000         3.000000    4919.000000  14235.500000   \n",
              "75%       3.000000         4.000000    8379.000000  20461.500000   \n",
              "max       5.000000         4.000000   19999.000000  26999.000000   \n",
              "\n",
              "       NumCompaniesWorked  PercentSalaryHike  PerformanceRating  \\\n",
              "count         1470.000000        1470.000000        1470.000000   \n",
              "mean             2.693197          15.209524           3.153741   \n",
              "std              2.498009           3.659938           0.360824   \n",
              "min              0.000000          11.000000           3.000000   \n",
              "25%              1.000000          12.000000           3.000000   \n",
              "50%              2.000000          14.000000           3.000000   \n",
              "75%              4.000000          18.000000           3.000000   \n",
              "max              9.000000          25.000000           4.000000   \n",
              "\n",
              "       RelationshipSatisfaction  StandardHours  StockOptionLevel  \\\n",
              "count               1470.000000         1470.0       1470.000000   \n",
              "mean                   2.712245           80.0          0.793878   \n",
              "std                    1.081209            0.0          0.852077   \n",
              "min                    1.000000           80.0          0.000000   \n",
              "25%                    2.000000           80.0          0.000000   \n",
              "50%                    3.000000           80.0          1.000000   \n",
              "75%                    4.000000           80.0          1.000000   \n",
              "max                    4.000000           80.0          3.000000   \n",
              "\n",
              "       TotalWorkingYears  TrainingTimesLastYear  WorkLifeBalance  \\\n",
              "count        1470.000000            1470.000000      1470.000000   \n",
              "mean           11.279592               2.799320         2.761224   \n",
              "std             7.780782               1.289271         0.706476   \n",
              "min             0.000000               0.000000         1.000000   \n",
              "25%             6.000000               2.000000         2.000000   \n",
              "50%            10.000000               3.000000         3.000000   \n",
              "75%            15.000000               3.000000         3.000000   \n",
              "max            40.000000               6.000000         4.000000   \n",
              "\n",
              "       YearsAtCompany  YearsInCurrentRole  YearsSinceLastPromotion  \\\n",
              "count     1470.000000         1470.000000              1470.000000   \n",
              "mean         7.008163            4.229252                 2.187755   \n",
              "std          6.126525            3.623137                 3.222430   \n",
              "min          0.000000            0.000000                 0.000000   \n",
              "25%          3.000000            2.000000                 0.000000   \n",
              "50%          5.000000            3.000000                 1.000000   \n",
              "75%          9.000000            7.000000                 3.000000   \n",
              "max         40.000000           18.000000                15.000000   \n",
              "\n",
              "       YearsWithCurrManager  \n",
              "count           1470.000000  \n",
              "mean               4.123129  \n",
              "std                3.568136  \n",
              "min                0.000000  \n",
              "25%                2.000000  \n",
              "50%                3.000000  \n",
              "75%                7.000000  \n",
              "max               17.000000  "
            ]
          },
          "execution_count": 139,
          "metadata": {},
          "output_type": "execute_result"
        }
      ],
      "source": [
        "df[numeric_cols].describe()"
      ]
    },
    {
      "cell_type": "code",
      "execution_count": null,
      "id": "aggressive-reconstruction",
      "metadata": {
        "id": "aggressive-reconstruction",
        "outputId": "3011e0f6-7049-4665-aceb-be74abb855eb"
      },
      "outputs": [
        {
          "data": {
            "text/plain": [
              "No     1233\n",
              "Yes     237\n",
              "Name: Attrition, dtype: int64"
            ]
          },
          "execution_count": 12,
          "metadata": {},
          "output_type": "execute_result"
        }
      ],
      "source": [
        "df['Attrition'].value_counts()"
      ]
    },
    {
      "cell_type": "code",
      "execution_count": null,
      "id": "brazilian-morrison",
      "metadata": {
        "id": "brazilian-morrison",
        "outputId": "64570db1-3d3e-4fd3-da15-e9873623ba8d"
      },
      "outputs": [
        {
          "data": {
            "image/png": "[encoded data removed]",
            "text/plain": [
              "<Figure size 432x288 with 1 Axes>"
            ]
          },
          "metadata": {},
          "output_type": "display_data"
        }
      ],
      "source": [
        "r = df.groupby('Attrition')['Attrition'].count()\n",
        "plt.pie(r,explode=(0.05,0.1),labels=['No','Yes'],radius=1.5, autopct ='%1.1f%%',shadow=True )\n",
        "plt.show()"
      ]
    },
    {
      "cell_type": "code",
      "execution_count": null,
      "id": "suspended-telescope",
      "metadata": {
        "id": "suspended-telescope",
        "outputId": "7f08edbf-aa0c-48cf-f086-27489983126f"
      },
      "outputs": [
        {
          "data": {
            "text/plain": [
              "Research & Development    961\n",
              "Sales                     446\n",
              "Human Resources            63\n",
              "Name: Department, dtype: int64"
            ]
          },
          "execution_count": 14,
          "metadata": {},
          "output_type": "execute_result"
        }
      ],
      "source": [
        "df['Department'].value_counts()"
      ]
    },
    {
      "cell_type": "code",
      "execution_count": null,
      "id": "played-palmer",
      "metadata": {
        "id": "played-palmer",
        "outputId": "f40ae5a7-8122-4c54-b225-6f93e0079c0a"
      },
      "outputs": [
        {
          "data": {
            "text/plain": [
              "Life Sciences       606\n",
              "Medical             464\n",
              "Marketing           159\n",
              "Technical Degree    132\n",
              "Other                82\n",
              "Human Resources      27\n",
              "Name: EducationField, dtype: int64"
            ]
          },
          "execution_count": 15,
          "metadata": {},
          "output_type": "execute_result"
        }
      ],
      "source": [
        "df['EducationField'].value_counts()"
      ]
    },
    {
      "cell_type": "code",
      "execution_count": null,
      "id": "processed-india",
      "metadata": {
        "id": "processed-india",
        "outputId": "c1366976-c56e-4e64-974e-bb6855b6f16f"
      },
      "outputs": [
        {
          "data": {
            "text/plain": [
              "Sales Executive              326\n",
              "Research Scientist           292\n",
              "Laboratory Technician        259\n",
              "Manufacturing Director       145\n",
              "Healthcare Representative    131\n",
              "Manager                      102\n",
              "Sales Representative          83\n",
              "Research Director             80\n",
              "Human Resources               52\n",
              "Name: JobRole, dtype: int64"
            ]
          },
          "execution_count": 16,
          "metadata": {},
          "output_type": "execute_result"
        }
      ],
      "source": [
        "df['JobRole'].value_counts()"
      ]
    },
    {
      "cell_type": "code",
      "execution_count": null,
      "id": "mexican-darkness",
      "metadata": {
        "id": "mexican-darkness",
        "outputId": "2d14a175-4f39-449c-f04f-d100ed547765"
      },
      "outputs": [
        {
          "data": {
            "text/plain": [
              "Y    1470\n",
              "Name: Over18, dtype: int64"
            ]
          },
          "execution_count": 17,
          "metadata": {},
          "output_type": "execute_result"
        }
      ],
      "source": [
        "df['Over18'].value_counts()"
      ]
    },
    {
      "cell_type": "code",
      "execution_count": null,
      "id": "eastern-median",
      "metadata": {
        "id": "eastern-median"
      },
      "outputs": [],
      "source": [
        "# Reassign target\n",
        "df['Attrition'] = df['Attrition'].map({\"No\":0,\"Yes\":1})\n"
      ]
    },
    {
      "cell_type": "code",
      "execution_count": null,
      "id": "motivated-columbia",
      "metadata": {
        "id": "motivated-columbia",
        "outputId": "8ec0dfa6-b04b-42cb-c54c-2d7ad721166b"
      },
      "outputs": [
        {
          "data": {
            "text/plain": [
              "0    1233\n",
              "1     237\n",
              "Name: Attrition, dtype: int64"
            ]
          },
          "execution_count": 141,
          "metadata": {},
          "output_type": "execute_result"
        }
      ],
      "source": [
        "df['Attrition'].value_counts()"
      ]
    },
    {
      "cell_type": "code",
      "execution_count": null,
      "id": "infrared-drama",
      "metadata": {
        "id": "infrared-drama"
      },
      "outputs": [],
      "source": [
        "# Drop useless feat\n",
        "df = df.drop(columns=['StandardHours','EmployeeCount','Over18'])"
      ]
    },
    {
      "cell_type": "markdown",
      "id": "flush-option",
      "metadata": {
        "id": "flush-option"
      },
      "source": [
        "### Data Visualization"
      ]
    },
    {
      "cell_type": "code",
      "execution_count": null,
      "id": "copyrighted-pound",
      "metadata": {
        "id": "copyrighted-pound",
        "outputId": "9b054965-3be9-4f84-96f8-7f5e1df7c65d"
      },
      "outputs": [
        {
          "name": "stderr",
          "output_type": "stream",
          "text": [
            "C:\\Users\\gl3055109\\Anaconda3_1\\envs\\myenv\\lib\\site-packages\\seaborn\\distributions.py:2557: FutureWarning: `distplot` is a deprecated function and will be removed in a future version. Please adapt your code to use either `displot` (a figure-level function with similar flexibility) or `histplot` (an axes-level function for histograms).\n",
            "  warnings.warn(msg, FutureWarning)\n"
          ]
        },
        {
          "data": {
            "text/plain": [
              "<AxesSubplot:xlabel='Age', ylabel='Density'>"
            ]
          },
          "execution_count": 21,
          "metadata": {},
          "output_type": "execute_result"
        },
        {
          "data": {
            "image/png": "[encoded data removed]",
            "text/plain": [
              "<Figure size 1152x288 with 2 Axes>"
            ]
          },
          "metadata": {
            "needs_background": "light"
          },
          "output_type": "display_data"
        }
      ],
      "source": [
        "fig,axes = plt.subplots(1,2,figsize=(16,4))\n",
        "sns.boxplot(ax=axes[0],palette=\"Set3\",x=df['Age'])\n",
        "sns.distplot(ax=axes[1],color=\"Green\",a=df['Age'])"
      ]
    },
    {
      "cell_type": "code",
      "execution_count": null,
      "id": "fabulous-article",
      "metadata": {
        "id": "fabulous-article",
        "outputId": "89f45192-23f8-4a83-bc4d-46d75a872cb4"
      },
      "outputs": [
        {
          "name": "stderr",
          "output_type": "stream",
          "text": [
            "C:\\Users\\gl3055109\\Anaconda3_1\\envs\\myenv\\lib\\site-packages\\seaborn\\distributions.py:2557: FutureWarning: `distplot` is a deprecated function and will be removed in a future version. Please adapt your code to use either `displot` (a figure-level function with similar flexibility) or `histplot` (an axes-level function for histograms).\n",
            "  warnings.warn(msg, FutureWarning)\n"
          ]
        },
        {
          "data": {
            "text/plain": [
              "<AxesSubplot:xlabel='MonthlyIncome', ylabel='Density'>"
            ]
          },
          "execution_count": 22,
          "metadata": {},
          "output_type": "execute_result"
        },
        {
          "data": {
            "image/png": "[encoded data removed]",
            "text/plain": [
              "<Figure size 1152x288 with 2 Axes>"
            ]
          },
          "metadata": {
            "needs_background": "light"
          },
          "output_type": "display_data"
        }
      ],
      "source": [
        "fig,axes = plt.subplots(1,2,figsize=(16,4))\n",
        "sns.boxplot(ax=axes[0],palette=\"Set3\",x=df['MonthlyIncome'])\n",
        "sns.distplot(ax=axes[1],color=\"Green\",a=df['MonthlyIncome'])"
      ]
    },
    {
      "cell_type": "code",
      "execution_count": null,
      "id": "dynamic-provider",
      "metadata": {
        "id": "dynamic-provider",
        "outputId": "6782d7d1-7419-42fa-a25a-3c5faeb56ccd"
      },
      "outputs": [
        {
          "data": {
            "text/plain": [
              "81"
            ]
          },
          "execution_count": 23,
          "metadata": {},
          "output_type": "execute_result"
        }
      ],
      "source": [
        "len(df[df['MonthlyIncome']>17500])"
      ]
    },
    {
      "cell_type": "code",
      "execution_count": null,
      "id": "studied-convention",
      "metadata": {
        "id": "studied-convention",
        "outputId": "06539528-5206-48a5-cb3b-2ae97bd86dd4"
      },
      "outputs": [
        {
          "name": "stderr",
          "output_type": "stream",
          "text": [
            "C:\\Users\\gl3055109\\Anaconda3_1\\envs\\myenv\\lib\\site-packages\\seaborn\\distributions.py:2557: FutureWarning: `distplot` is a deprecated function and will be removed in a future version. Please adapt your code to use either `displot` (a figure-level function with similar flexibility) or `histplot` (an axes-level function for histograms).\n",
            "  warnings.warn(msg, FutureWarning)\n"
          ]
        },
        {
          "data": {
            "text/plain": [
              "<AxesSubplot:xlabel='TotalWorkingYears', ylabel='Density'>"
            ]
          },
          "execution_count": 24,
          "metadata": {},
          "output_type": "execute_result"
        },
        {
          "data": {
            "image/png": "[encoded data removed]",
            "text/plain": [
              "<Figure size 1152x288 with 2 Axes>"
            ]
          },
          "metadata": {
            "needs_background": "light"
          },
          "output_type": "display_data"
        }
      ],
      "source": [
        "fig, axes = plt.subplots(1,2,figsize=(16,4))\n",
        "sns.boxplot(ax=axes[0],palette=\"Set3\", x=df['TotalWorkingYears'])\n",
        "sns.distplot(ax=axes[1],color=\"Green\", a=df[\"TotalWorkingYears\"])"
      ]
    },
    {
      "cell_type": "code",
      "execution_count": null,
      "id": "twelve-arcade",
      "metadata": {
        "id": "twelve-arcade",
        "outputId": "f5784cb0-bf2e-4f6d-cc8c-dcfdc01efbb1"
      },
      "outputs": [
        {
          "data": {
            "text/plain": [
              "63"
            ]
          },
          "execution_count": 25,
          "metadata": {},
          "output_type": "execute_result"
        }
      ],
      "source": [
        "len(df[df['TotalWorkingYears']>28])"
      ]
    },
    {
      "cell_type": "code",
      "execution_count": null,
      "id": "powered-wedding",
      "metadata": {
        "id": "powered-wedding",
        "outputId": "a9abfeda-202c-4fd5-8f21-8d96b14d7960"
      },
      "outputs": [
        {
          "name": "stderr",
          "output_type": "stream",
          "text": [
            "C:\\Users\\gl3055109\\Anaconda3_1\\envs\\myenv\\lib\\site-packages\\seaborn\\distributions.py:2557: FutureWarning: `distplot` is a deprecated function and will be removed in a future version. Please adapt your code to use either `displot` (a figure-level function with similar flexibility) or `histplot` (an axes-level function for histograms).\n",
            "  warnings.warn(msg, FutureWarning)\n"
          ]
        },
        {
          "data": {
            "text/plain": [
              "<AxesSubplot:xlabel='YearsAtCompany', ylabel='Density'>"
            ]
          },
          "execution_count": 26,
          "metadata": {},
          "output_type": "execute_result"
        },
        {
          "data": {
            "image/png": "[encoded data removed]",
            "text/plain": [
              "<Figure size 1152x288 with 2 Axes>"
            ]
          },
          "metadata": {
            "needs_background": "light"
          },
          "output_type": "display_data"
        }
      ],
      "source": [
        "fig, axes = plt.subplots(1,2,figsize=(16,4))\n",
        "sns.boxplot(ax=axes[0],palette=\"Set3\", x=df['YearsAtCompany'])\n",
        "sns.distplot(ax=axes[1],color=\"Green\", a=df[\"YearsAtCompany\"])"
      ]
    },
    {
      "cell_type": "code",
      "execution_count": null,
      "id": "adjustable-network",
      "metadata": {
        "id": "adjustable-network",
        "outputId": "da891842-f0f3-4982-9207-6c515298eb99"
      },
      "outputs": [
        {
          "data": {
            "text/plain": [
              "104"
            ]
          },
          "execution_count": 27,
          "metadata": {},
          "output_type": "execute_result"
        }
      ],
      "source": [
        "len(df[df['YearsAtCompany']>18])"
      ]
    },
    {
      "cell_type": "code",
      "execution_count": null,
      "id": "cooperative-peter",
      "metadata": {
        "id": "cooperative-peter",
        "outputId": "3021bbbb-6887-4f64-e922-873d1692fb1c"
      },
      "outputs": [
        {
          "name": "stderr",
          "output_type": "stream",
          "text": [
            "C:\\Users\\gl3055109\\Anaconda3_1\\envs\\myenv\\lib\\site-packages\\seaborn\\distributions.py:2557: FutureWarning: `distplot` is a deprecated function and will be removed in a future version. Please adapt your code to use either `displot` (a figure-level function with similar flexibility) or `histplot` (an axes-level function for histograms).\n",
            "  warnings.warn(msg, FutureWarning)\n"
          ]
        },
        {
          "data": {
            "text/plain": [
              "<AxesSubplot:xlabel='YearsSinceLastPromotion', ylabel='Density'>"
            ]
          },
          "execution_count": 28,
          "metadata": {},
          "output_type": "execute_result"
        },
        {
          "data": {
            "image/png": "[encoded data removed]",
            "text/plain": [
              "<Figure size 1152x288 with 2 Axes>"
            ]
          },
          "metadata": {
            "needs_background": "light"
          },
          "output_type": "display_data"
        }
      ],
      "source": [
        "fig, axes = plt.subplots(1,2,figsize=(16,4))\n",
        "sns.boxplot(ax=axes[0],palette=\"Set3\", x=df['YearsSinceLastPromotion'])\n",
        "sns.distplot(ax=axes[1],color=\"Green\", a=df[\"YearsSinceLastPromotion\"])"
      ]
    },
    {
      "cell_type": "code",
      "execution_count": null,
      "id": "little-sally",
      "metadata": {
        "id": "little-sally",
        "outputId": "f5c86a47-6088-45ca-885b-9a8faf09df55"
      },
      "outputs": [
        {
          "data": {
            "text/plain": [
              "107"
            ]
          },
          "execution_count": 29,
          "metadata": {},
          "output_type": "execute_result"
        }
      ],
      "source": [
        "len(df[df['YearsSinceLastPromotion']>7])"
      ]
    },
    {
      "cell_type": "code",
      "execution_count": null,
      "id": "parallel-baptist",
      "metadata": {
        "id": "parallel-baptist",
        "outputId": "8af32d4f-86c0-482d-8ba1-5f954cef2685"
      },
      "outputs": [
        {
          "data": {
            "text/plain": [
              "1470"
            ]
          },
          "execution_count": 30,
          "metadata": {},
          "output_type": "execute_result"
        }
      ],
      "source": [
        "len(df)"
      ]
    },
    {
      "cell_type": "code",
      "execution_count": null,
      "id": "directed-assembly",
      "metadata": {
        "id": "directed-assembly"
      },
      "outputs": [],
      "source": [
        "df = df[df['YearsSinceLastPromotion']<7]"
      ]
    },
    {
      "cell_type": "code",
      "execution_count": null,
      "id": "impressed-juvenile",
      "metadata": {
        "id": "impressed-juvenile",
        "outputId": "d25b0817-2164-45b8-8725-aed8e544f6ee"
      },
      "outputs": [
        {
          "data": {
            "text/plain": [
              "1287"
            ]
          },
          "execution_count": 32,
          "metadata": {},
          "output_type": "execute_result"
        }
      ],
      "source": [
        "len(df)"
      ]
    },
    {
      "cell_type": "code",
      "execution_count": null,
      "id": "classical-florida",
      "metadata": {
        "id": "classical-florida",
        "outputId": "0c661c91-c595-48ec-de53-66c9fd740447"
      },
      "outputs": [
        {
          "data": {
            "text/plain": [
              "<AxesSubplot:>"
            ]
          },
          "execution_count": 144,
          "metadata": {},
          "output_type": "execute_result"
        },
        {
          "data": {
            "image/png": "[encoded data removed]",
            "text/plain": [
              "<Figure size 1440x1440 with 2 Axes>"
            ]
          },
          "metadata": {
            "needs_background": "light"
          },
          "output_type": "display_data"
        }
      ],
      "source": [
        "plt.figure(figsize=(20,20))\n",
        "sns.heatmap(df.corr(),annot=True,cmap='YlGnBu')"
      ]
    },
    {
      "cell_type": "code",
      "execution_count": null,
      "id": "apparent-shuttle",
      "metadata": {
        "id": "apparent-shuttle",
        "outputId": "8cc01f10-a39e-406e-af1b-561863cd0362"
      },
      "outputs": [
        {
          "data": {
            "text/plain": [
              "<AxesSubplot:xlabel='BusinessTravel', ylabel='count'>"
            ]
          },
          "execution_count": 34,
          "metadata": {},
          "output_type": "execute_result"
        },
        {
          "data": {
            "image/png": "[encoded data removed]",
            "text/plain": [
              "<Figure size 432x288 with 1 Axes>"
            ]
          },
          "metadata": {
            "needs_background": "light"
          },
          "output_type": "display_data"
        }
      ],
      "source": [
        "sns.countplot(x='BusinessTravel',palette = 'Set3', hue='Attrition', data = df)"
      ]
    },
    {
      "cell_type": "code",
      "execution_count": null,
      "id": "reasonable-thing",
      "metadata": {
        "id": "reasonable-thing",
        "outputId": "ee713622-0ecf-4084-f279-0a5be74c095b"
      },
      "outputs": [
        {
          "data": {
            "text/plain": [
              "<AxesSubplot:xlabel='Department', ylabel='count'>"
            ]
          },
          "execution_count": 35,
          "metadata": {},
          "output_type": "execute_result"
        },
        {
          "data": {
            "image/png": "[encoded data removed]",
            "text/plain": [
              "<Figure size 576x288 with 1 Axes>"
            ]
          },
          "metadata": {
            "needs_background": "light"
          },
          "output_type": "display_data"
        }
      ],
      "source": [
        "plt.figure(figsize=(8,4))\n",
        "sns.countplot(x='Department',hue='Attrition',palette=\"Set3\",data=df)"
      ]
    },
    {
      "cell_type": "code",
      "execution_count": null,
      "id": "iraqi-girlfriend",
      "metadata": {
        "id": "iraqi-girlfriend",
        "outputId": "de8294d1-fc81-4b5e-8a33-e634dadf84ec"
      },
      "outputs": [
        {
          "data": {
            "text/plain": [
              "<AxesSubplot:xlabel='EducationField', ylabel='count'>"
            ]
          },
          "execution_count": 36,
          "metadata": {},
          "output_type": "execute_result"
        },
        {
          "data": {
            "image/png": "[encoded data removed]",
            "text/plain": [
              "<Figure size 864x288 with 1 Axes>"
            ]
          },
          "metadata": {
            "needs_background": "light"
          },
          "output_type": "display_data"
        }
      ],
      "source": [
        "plt.figure(figsize=(12,4))\n",
        "sns.countplot(x='EducationField',hue='Attrition',palette=\"Set3\",data=df)"
      ]
    },
    {
      "cell_type": "code",
      "execution_count": null,
      "id": "recognized-commodity",
      "metadata": {
        "id": "recognized-commodity",
        "outputId": "8b2da1b2-799a-4882-bc7d-cf2644ad831a"
      },
      "outputs": [
        {
          "data": {
            "text/plain": [
              "<AxesSubplot:xlabel='Gender', ylabel='count'>"
            ]
          },
          "execution_count": 37,
          "metadata": {},
          "output_type": "execute_result"
        },
        {
          "data": {
            "image/png": "[encoded data removed]",
            "text/plain": [
              "<Figure size 864x288 with 1 Axes>"
            ]
          },
          "metadata": {
            "needs_background": "light"
          },
          "output_type": "display_data"
        }
      ],
      "source": [
        "plt.figure(figsize=(12,4))\n",
        "sns.countplot(x='Gender',hue='Attrition',palette=\"Set3\",data=df)"
      ]
    },
    {
      "cell_type": "code",
      "execution_count": null,
      "id": "spectacular-racing",
      "metadata": {
        "id": "spectacular-racing",
        "outputId": "da153c53-a728-4afd-922b-47eb76e5fc33"
      },
      "outputs": [
        {
          "data": {
            "text/plain": [
              "<AxesSubplot:xlabel='JobRole', ylabel='count'>"
            ]
          },
          "execution_count": 38,
          "metadata": {},
          "output_type": "execute_result"
        },
        {
          "data": {
            "image/png": "[encoded data removed]",
            "text/plain": [
              "<Figure size 1440x288 with 1 Axes>"
            ]
          },
          "metadata": {
            "needs_background": "light"
          },
          "output_type": "display_data"
        }
      ],
      "source": [
        "plt.figure(figsize=(20,4))\n",
        "sns.countplot(x='JobRole',hue='Attrition',palette=\"Set3\",data=df)"
      ]
    },
    {
      "cell_type": "code",
      "execution_count": null,
      "id": "senior-dictionary",
      "metadata": {
        "id": "senior-dictionary",
        "outputId": "d5a1f4cf-1c52-40d2-cebb-10a3b44c4b57"
      },
      "outputs": [
        {
          "data": {
            "text/plain": [
              "<AxesSubplot:xlabel='MaritalStatus', ylabel='count'>"
            ]
          },
          "execution_count": 39,
          "metadata": {},
          "output_type": "execute_result"
        },
        {
          "data": {
            "image/png": "[encoded data removed]",
            "text/plain": [
              "<Figure size 864x288 with 1 Axes>"
            ]
          },
          "metadata": {
            "needs_background": "light"
          },
          "output_type": "display_data"
        }
      ],
      "source": [
        "plt.figure(figsize=(12,4))\n",
        "sns.countplot(x='MaritalStatus',hue='Attrition',palette=\"Set3\",data=df)"
      ]
    },
    {
      "cell_type": "code",
      "execution_count": null,
      "id": "polar-words",
      "metadata": {
        "id": "polar-words",
        "outputId": "e5028aab-88aa-4ae6-bb4d-6f1eeb574f36"
      },
      "outputs": [
        {
          "data": {
            "text/plain": [
              "<AxesSubplot:xlabel='OverTime', ylabel='count'>"
            ]
          },
          "execution_count": 40,
          "metadata": {},
          "output_type": "execute_result"
        },
        {
          "data": {
            "image/png": "[encoded data removed]",
            "text/plain": [
              "<Figure size 864x288 with 1 Axes>"
            ]
          },
          "metadata": {
            "needs_background": "light"
          },
          "output_type": "display_data"
        }
      ],
      "source": [
        "plt.figure(figsize=(12,4))\n",
        "sns.countplot(x='OverTime',hue='Attrition',palette=\"Set3\",data=df)"
      ]
    },
    {
      "cell_type": "markdown",
      "id": "confirmed-dominican",
      "metadata": {
        "id": "confirmed-dominican"
      },
      "source": [
        "### Preparing data for training"
      ]
    },
    {
      "cell_type": "markdown",
      "id": "prime-external",
      "metadata": {
        "id": "prime-external"
      },
      "source": [
        "初學Python手記#3-資料前處理( Label encoding、 One hot encoding)\n",
        "原始資料是有序離散值的話 => Label Encoding\n",
        "原始資料是無序離散值的話 => One Hot Encoding (Dummies)\n",
        "https://medium.com/@PatHuang/%E5%88%9D%E5%AD%B8python%E6%89%8B%E8%A8%98-3-%E8%B3%87%E6%96%99%E5%89%8D%E8%99%95%E7%90%86-label-encoding-one-hot-encoding-85c983d63f87"
      ]
    },
    {
      "cell_type": "code",
      "execution_count": null,
      "id": "handled-criterion",
      "metadata": {
        "id": "handled-criterion",
        "outputId": "1763bdb8-c683-45df-a24a-e7034eb4b207"
      },
      "outputs": [
        {
          "data": {
            "text/html": [
              "<div>\n",
              "<style scoped>\n",
              "    .dataframe tbody tr th:only-of-type {\n",
              "        vertical-align: middle;\n",
              "    }\n",
              "\n",
              "    .dataframe tbody tr th {\n",
              "        vertical-align: top;\n",
              "    }\n",
              "\n",
              "    .dataframe thead th {\n",
              "        text-align: right;\n",
              "    }\n",
              "</style>\n",
              "<table border=\"1\" class=\"dataframe\">\n",
              "  <thead>\n",
              "    <tr style=\"text-align: right;\">\n",
              "      <th></th>\n",
              "      <th>BusinessTravel</th>\n",
              "      <th>Department</th>\n",
              "      <th>EducationField</th>\n",
              "      <th>Gender</th>\n",
              "      <th>JobRole</th>\n",
              "      <th>MaritalStatus</th>\n",
              "      <th>OverTime</th>\n",
              "    </tr>\n",
              "  </thead>\n",
              "  <tbody>\n",
              "    <tr>\n",
              "      <th>0</th>\n",
              "      <td>Travel_Rarely</td>\n",
              "      <td>Sales</td>\n",
              "      <td>Life Sciences</td>\n",
              "      <td>Female</td>\n",
              "      <td>Sales Executive</td>\n",
              "      <td>Single</td>\n",
              "      <td>Yes</td>\n",
              "    </tr>\n",
              "    <tr>\n",
              "      <th>1</th>\n",
              "      <td>Travel_Frequently</td>\n",
              "      <td>Research &amp; Development</td>\n",
              "      <td>Life Sciences</td>\n",
              "      <td>Male</td>\n",
              "      <td>Research Scientist</td>\n",
              "      <td>Married</td>\n",
              "      <td>No</td>\n",
              "    </tr>\n",
              "    <tr>\n",
              "      <th>2</th>\n",
              "      <td>Travel_Rarely</td>\n",
              "      <td>Research &amp; Development</td>\n",
              "      <td>Other</td>\n",
              "      <td>Male</td>\n",
              "      <td>Laboratory Technician</td>\n",
              "      <td>Single</td>\n",
              "      <td>Yes</td>\n",
              "    </tr>\n",
              "    <tr>\n",
              "      <th>3</th>\n",
              "      <td>Travel_Frequently</td>\n",
              "      <td>Research &amp; Development</td>\n",
              "      <td>Life Sciences</td>\n",
              "      <td>Female</td>\n",
              "      <td>Research Scientist</td>\n",
              "      <td>Married</td>\n",
              "      <td>Yes</td>\n",
              "    </tr>\n",
              "    <tr>\n",
              "      <th>4</th>\n",
              "      <td>Travel_Rarely</td>\n",
              "      <td>Research &amp; Development</td>\n",
              "      <td>Medical</td>\n",
              "      <td>Male</td>\n",
              "      <td>Laboratory Technician</td>\n",
              "      <td>Married</td>\n",
              "      <td>No</td>\n",
              "    </tr>\n",
              "  </tbody>\n",
              "</table>\n",
              "</div>"
            ],
            "text/plain": [
              "      BusinessTravel              Department EducationField  Gender  \\\n",
              "0      Travel_Rarely                   Sales  Life Sciences  Female   \n",
              "1  Travel_Frequently  Research & Development  Life Sciences    Male   \n",
              "2      Travel_Rarely  Research & Development          Other    Male   \n",
              "3  Travel_Frequently  Research & Development  Life Sciences  Female   \n",
              "4      Travel_Rarely  Research & Development        Medical    Male   \n",
              "\n",
              "                 JobRole MaritalStatus OverTime  \n",
              "0        Sales Executive        Single      Yes  \n",
              "1     Research Scientist       Married       No  \n",
              "2  Laboratory Technician        Single      Yes  \n",
              "3     Research Scientist       Married      Yes  \n",
              "4  Laboratory Technician       Married       No  "
            ]
          },
          "execution_count": 145,
          "metadata": {},
          "output_type": "execute_result"
        }
      ],
      "source": [
        "categorical_cols = df.select_dtypes(include=['object']).columns.tolist()\n",
        "df[categorical_cols].head()"
      ]
    },
    {
      "cell_type": "code",
      "execution_count": null,
      "id": "wanted-thumbnail",
      "metadata": {
        "id": "wanted-thumbnail"
      },
      "outputs": [],
      "source": [
        "df['Attrition'] = LabelEncoder().fit_transform(df['Attrition'])\n",
        "df['BusinessTravel'] = LabelEncoder().fit_transform(df['BusinessTravel'])\n",
        "df['Department'] = LabelEncoder().fit_transform(df['Department'])\n",
        "df['EducationField'] = LabelEncoder().fit_transform(df['EducationField'])\n",
        "df['Gender'] = LabelEncoder().fit_transform(df['Gender'])\n",
        "df['JobRole'] = LabelEncoder().fit_transform(df['JobRole'])\n",
        "df['MaritalStatus'] = LabelEncoder().fit_transform(df['MaritalStatus'])\n",
        "df['OverTime'] = LabelEncoder().fit_transform(df['OverTime'])"
      ]
    },
    {
      "cell_type": "code",
      "execution_count": null,
      "id": "adverse-adult",
      "metadata": {
        "id": "adverse-adult",
        "outputId": "5cbc7ee2-7828-4c16-bf9f-b6aea2503519"
      },
      "outputs": [
        {
          "data": {
            "text/html": [
              "<div>\n",
              "<style scoped>\n",
              "    .dataframe tbody tr th:only-of-type {\n",
              "        vertical-align: middle;\n",
              "    }\n",
              "\n",
              "    .dataframe tbody tr th {\n",
              "        vertical-align: top;\n",
              "    }\n",
              "\n",
              "    .dataframe thead th {\n",
              "        text-align: right;\n",
              "    }\n",
              "</style>\n",
              "<table border=\"1\" class=\"dataframe\">\n",
              "  <thead>\n",
              "    <tr style=\"text-align: right;\">\n",
              "      <th></th>\n",
              "      <th>Age</th>\n",
              "      <th>Attrition</th>\n",
              "      <th>BusinessTravel</th>\n",
              "      <th>DailyRate</th>\n",
              "      <th>Department</th>\n",
              "      <th>DistanceFromHome</th>\n",
              "      <th>Education</th>\n",
              "      <th>EducationField</th>\n",
              "      <th>EmployeeNumber</th>\n",
              "      <th>EnvironmentSatisfaction</th>\n",
              "      <th>Gender</th>\n",
              "      <th>HourlyRate</th>\n",
              "      <th>JobInvolvement</th>\n",
              "      <th>JobLevel</th>\n",
              "      <th>JobRole</th>\n",
              "      <th>JobSatisfaction</th>\n",
              "      <th>MaritalStatus</th>\n",
              "      <th>MonthlyIncome</th>\n",
              "      <th>MonthlyRate</th>\n",
              "      <th>NumCompaniesWorked</th>\n",
              "      <th>OverTime</th>\n",
              "      <th>PercentSalaryHike</th>\n",
              "      <th>PerformanceRating</th>\n",
              "      <th>RelationshipSatisfaction</th>\n",
              "      <th>StockOptionLevel</th>\n",
              "      <th>TotalWorkingYears</th>\n",
              "      <th>TrainingTimesLastYear</th>\n",
              "      <th>WorkLifeBalance</th>\n",
              "      <th>YearsAtCompany</th>\n",
              "      <th>YearsInCurrentRole</th>\n",
              "      <th>YearsSinceLastPromotion</th>\n",
              "      <th>YearsWithCurrManager</th>\n",
              "    </tr>\n",
              "  </thead>\n",
              "  <tbody>\n",
              "    <tr>\n",
              "      <th>0</th>\n",
              "      <td>41</td>\n",
              "      <td>1</td>\n",
              "      <td>2</td>\n",
              "      <td>1102</td>\n",
              "      <td>2</td>\n",
              "      <td>1</td>\n",
              "      <td>2</td>\n",
              "      <td>1</td>\n",
              "      <td>1</td>\n",
              "      <td>2</td>\n",
              "      <td>0</td>\n",
              "      <td>94</td>\n",
              "      <td>3</td>\n",
              "      <td>2</td>\n",
              "      <td>7</td>\n",
              "      <td>4</td>\n",
              "      <td>2</td>\n",
              "      <td>5993</td>\n",
              "      <td>19479</td>\n",
              "      <td>8</td>\n",
              "      <td>1</td>\n",
              "      <td>11</td>\n",
              "      <td>3</td>\n",
              "      <td>1</td>\n",
              "      <td>0</td>\n",
              "      <td>8</td>\n",
              "      <td>0</td>\n",
              "      <td>1</td>\n",
              "      <td>6</td>\n",
              "      <td>4</td>\n",
              "      <td>0</td>\n",
              "      <td>5</td>\n",
              "    </tr>\n",
              "    <tr>\n",
              "      <th>1</th>\n",
              "      <td>49</td>\n",
              "      <td>0</td>\n",
              "      <td>1</td>\n",
              "      <td>279</td>\n",
              "      <td>1</td>\n",
              "      <td>8</td>\n",
              "      <td>1</td>\n",
              "      <td>1</td>\n",
              "      <td>2</td>\n",
              "      <td>3</td>\n",
              "      <td>1</td>\n",
              "      <td>61</td>\n",
              "      <td>2</td>\n",
              "      <td>2</td>\n",
              "      <td>6</td>\n",
              "      <td>2</td>\n",
              "      <td>1</td>\n",
              "      <td>5130</td>\n",
              "      <td>24907</td>\n",
              "      <td>1</td>\n",
              "      <td>0</td>\n",
              "      <td>23</td>\n",
              "      <td>4</td>\n",
              "      <td>4</td>\n",
              "      <td>1</td>\n",
              "      <td>10</td>\n",
              "      <td>3</td>\n",
              "      <td>3</td>\n",
              "      <td>10</td>\n",
              "      <td>7</td>\n",
              "      <td>1</td>\n",
              "      <td>7</td>\n",
              "    </tr>\n",
              "    <tr>\n",
              "      <th>2</th>\n",
              "      <td>37</td>\n",
              "      <td>1</td>\n",
              "      <td>2</td>\n",
              "      <td>1373</td>\n",
              "      <td>1</td>\n",
              "      <td>2</td>\n",
              "      <td>2</td>\n",
              "      <td>4</td>\n",
              "      <td>4</td>\n",
              "      <td>4</td>\n",
              "      <td>1</td>\n",
              "      <td>92</td>\n",
              "      <td>2</td>\n",
              "      <td>1</td>\n",
              "      <td>2</td>\n",
              "      <td>3</td>\n",
              "      <td>2</td>\n",
              "      <td>2090</td>\n",
              "      <td>2396</td>\n",
              "      <td>6</td>\n",
              "      <td>1</td>\n",
              "      <td>15</td>\n",
              "      <td>3</td>\n",
              "      <td>2</td>\n",
              "      <td>0</td>\n",
              "      <td>7</td>\n",
              "      <td>3</td>\n",
              "      <td>3</td>\n",
              "      <td>0</td>\n",
              "      <td>0</td>\n",
              "      <td>0</td>\n",
              "      <td>0</td>\n",
              "    </tr>\n",
              "    <tr>\n",
              "      <th>3</th>\n",
              "      <td>33</td>\n",
              "      <td>0</td>\n",
              "      <td>1</td>\n",
              "      <td>1392</td>\n",
              "      <td>1</td>\n",
              "      <td>3</td>\n",
              "      <td>4</td>\n",
              "      <td>1</td>\n",
              "      <td>5</td>\n",
              "      <td>4</td>\n",
              "      <td>0</td>\n",
              "      <td>56</td>\n",
              "      <td>3</td>\n",
              "      <td>1</td>\n",
              "      <td>6</td>\n",
              "      <td>3</td>\n",
              "      <td>1</td>\n",
              "      <td>2909</td>\n",
              "      <td>23159</td>\n",
              "      <td>1</td>\n",
              "      <td>1</td>\n",
              "      <td>11</td>\n",
              "      <td>3</td>\n",
              "      <td>3</td>\n",
              "      <td>0</td>\n",
              "      <td>8</td>\n",
              "      <td>3</td>\n",
              "      <td>3</td>\n",
              "      <td>8</td>\n",
              "      <td>7</td>\n",
              "      <td>3</td>\n",
              "      <td>0</td>\n",
              "    </tr>\n",
              "    <tr>\n",
              "      <th>4</th>\n",
              "      <td>27</td>\n",
              "      <td>0</td>\n",
              "      <td>2</td>\n",
              "      <td>591</td>\n",
              "      <td>1</td>\n",
              "      <td>2</td>\n",
              "      <td>1</td>\n",
              "      <td>3</td>\n",
              "      <td>7</td>\n",
              "      <td>1</td>\n",
              "      <td>1</td>\n",
              "      <td>40</td>\n",
              "      <td>3</td>\n",
              "      <td>1</td>\n",
              "      <td>2</td>\n",
              "      <td>2</td>\n",
              "      <td>1</td>\n",
              "      <td>3468</td>\n",
              "      <td>16632</td>\n",
              "      <td>9</td>\n",
              "      <td>0</td>\n",
              "      <td>12</td>\n",
              "      <td>3</td>\n",
              "      <td>4</td>\n",
              "      <td>1</td>\n",
              "      <td>6</td>\n",
              "      <td>3</td>\n",
              "      <td>3</td>\n",
              "      <td>2</td>\n",
              "      <td>2</td>\n",
              "      <td>2</td>\n",
              "      <td>2</td>\n",
              "    </tr>\n",
              "  </tbody>\n",
              "</table>\n",
              "</div>"
            ],
            "text/plain": [
              "   Age  Attrition  BusinessTravel  DailyRate  Department  DistanceFromHome  \\\n",
              "0   41          1               2       1102           2                 1   \n",
              "1   49          0               1        279           1                 8   \n",
              "2   37          1               2       1373           1                 2   \n",
              "3   33          0               1       1392           1                 3   \n",
              "4   27          0               2        591           1                 2   \n",
              "\n",
              "   Education  EducationField  EmployeeNumber  EnvironmentSatisfaction  Gender  \\\n",
              "0          2               1               1                        2       0   \n",
              "1          1               1               2                        3       1   \n",
              "2          2               4               4                        4       1   \n",
              "3          4               1               5                        4       0   \n",
              "4          1               3               7                        1       1   \n",
              "\n",
              "   HourlyRate  JobInvolvement  JobLevel  JobRole  JobSatisfaction  \\\n",
              "0          94               3         2        7                4   \n",
              "1          61               2         2        6                2   \n",
              "2          92               2         1        2                3   \n",
              "3          56               3         1        6                3   \n",
              "4          40               3         1        2                2   \n",
              "\n",
              "   MaritalStatus  MonthlyIncome  MonthlyRate  NumCompaniesWorked  OverTime  \\\n",
              "0              2           5993        19479                   8         1   \n",
              "1              1           5130        24907                   1         0   \n",
              "2              2           2090         2396                   6         1   \n",
              "3              1           2909        23159                   1         1   \n",
              "4              1           3468        16632                   9         0   \n",
              "\n",
              "   PercentSalaryHike  PerformanceRating  RelationshipSatisfaction  \\\n",
              "0                 11                  3                         1   \n",
              "1                 23                  4                         4   \n",
              "2                 15                  3                         2   \n",
              "3                 11                  3                         3   \n",
              "4                 12                  3                         4   \n",
              "\n",
              "   StockOptionLevel  TotalWorkingYears  TrainingTimesLastYear  \\\n",
              "0                 0                  8                      0   \n",
              "1                 1                 10                      3   \n",
              "2                 0                  7                      3   \n",
              "3                 0                  8                      3   \n",
              "4                 1                  6                      3   \n",
              "\n",
              "   WorkLifeBalance  YearsAtCompany  YearsInCurrentRole  \\\n",
              "0                1               6                   4   \n",
              "1                3              10                   7   \n",
              "2                3               0                   0   \n",
              "3                3               8                   7   \n",
              "4                3               2                   2   \n",
              "\n",
              "   YearsSinceLastPromotion  YearsWithCurrManager  \n",
              "0                        0                     5  \n",
              "1                        1                     7  \n",
              "2                        0                     0  \n",
              "3                        3                     0  \n",
              "4                        2                     2  "
            ]
          },
          "execution_count": 147,
          "metadata": {},
          "output_type": "execute_result"
        }
      ],
      "source": [
        "df.head()"
      ]
    },
    {
      "cell_type": "code",
      "execution_count": null,
      "id": "residential-wonder",
      "metadata": {
        "id": "residential-wonder",
        "outputId": "51e6b04f-f8f3-4034-bc1e-30b6c60149e7"
      },
      "outputs": [
        {
          "data": {
            "text/html": [
              "<div>\n",
              "<style scoped>\n",
              "    .dataframe tbody tr th:only-of-type {\n",
              "        vertical-align: middle;\n",
              "    }\n",
              "\n",
              "    .dataframe tbody tr th {\n",
              "        vertical-align: top;\n",
              "    }\n",
              "\n",
              "    .dataframe thead th {\n",
              "        text-align: right;\n",
              "    }\n",
              "</style>\n",
              "<table border=\"1\" class=\"dataframe\">\n",
              "  <thead>\n",
              "    <tr style=\"text-align: right;\">\n",
              "      <th></th>\n",
              "      <th>Age</th>\n",
              "      <th>Attrition</th>\n",
              "      <th>DailyRate</th>\n",
              "      <th>DistanceFromHome</th>\n",
              "      <th>Education</th>\n",
              "      <th>EmployeeNumber</th>\n",
              "      <th>EnvironmentSatisfaction</th>\n",
              "      <th>HourlyRate</th>\n",
              "      <th>JobInvolvement</th>\n",
              "      <th>JobLevel</th>\n",
              "      <th>JobSatisfaction</th>\n",
              "      <th>MonthlyIncome</th>\n",
              "      <th>MonthlyRate</th>\n",
              "      <th>NumCompaniesWorked</th>\n",
              "      <th>PercentSalaryHike</th>\n",
              "      <th>PerformanceRating</th>\n",
              "      <th>RelationshipSatisfaction</th>\n",
              "      <th>StockOptionLevel</th>\n",
              "      <th>TotalWorkingYears</th>\n",
              "      <th>TrainingTimesLastYear</th>\n",
              "      <th>WorkLifeBalance</th>\n",
              "      <th>YearsAtCompany</th>\n",
              "      <th>YearsInCurrentRole</th>\n",
              "      <th>YearsSinceLastPromotion</th>\n",
              "      <th>YearsWithCurrManager</th>\n",
              "    </tr>\n",
              "  </thead>\n",
              "  <tbody>\n",
              "    <tr>\n",
              "      <th>0</th>\n",
              "      <td>41</td>\n",
              "      <td>1</td>\n",
              "      <td>1102</td>\n",
              "      <td>1</td>\n",
              "      <td>2</td>\n",
              "      <td>1</td>\n",
              "      <td>2</td>\n",
              "      <td>94</td>\n",
              "      <td>3</td>\n",
              "      <td>2</td>\n",
              "      <td>4</td>\n",
              "      <td>5993</td>\n",
              "      <td>19479</td>\n",
              "      <td>8</td>\n",
              "      <td>11</td>\n",
              "      <td>3</td>\n",
              "      <td>1</td>\n",
              "      <td>0</td>\n",
              "      <td>8</td>\n",
              "      <td>0</td>\n",
              "      <td>1</td>\n",
              "      <td>6</td>\n",
              "      <td>4</td>\n",
              "      <td>0</td>\n",
              "      <td>5</td>\n",
              "    </tr>\n",
              "    <tr>\n",
              "      <th>1</th>\n",
              "      <td>49</td>\n",
              "      <td>0</td>\n",
              "      <td>279</td>\n",
              "      <td>8</td>\n",
              "      <td>1</td>\n",
              "      <td>2</td>\n",
              "      <td>3</td>\n",
              "      <td>61</td>\n",
              "      <td>2</td>\n",
              "      <td>2</td>\n",
              "      <td>2</td>\n",
              "      <td>5130</td>\n",
              "      <td>24907</td>\n",
              "      <td>1</td>\n",
              "      <td>23</td>\n",
              "      <td>4</td>\n",
              "      <td>4</td>\n",
              "      <td>1</td>\n",
              "      <td>10</td>\n",
              "      <td>3</td>\n",
              "      <td>3</td>\n",
              "      <td>10</td>\n",
              "      <td>7</td>\n",
              "      <td>1</td>\n",
              "      <td>7</td>\n",
              "    </tr>\n",
              "    <tr>\n",
              "      <th>2</th>\n",
              "      <td>37</td>\n",
              "      <td>1</td>\n",
              "      <td>1373</td>\n",
              "      <td>2</td>\n",
              "      <td>2</td>\n",
              "      <td>4</td>\n",
              "      <td>4</td>\n",
              "      <td>92</td>\n",
              "      <td>2</td>\n",
              "      <td>1</td>\n",
              "      <td>3</td>\n",
              "      <td>2090</td>\n",
              "      <td>2396</td>\n",
              "      <td>6</td>\n",
              "      <td>15</td>\n",
              "      <td>3</td>\n",
              "      <td>2</td>\n",
              "      <td>0</td>\n",
              "      <td>7</td>\n",
              "      <td>3</td>\n",
              "      <td>3</td>\n",
              "      <td>0</td>\n",
              "      <td>0</td>\n",
              "      <td>0</td>\n",
              "      <td>0</td>\n",
              "    </tr>\n",
              "    <tr>\n",
              "      <th>3</th>\n",
              "      <td>33</td>\n",
              "      <td>0</td>\n",
              "      <td>1392</td>\n",
              "      <td>3</td>\n",
              "      <td>4</td>\n",
              "      <td>5</td>\n",
              "      <td>4</td>\n",
              "      <td>56</td>\n",
              "      <td>3</td>\n",
              "      <td>1</td>\n",
              "      <td>3</td>\n",
              "      <td>2909</td>\n",
              "      <td>23159</td>\n",
              "      <td>1</td>\n",
              "      <td>11</td>\n",
              "      <td>3</td>\n",
              "      <td>3</td>\n",
              "      <td>0</td>\n",
              "      <td>8</td>\n",
              "      <td>3</td>\n",
              "      <td>3</td>\n",
              "      <td>8</td>\n",
              "      <td>7</td>\n",
              "      <td>3</td>\n",
              "      <td>0</td>\n",
              "    </tr>\n",
              "    <tr>\n",
              "      <th>4</th>\n",
              "      <td>27</td>\n",
              "      <td>0</td>\n",
              "      <td>591</td>\n",
              "      <td>2</td>\n",
              "      <td>1</td>\n",
              "      <td>7</td>\n",
              "      <td>1</td>\n",
              "      <td>40</td>\n",
              "      <td>3</td>\n",
              "      <td>1</td>\n",
              "      <td>2</td>\n",
              "      <td>3468</td>\n",
              "      <td>16632</td>\n",
              "      <td>9</td>\n",
              "      <td>12</td>\n",
              "      <td>3</td>\n",
              "      <td>4</td>\n",
              "      <td>1</td>\n",
              "      <td>6</td>\n",
              "      <td>3</td>\n",
              "      <td>3</td>\n",
              "      <td>2</td>\n",
              "      <td>2</td>\n",
              "      <td>2</td>\n",
              "      <td>2</td>\n",
              "    </tr>\n",
              "  </tbody>\n",
              "</table>\n",
              "</div>"
            ],
            "text/plain": [
              "   Age  Attrition  DailyRate  DistanceFromHome  Education  EmployeeNumber  \\\n",
              "0   41          1       1102                 1          2               1   \n",
              "1   49          0        279                 8          1               2   \n",
              "2   37          1       1373                 2          2               4   \n",
              "3   33          0       1392                 3          4               5   \n",
              "4   27          0        591                 2          1               7   \n",
              "\n",
              "   EnvironmentSatisfaction  HourlyRate  JobInvolvement  JobLevel  \\\n",
              "0                        2          94               3         2   \n",
              "1                        3          61               2         2   \n",
              "2                        4          92               2         1   \n",
              "3                        4          56               3         1   \n",
              "4                        1          40               3         1   \n",
              "\n",
              "   JobSatisfaction  MonthlyIncome  MonthlyRate  NumCompaniesWorked  \\\n",
              "0                4           5993        19479                   8   \n",
              "1                2           5130        24907                   1   \n",
              "2                3           2090         2396                   6   \n",
              "3                3           2909        23159                   1   \n",
              "4                2           3468        16632                   9   \n",
              "\n",
              "   PercentSalaryHike  PerformanceRating  RelationshipSatisfaction  \\\n",
              "0                 11                  3                         1   \n",
              "1                 23                  4                         4   \n",
              "2                 15                  3                         2   \n",
              "3                 11                  3                         3   \n",
              "4                 12                  3                         4   \n",
              "\n",
              "   StockOptionLevel  TotalWorkingYears  TrainingTimesLastYear  \\\n",
              "0                 0                  8                      0   \n",
              "1                 1                 10                      3   \n",
              "2                 0                  7                      3   \n",
              "3                 0                  8                      3   \n",
              "4                 1                  6                      3   \n",
              "\n",
              "   WorkLifeBalance  YearsAtCompany  YearsInCurrentRole  \\\n",
              "0                1               6                   4   \n",
              "1                3              10                   7   \n",
              "2                3               0                   0   \n",
              "3                3               8                   7   \n",
              "4                3               2                   2   \n",
              "\n",
              "   YearsSinceLastPromotion  YearsWithCurrManager  \n",
              "0                        0                     5  \n",
              "1                        1                     7  \n",
              "2                        0                     0  \n",
              "3                        3                     0  \n",
              "4                        2                     2  "
            ]
          },
          "execution_count": 148,
          "metadata": {},
          "output_type": "execute_result"
        }
      ],
      "source": [
        "numeric_cols = df.select_dtypes(include=['int64','float64']).columns.tolist()\n",
        "df[numeric_cols].head()"
      ]
    },
    {
      "cell_type": "code",
      "execution_count": null,
      "id": "specified-stevens",
      "metadata": {
        "id": "specified-stevens",
        "outputId": "938a2f5b-c5c4-4340-ad6f-0aa4b40b0904"
      },
      "outputs": [
        {
          "data": {
            "text/html": [
              "<div>\n",
              "<style scoped>\n",
              "    .dataframe tbody tr th:only-of-type {\n",
              "        vertical-align: middle;\n",
              "    }\n",
              "\n",
              "    .dataframe tbody tr th {\n",
              "        vertical-align: top;\n",
              "    }\n",
              "\n",
              "    .dataframe thead th {\n",
              "        text-align: right;\n",
              "    }\n",
              "</style>\n",
              "<table border=\"1\" class=\"dataframe\">\n",
              "  <thead>\n",
              "    <tr style=\"text-align: right;\">\n",
              "      <th></th>\n",
              "      <th>Age</th>\n",
              "      <th>Attrition</th>\n",
              "      <th>DailyRate</th>\n",
              "      <th>DistanceFromHome</th>\n",
              "      <th>Education</th>\n",
              "      <th>EmployeeNumber</th>\n",
              "      <th>EnvironmentSatisfaction</th>\n",
              "      <th>HourlyRate</th>\n",
              "      <th>JobInvolvement</th>\n",
              "      <th>JobLevel</th>\n",
              "      <th>JobSatisfaction</th>\n",
              "      <th>MonthlyIncome</th>\n",
              "      <th>MonthlyRate</th>\n",
              "      <th>NumCompaniesWorked</th>\n",
              "      <th>PercentSalaryHike</th>\n",
              "      <th>PerformanceRating</th>\n",
              "      <th>RelationshipSatisfaction</th>\n",
              "      <th>StockOptionLevel</th>\n",
              "      <th>TotalWorkingYears</th>\n",
              "      <th>TrainingTimesLastYear</th>\n",
              "      <th>WorkLifeBalance</th>\n",
              "      <th>YearsAtCompany</th>\n",
              "      <th>YearsInCurrentRole</th>\n",
              "      <th>YearsSinceLastPromotion</th>\n",
              "      <th>YearsWithCurrManager</th>\n",
              "    </tr>\n",
              "  </thead>\n",
              "  <tbody>\n",
              "    <tr>\n",
              "      <th>0</th>\n",
              "      <td>41</td>\n",
              "      <td>1</td>\n",
              "      <td>1102</td>\n",
              "      <td>1</td>\n",
              "      <td>2</td>\n",
              "      <td>1</td>\n",
              "      <td>2</td>\n",
              "      <td>94</td>\n",
              "      <td>3</td>\n",
              "      <td>2</td>\n",
              "      <td>4</td>\n",
              "      <td>5993</td>\n",
              "      <td>19479</td>\n",
              "      <td>8</td>\n",
              "      <td>11</td>\n",
              "      <td>3</td>\n",
              "      <td>1</td>\n",
              "      <td>0</td>\n",
              "      <td>8</td>\n",
              "      <td>0</td>\n",
              "      <td>1</td>\n",
              "      <td>6</td>\n",
              "      <td>4</td>\n",
              "      <td>0</td>\n",
              "      <td>5</td>\n",
              "    </tr>\n",
              "    <tr>\n",
              "      <th>1</th>\n",
              "      <td>49</td>\n",
              "      <td>0</td>\n",
              "      <td>279</td>\n",
              "      <td>8</td>\n",
              "      <td>1</td>\n",
              "      <td>2</td>\n",
              "      <td>3</td>\n",
              "      <td>61</td>\n",
              "      <td>2</td>\n",
              "      <td>2</td>\n",
              "      <td>2</td>\n",
              "      <td>5130</td>\n",
              "      <td>24907</td>\n",
              "      <td>1</td>\n",
              "      <td>23</td>\n",
              "      <td>4</td>\n",
              "      <td>4</td>\n",
              "      <td>1</td>\n",
              "      <td>10</td>\n",
              "      <td>3</td>\n",
              "      <td>3</td>\n",
              "      <td>10</td>\n",
              "      <td>7</td>\n",
              "      <td>1</td>\n",
              "      <td>7</td>\n",
              "    </tr>\n",
              "    <tr>\n",
              "      <th>2</th>\n",
              "      <td>37</td>\n",
              "      <td>1</td>\n",
              "      <td>1373</td>\n",
              "      <td>2</td>\n",
              "      <td>2</td>\n",
              "      <td>4</td>\n",
              "      <td>4</td>\n",
              "      <td>92</td>\n",
              "      <td>2</td>\n",
              "      <td>1</td>\n",
              "      <td>3</td>\n",
              "      <td>2090</td>\n",
              "      <td>2396</td>\n",
              "      <td>6</td>\n",
              "      <td>15</td>\n",
              "      <td>3</td>\n",
              "      <td>2</td>\n",
              "      <td>0</td>\n",
              "      <td>7</td>\n",
              "      <td>3</td>\n",
              "      <td>3</td>\n",
              "      <td>0</td>\n",
              "      <td>0</td>\n",
              "      <td>0</td>\n",
              "      <td>0</td>\n",
              "    </tr>\n",
              "    <tr>\n",
              "      <th>3</th>\n",
              "      <td>33</td>\n",
              "      <td>0</td>\n",
              "      <td>1392</td>\n",
              "      <td>3</td>\n",
              "      <td>4</td>\n",
              "      <td>5</td>\n",
              "      <td>4</td>\n",
              "      <td>56</td>\n",
              "      <td>3</td>\n",
              "      <td>1</td>\n",
              "      <td>3</td>\n",
              "      <td>2909</td>\n",
              "      <td>23159</td>\n",
              "      <td>1</td>\n",
              "      <td>11</td>\n",
              "      <td>3</td>\n",
              "      <td>3</td>\n",
              "      <td>0</td>\n",
              "      <td>8</td>\n",
              "      <td>3</td>\n",
              "      <td>3</td>\n",
              "      <td>8</td>\n",
              "      <td>7</td>\n",
              "      <td>3</td>\n",
              "      <td>0</td>\n",
              "    </tr>\n",
              "    <tr>\n",
              "      <th>4</th>\n",
              "      <td>27</td>\n",
              "      <td>0</td>\n",
              "      <td>591</td>\n",
              "      <td>2</td>\n",
              "      <td>1</td>\n",
              "      <td>7</td>\n",
              "      <td>1</td>\n",
              "      <td>40</td>\n",
              "      <td>3</td>\n",
              "      <td>1</td>\n",
              "      <td>2</td>\n",
              "      <td>3468</td>\n",
              "      <td>16632</td>\n",
              "      <td>9</td>\n",
              "      <td>12</td>\n",
              "      <td>3</td>\n",
              "      <td>4</td>\n",
              "      <td>1</td>\n",
              "      <td>6</td>\n",
              "      <td>3</td>\n",
              "      <td>3</td>\n",
              "      <td>2</td>\n",
              "      <td>2</td>\n",
              "      <td>2</td>\n",
              "      <td>2</td>\n",
              "    </tr>\n",
              "    <tr>\n",
              "      <th>...</th>\n",
              "      <td>...</td>\n",
              "      <td>...</td>\n",
              "      <td>...</td>\n",
              "      <td>...</td>\n",
              "      <td>...</td>\n",
              "      <td>...</td>\n",
              "      <td>...</td>\n",
              "      <td>...</td>\n",
              "      <td>...</td>\n",
              "      <td>...</td>\n",
              "      <td>...</td>\n",
              "      <td>...</td>\n",
              "      <td>...</td>\n",
              "      <td>...</td>\n",
              "      <td>...</td>\n",
              "      <td>...</td>\n",
              "      <td>...</td>\n",
              "      <td>...</td>\n",
              "      <td>...</td>\n",
              "      <td>...</td>\n",
              "      <td>...</td>\n",
              "      <td>...</td>\n",
              "      <td>...</td>\n",
              "      <td>...</td>\n",
              "      <td>...</td>\n",
              "    </tr>\n",
              "    <tr>\n",
              "      <th>1465</th>\n",
              "      <td>36</td>\n",
              "      <td>0</td>\n",
              "      <td>884</td>\n",
              "      <td>23</td>\n",
              "      <td>2</td>\n",
              "      <td>2061</td>\n",
              "      <td>3</td>\n",
              "      <td>41</td>\n",
              "      <td>4</td>\n",
              "      <td>2</td>\n",
              "      <td>4</td>\n",
              "      <td>2571</td>\n",
              "      <td>12290</td>\n",
              "      <td>4</td>\n",
              "      <td>17</td>\n",
              "      <td>3</td>\n",
              "      <td>3</td>\n",
              "      <td>1</td>\n",
              "      <td>17</td>\n",
              "      <td>3</td>\n",
              "      <td>3</td>\n",
              "      <td>5</td>\n",
              "      <td>2</td>\n",
              "      <td>0</td>\n",
              "      <td>3</td>\n",
              "    </tr>\n",
              "    <tr>\n",
              "      <th>1466</th>\n",
              "      <td>39</td>\n",
              "      <td>0</td>\n",
              "      <td>613</td>\n",
              "      <td>6</td>\n",
              "      <td>1</td>\n",
              "      <td>2062</td>\n",
              "      <td>4</td>\n",
              "      <td>42</td>\n",
              "      <td>2</td>\n",
              "      <td>3</td>\n",
              "      <td>1</td>\n",
              "      <td>9991</td>\n",
              "      <td>21457</td>\n",
              "      <td>4</td>\n",
              "      <td>15</td>\n",
              "      <td>3</td>\n",
              "      <td>1</td>\n",
              "      <td>1</td>\n",
              "      <td>9</td>\n",
              "      <td>5</td>\n",
              "      <td>3</td>\n",
              "      <td>7</td>\n",
              "      <td>7</td>\n",
              "      <td>1</td>\n",
              "      <td>7</td>\n",
              "    </tr>\n",
              "    <tr>\n",
              "      <th>1467</th>\n",
              "      <td>27</td>\n",
              "      <td>0</td>\n",
              "      <td>155</td>\n",
              "      <td>4</td>\n",
              "      <td>3</td>\n",
              "      <td>2064</td>\n",
              "      <td>2</td>\n",
              "      <td>87</td>\n",
              "      <td>4</td>\n",
              "      <td>2</td>\n",
              "      <td>2</td>\n",
              "      <td>6142</td>\n",
              "      <td>5174</td>\n",
              "      <td>1</td>\n",
              "      <td>20</td>\n",
              "      <td>4</td>\n",
              "      <td>2</td>\n",
              "      <td>1</td>\n",
              "      <td>6</td>\n",
              "      <td>0</td>\n",
              "      <td>3</td>\n",
              "      <td>6</td>\n",
              "      <td>2</td>\n",
              "      <td>0</td>\n",
              "      <td>3</td>\n",
              "    </tr>\n",
              "    <tr>\n",
              "      <th>1468</th>\n",
              "      <td>49</td>\n",
              "      <td>0</td>\n",
              "      <td>1023</td>\n",
              "      <td>2</td>\n",
              "      <td>3</td>\n",
              "      <td>2065</td>\n",
              "      <td>4</td>\n",
              "      <td>63</td>\n",
              "      <td>2</td>\n",
              "      <td>2</td>\n",
              "      <td>2</td>\n",
              "      <td>5390</td>\n",
              "      <td>13243</td>\n",
              "      <td>2</td>\n",
              "      <td>14</td>\n",
              "      <td>3</td>\n",
              "      <td>4</td>\n",
              "      <td>0</td>\n",
              "      <td>17</td>\n",
              "      <td>3</td>\n",
              "      <td>2</td>\n",
              "      <td>9</td>\n",
              "      <td>6</td>\n",
              "      <td>0</td>\n",
              "      <td>8</td>\n",
              "    </tr>\n",
              "    <tr>\n",
              "      <th>1469</th>\n",
              "      <td>34</td>\n",
              "      <td>0</td>\n",
              "      <td>628</td>\n",
              "      <td>8</td>\n",
              "      <td>3</td>\n",
              "      <td>2068</td>\n",
              "      <td>2</td>\n",
              "      <td>82</td>\n",
              "      <td>4</td>\n",
              "      <td>2</td>\n",
              "      <td>3</td>\n",
              "      <td>4404</td>\n",
              "      <td>10228</td>\n",
              "      <td>2</td>\n",
              "      <td>12</td>\n",
              "      <td>3</td>\n",
              "      <td>1</td>\n",
              "      <td>0</td>\n",
              "      <td>6</td>\n",
              "      <td>3</td>\n",
              "      <td>4</td>\n",
              "      <td>4</td>\n",
              "      <td>3</td>\n",
              "      <td>1</td>\n",
              "      <td>2</td>\n",
              "    </tr>\n",
              "  </tbody>\n",
              "</table>\n",
              "<p>1287 rows × 25 columns</p>\n",
              "</div>"
            ],
            "text/plain": [
              "      Age  Attrition  DailyRate  DistanceFromHome  Education  EmployeeNumber  \\\n",
              "0      41          1       1102                 1          2               1   \n",
              "1      49          0        279                 8          1               2   \n",
              "2      37          1       1373                 2          2               4   \n",
              "3      33          0       1392                 3          4               5   \n",
              "4      27          0        591                 2          1               7   \n",
              "...   ...        ...        ...               ...        ...             ...   \n",
              "1465   36          0        884                23          2            2061   \n",
              "1466   39          0        613                 6          1            2062   \n",
              "1467   27          0        155                 4          3            2064   \n",
              "1468   49          0       1023                 2          3            2065   \n",
              "1469   34          0        628                 8          3            2068   \n",
              "\n",
              "      EnvironmentSatisfaction  HourlyRate  JobInvolvement  JobLevel  \\\n",
              "0                           2          94               3         2   \n",
              "1                           3          61               2         2   \n",
              "2                           4          92               2         1   \n",
              "3                           4          56               3         1   \n",
              "4                           1          40               3         1   \n",
              "...                       ...         ...             ...       ...   \n",
              "1465                        3          41               4         2   \n",
              "1466                        4          42               2         3   \n",
              "1467                        2          87               4         2   \n",
              "1468                        4          63               2         2   \n",
              "1469                        2          82               4         2   \n",
              "\n",
              "      JobSatisfaction  MonthlyIncome  MonthlyRate  NumCompaniesWorked  \\\n",
              "0                   4           5993        19479                   8   \n",
              "1                   2           5130        24907                   1   \n",
              "2                   3           2090         2396                   6   \n",
              "3                   3           2909        23159                   1   \n",
              "4                   2           3468        16632                   9   \n",
              "...               ...            ...          ...                 ...   \n",
              "1465                4           2571        12290                   4   \n",
              "1466                1           9991        21457                   4   \n",
              "1467                2           6142         5174                   1   \n",
              "1468                2           5390        13243                   2   \n",
              "1469                3           4404        10228                   2   \n",
              "\n",
              "      PercentSalaryHike  PerformanceRating  RelationshipSatisfaction  \\\n",
              "0                    11                  3                         1   \n",
              "1                    23                  4                         4   \n",
              "2                    15                  3                         2   \n",
              "3                    11                  3                         3   \n",
              "4                    12                  3                         4   \n",
              "...                 ...                ...                       ...   \n",
              "1465                 17                  3                         3   \n",
              "1466                 15                  3                         1   \n",
              "1467                 20                  4                         2   \n",
              "1468                 14                  3                         4   \n",
              "1469                 12                  3                         1   \n",
              "\n",
              "      StockOptionLevel  TotalWorkingYears  TrainingTimesLastYear  \\\n",
              "0                    0                  8                      0   \n",
              "1                    1                 10                      3   \n",
              "2                    0                  7                      3   \n",
              "3                    0                  8                      3   \n",
              "4                    1                  6                      3   \n",
              "...                ...                ...                    ...   \n",
              "1465                 1                 17                      3   \n",
              "1466                 1                  9                      5   \n",
              "1467                 1                  6                      0   \n",
              "1468                 0                 17                      3   \n",
              "1469                 0                  6                      3   \n",
              "\n",
              "      WorkLifeBalance  YearsAtCompany  YearsInCurrentRole  \\\n",
              "0                   1               6                   4   \n",
              "1                   3              10                   7   \n",
              "2                   3               0                   0   \n",
              "3                   3               8                   7   \n",
              "4                   3               2                   2   \n",
              "...               ...             ...                 ...   \n",
              "1465                3               5                   2   \n",
              "1466                3               7                   7   \n",
              "1467                3               6                   2   \n",
              "1468                2               9                   6   \n",
              "1469                4               4                   3   \n",
              "\n",
              "      YearsSinceLastPromotion  YearsWithCurrManager  \n",
              "0                           0                     5  \n",
              "1                           1                     7  \n",
              "2                           0                     0  \n",
              "3                           3                     0  \n",
              "4                           2                     2  \n",
              "...                       ...                   ...  \n",
              "1465                        0                     3  \n",
              "1466                        1                     7  \n",
              "1467                        0                     3  \n",
              "1468                        0                     8  \n",
              "1469                        1                     2  \n",
              "\n",
              "[1287 rows x 25 columns]"
            ]
          },
          "execution_count": 149,
          "metadata": {},
          "output_type": "execute_result"
        }
      ],
      "source": [
        "df[numeric_cols] "
      ]
    },
    {
      "cell_type": "code",
      "execution_count": null,
      "id": "circular-victorian",
      "metadata": {
        "id": "circular-victorian"
      },
      "outputs": [],
      "source": [
        "df[numeric_cols]  = MinMaxScaler().fit_transform(df[numeric_cols])"
      ]
    },
    {
      "cell_type": "code",
      "execution_count": null,
      "id": "pressed-workplace",
      "metadata": {
        "id": "pressed-workplace",
        "outputId": "721af519-99b4-4135-f387-37f4cab2556a"
      },
      "outputs": [
        {
          "data": {
            "text/html": [
              "<div>\n",
              "<style scoped>\n",
              "    .dataframe tbody tr th:only-of-type {\n",
              "        vertical-align: middle;\n",
              "    }\n",
              "\n",
              "    .dataframe tbody tr th {\n",
              "        vertical-align: top;\n",
              "    }\n",
              "\n",
              "    .dataframe thead th {\n",
              "        text-align: right;\n",
              "    }\n",
              "</style>\n",
              "<table border=\"1\" class=\"dataframe\">\n",
              "  <thead>\n",
              "    <tr style=\"text-align: right;\">\n",
              "      <th></th>\n",
              "      <th>Age</th>\n",
              "      <th>Attrition</th>\n",
              "      <th>DailyRate</th>\n",
              "      <th>DistanceFromHome</th>\n",
              "      <th>Education</th>\n",
              "      <th>EmployeeNumber</th>\n",
              "      <th>EnvironmentSatisfaction</th>\n",
              "      <th>HourlyRate</th>\n",
              "      <th>JobInvolvement</th>\n",
              "      <th>JobLevel</th>\n",
              "      <th>JobSatisfaction</th>\n",
              "      <th>MonthlyIncome</th>\n",
              "      <th>MonthlyRate</th>\n",
              "      <th>NumCompaniesWorked</th>\n",
              "      <th>PercentSalaryHike</th>\n",
              "      <th>PerformanceRating</th>\n",
              "      <th>RelationshipSatisfaction</th>\n",
              "      <th>StockOptionLevel</th>\n",
              "      <th>TotalWorkingYears</th>\n",
              "      <th>TrainingTimesLastYear</th>\n",
              "      <th>WorkLifeBalance</th>\n",
              "      <th>YearsAtCompany</th>\n",
              "      <th>YearsInCurrentRole</th>\n",
              "      <th>YearsSinceLastPromotion</th>\n",
              "      <th>YearsWithCurrManager</th>\n",
              "    </tr>\n",
              "  </thead>\n",
              "  <tbody>\n",
              "    <tr>\n",
              "      <th>0</th>\n",
              "      <td>0.547619</td>\n",
              "      <td>1.0</td>\n",
              "      <td>0.716332</td>\n",
              "      <td>0.000000</td>\n",
              "      <td>0.25</td>\n",
              "      <td>0.000000</td>\n",
              "      <td>0.333333</td>\n",
              "      <td>0.914286</td>\n",
              "      <td>0.666667</td>\n",
              "      <td>0.25</td>\n",
              "      <td>1.000000</td>\n",
              "      <td>0.262814</td>\n",
              "      <td>0.698053</td>\n",
              "      <td>0.888889</td>\n",
              "      <td>0.000000</td>\n",
              "      <td>0.0</td>\n",
              "      <td>0.000000</td>\n",
              "      <td>0.000000</td>\n",
              "      <td>0.210526</td>\n",
              "      <td>0.0</td>\n",
              "      <td>0.000000</td>\n",
              "      <td>0.162162</td>\n",
              "      <td>0.235294</td>\n",
              "      <td>0.000000</td>\n",
              "      <td>0.294118</td>\n",
              "    </tr>\n",
              "    <tr>\n",
              "      <th>1</th>\n",
              "      <td>0.738095</td>\n",
              "      <td>0.0</td>\n",
              "      <td>0.126791</td>\n",
              "      <td>0.250000</td>\n",
              "      <td>0.00</td>\n",
              "      <td>0.000484</td>\n",
              "      <td>0.666667</td>\n",
              "      <td>0.442857</td>\n",
              "      <td>0.333333</td>\n",
              "      <td>0.25</td>\n",
              "      <td>0.333333</td>\n",
              "      <td>0.217306</td>\n",
              "      <td>0.916001</td>\n",
              "      <td>0.111111</td>\n",
              "      <td>0.857143</td>\n",
              "      <td>1.0</td>\n",
              "      <td>1.000000</td>\n",
              "      <td>0.333333</td>\n",
              "      <td>0.263158</td>\n",
              "      <td>0.5</td>\n",
              "      <td>0.666667</td>\n",
              "      <td>0.270270</td>\n",
              "      <td>0.411765</td>\n",
              "      <td>0.166667</td>\n",
              "      <td>0.411765</td>\n",
              "    </tr>\n",
              "    <tr>\n",
              "      <th>2</th>\n",
              "      <td>0.452381</td>\n",
              "      <td>1.0</td>\n",
              "      <td>0.910458</td>\n",
              "      <td>0.035714</td>\n",
              "      <td>0.25</td>\n",
              "      <td>0.001451</td>\n",
              "      <td>1.000000</td>\n",
              "      <td>0.885714</td>\n",
              "      <td>0.333333</td>\n",
              "      <td>0.00</td>\n",
              "      <td>0.666667</td>\n",
              "      <td>0.057003</td>\n",
              "      <td>0.012126</td>\n",
              "      <td>0.666667</td>\n",
              "      <td>0.285714</td>\n",
              "      <td>0.0</td>\n",
              "      <td>0.333333</td>\n",
              "      <td>0.000000</td>\n",
              "      <td>0.184211</td>\n",
              "      <td>0.5</td>\n",
              "      <td>0.666667</td>\n",
              "      <td>0.000000</td>\n",
              "      <td>0.000000</td>\n",
              "      <td>0.000000</td>\n",
              "      <td>0.000000</td>\n",
              "    </tr>\n",
              "    <tr>\n",
              "      <th>3</th>\n",
              "      <td>0.357143</td>\n",
              "      <td>0.0</td>\n",
              "      <td>0.924069</td>\n",
              "      <td>0.071429</td>\n",
              "      <td>0.75</td>\n",
              "      <td>0.001935</td>\n",
              "      <td>1.000000</td>\n",
              "      <td>0.371429</td>\n",
              "      <td>0.666667</td>\n",
              "      <td>0.00</td>\n",
              "      <td>0.666667</td>\n",
              "      <td>0.100190</td>\n",
              "      <td>0.845814</td>\n",
              "      <td>0.111111</td>\n",
              "      <td>0.000000</td>\n",
              "      <td>0.0</td>\n",
              "      <td>0.666667</td>\n",
              "      <td>0.000000</td>\n",
              "      <td>0.210526</td>\n",
              "      <td>0.5</td>\n",
              "      <td>0.666667</td>\n",
              "      <td>0.216216</td>\n",
              "      <td>0.411765</td>\n",
              "      <td>0.500000</td>\n",
              "      <td>0.000000</td>\n",
              "    </tr>\n",
              "    <tr>\n",
              "      <th>4</th>\n",
              "      <td>0.214286</td>\n",
              "      <td>0.0</td>\n",
              "      <td>0.350287</td>\n",
              "      <td>0.035714</td>\n",
              "      <td>0.00</td>\n",
              "      <td>0.002903</td>\n",
              "      <td>0.000000</td>\n",
              "      <td>0.142857</td>\n",
              "      <td>0.666667</td>\n",
              "      <td>0.00</td>\n",
              "      <td>0.333333</td>\n",
              "      <td>0.129667</td>\n",
              "      <td>0.583738</td>\n",
              "      <td>1.000000</td>\n",
              "      <td>0.071429</td>\n",
              "      <td>0.0</td>\n",
              "      <td>1.000000</td>\n",
              "      <td>0.333333</td>\n",
              "      <td>0.157895</td>\n",
              "      <td>0.5</td>\n",
              "      <td>0.666667</td>\n",
              "      <td>0.054054</td>\n",
              "      <td>0.117647</td>\n",
              "      <td>0.333333</td>\n",
              "      <td>0.117647</td>\n",
              "    </tr>\n",
              "  </tbody>\n",
              "</table>\n",
              "</div>"
            ],
            "text/plain": [
              "        Age  Attrition  DailyRate  DistanceFromHome  Education  \\\n",
              "0  0.547619        1.0   0.716332          0.000000       0.25   \n",
              "1  0.738095        0.0   0.126791          0.250000       0.00   \n",
              "2  0.452381        1.0   0.910458          0.035714       0.25   \n",
              "3  0.357143        0.0   0.924069          0.071429       0.75   \n",
              "4  0.214286        0.0   0.350287          0.035714       0.00   \n",
              "\n",
              "   EmployeeNumber  EnvironmentSatisfaction  HourlyRate  JobInvolvement  \\\n",
              "0        0.000000                 0.333333    0.914286        0.666667   \n",
              "1        0.000484                 0.666667    0.442857        0.333333   \n",
              "2        0.001451                 1.000000    0.885714        0.333333   \n",
              "3        0.001935                 1.000000    0.371429        0.666667   \n",
              "4        0.002903                 0.000000    0.142857        0.666667   \n",
              "\n",
              "   JobLevel  JobSatisfaction  MonthlyIncome  MonthlyRate  NumCompaniesWorked  \\\n",
              "0      0.25         1.000000       0.262814     0.698053            0.888889   \n",
              "1      0.25         0.333333       0.217306     0.916001            0.111111   \n",
              "2      0.00         0.666667       0.057003     0.012126            0.666667   \n",
              "3      0.00         0.666667       0.100190     0.845814            0.111111   \n",
              "4      0.00         0.333333       0.129667     0.583738            1.000000   \n",
              "\n",
              "   PercentSalaryHike  PerformanceRating  RelationshipSatisfaction  \\\n",
              "0           0.000000                0.0                  0.000000   \n",
              "1           0.857143                1.0                  1.000000   \n",
              "2           0.285714                0.0                  0.333333   \n",
              "3           0.000000                0.0                  0.666667   \n",
              "4           0.071429                0.0                  1.000000   \n",
              "\n",
              "   StockOptionLevel  TotalWorkingYears  TrainingTimesLastYear  \\\n",
              "0          0.000000           0.210526                    0.0   \n",
              "1          0.333333           0.263158                    0.5   \n",
              "2          0.000000           0.184211                    0.5   \n",
              "3          0.000000           0.210526                    0.5   \n",
              "4          0.333333           0.157895                    0.5   \n",
              "\n",
              "   WorkLifeBalance  YearsAtCompany  YearsInCurrentRole  \\\n",
              "0         0.000000        0.162162            0.235294   \n",
              "1         0.666667        0.270270            0.411765   \n",
              "2         0.666667        0.000000            0.000000   \n",
              "3         0.666667        0.216216            0.411765   \n",
              "4         0.666667        0.054054            0.117647   \n",
              "\n",
              "   YearsSinceLastPromotion  YearsWithCurrManager  \n",
              "0                 0.000000              0.294118  \n",
              "1                 0.166667              0.411765  \n",
              "2                 0.000000              0.000000  \n",
              "3                 0.500000              0.000000  \n",
              "4                 0.333333              0.117647  "
            ]
          },
          "execution_count": 151,
          "metadata": {},
          "output_type": "execute_result"
        }
      ],
      "source": [
        "df[numeric_cols].head()"
      ]
    },
    {
      "cell_type": "markdown",
      "id": "dangerous-blowing",
      "metadata": {
        "id": "dangerous-blowing"
      },
      "source": [
        "Automatic Feature Selection in Python\n",
        "https://hackernoon.com/automatic-feature-selection-in-python-an-essential-guide-uv3e37mk"
      ]
    },
    {
      "cell_type": "markdown",
      "id": "injured-campus",
      "metadata": {
        "id": "injured-campus"
      },
      "source": [
        "資料前處理-資料不平衡處理方法\n",
        "做SMOTE處理\n",
        "https://ithelp.ithome.com.tw/articles/10261413?sc=rss.iron"
      ]
    },
    {
      "cell_type": "code",
      "execution_count": null,
      "id": "raising-woman",
      "metadata": {
        "id": "raising-woman"
      },
      "outputs": [],
      "source": [
        "cols = list(df.columns)\n",
        "cols.remove('Attrition')\n",
        "sampled,target= SMOTE().fit_resample(df[cols],df['Attrition'])"
      ]
    },
    {
      "cell_type": "code",
      "execution_count": null,
      "id": "absent-bowling",
      "metadata": {
        "id": "absent-bowling",
        "outputId": "f9c7fd86-bfb1-4026-c1dc-14d4ba9bfd8a"
      },
      "outputs": [
        {
          "data": {
            "image/png": "[encoded data removed]",
            "text/plain": [
              "<Figure size 720x360 with 1 Axes>"
            ]
          },
          "metadata": {},
          "output_type": "display_data"
        }
      ],
      "source": [
        "plt.figure(figsize=(10,5))\n",
        "df['Attrition'].value_counts().plot(kind='pie',colors=['lightcoral','skyblue'],autopct='%1.2f%%')\n",
        "plt.title('Attrition')\n",
        "plt.ylabel('')\n",
        "plt.show()"
      ]
    },
    {
      "cell_type": "code",
      "execution_count": null,
      "id": "excess-split",
      "metadata": {
        "id": "excess-split",
        "outputId": "bd37a865-2b0a-4a01-d2da-f6d221478c55"
      },
      "outputs": [
        {
          "data": {
            "image/png": "[encoded data removed]",
            "text/plain": [
              "<Figure size 720x360 with 1 Axes>"
            ]
          },
          "metadata": {},
          "output_type": "display_data"
        }
      ],
      "source": [
        "plt.figure(figsize=(10,5))\n",
        "target.value_counts().plot(kind='pie',colors=['lightcoral','skyblue'],autopct='%1.2f%%')\n",
        "plt.title('Attrition')\n",
        "plt.ylabel('')\n",
        "plt.show()\n",
        "                                                          "
      ]
    },
    {
      "cell_type": "code",
      "execution_count": null,
      "id": "realistic-health",
      "metadata": {
        "id": "realistic-health"
      },
      "outputs": [],
      "source": [
        "X_train,X_test,Y_train,Y_test = train_test_split(sampled[cols],target,\n",
        "                                                test_size=0.3,\n",
        "                                                shuffle=True)"
      ]
    },
    {
      "cell_type": "code",
      "execution_count": null,
      "id": "unusual-squad",
      "metadata": {
        "id": "unusual-squad",
        "outputId": "5a8649f8-08d1-433f-868d-27d629d4b2b2"
      },
      "outputs": [
        {
          "name": "stdout",
          "output_type": "stream",
          "text": [
            "Train Accuracy : 0.77 %\n",
            "Test Accuracy : 0.77 %\n"
          ]
        },
        {
          "data": {
            "image/png": "[encoded data removed]",
            "text/plain": [
              "<Figure size 720x720 with 2 Axes>"
            ]
          },
          "metadata": {
            "needs_background": "light"
          },
          "output_type": "display_data"
        }
      ],
      "source": [
        "logistic_model = LogisticRegression(solver='liblinear',random_state=0).fit(X_train,Y_train)\n",
        "print(\"Train Accuracy : {:.2f} %\".format(accuracy_score(logistic_model.predict(X_train),Y_train)))\n",
        "print(\"Test Accuracy : {:.2f} %\".format(accuracy_score(logistic_model.predict(X_test),Y_test)))\n",
        "\n",
        "cm = confusion_matrix(Y_test,logistic_model.predict(X_test))\n",
        "classes = [\"0\",\"1\"]\n",
        "disp = ConfusionMatrixDisplay(confusion_matrix=cm,\n",
        "                             display_labels = classes)\n",
        "\n",
        "fig, ax = plt.subplots(figsize=(10,10))\n",
        "plt.title(\"Confusion Matrix\")\n",
        "disp.plot(ax=ax,cmap='GnBu')\n",
        "plt.show()"
      ]
    },
    {
      "cell_type": "markdown",
      "id": "noted-today",
      "metadata": {
        "id": "noted-today"
      },
      "source": [
        "How to choose n_estimators in RandomForestClassifier?\n",
        "https://stackoverflow.com/questions/60768008/how-to-choose-n-estimators-in-randomforestclassifier"
      ]
    },
    {
      "cell_type": "code",
      "execution_count": null,
      "id": "professional-machine",
      "metadata": {
        "id": "professional-machine",
        "outputId": "66af3a46-26b2-46d3-d2d4-c5848ff268f8"
      },
      "outputs": [
        {
          "name": "stdout",
          "output_type": "stream",
          "text": [
            "Train Accuracy : 1.00 %\n",
            "Test Accuracy : 0.92 %\n"
          ]
        },
        {
          "data": {
            "image/png": "[encoded data removed]",
            "text/plain": [
              "<Figure size 720x720 with 2 Axes>"
            ]
          },
          "metadata": {
            "needs_background": "light"
          },
          "output_type": "display_data"
        }
      ],
      "source": [
        "random_forest = RandomForestClassifier(n_estimators=666,\n",
        "                                      random_state=0).fit(X_train,Y_train)\n",
        "print(\"Train Accuracy : {:.2f} %\".format(accuracy_score(random_forest.predict(X_train),Y_train)))\n",
        "print(\"Test Accuracy : {:.2f} %\".format(accuracy_score(random_forest.predict(X_test),Y_test)))\n",
        "\n",
        "cm = confusion_matrix(Y_test,random_forest.predict(X_test))\n",
        "classes = [\"0\",\"1\"]\n",
        "disp = ConfusionMatrixDisplay(confusion_matrix=cm,\n",
        "                             display_labels = classes)\n",
        "\n",
        "fig, ax = plt.subplots(figsize=(10,10))\n",
        "plt.title(\"Confusion Matrix\")\n",
        "disp.plot(ax=ax,cmap='GnBu')\n",
        "plt.show()"
      ]
    },
    {
      "cell_type": "code",
      "execution_count": null,
      "id": "moved-powder",
      "metadata": {
        "id": "moved-powder",
        "outputId": "326b54a0-155e-4629-e73e-75292039d7be"
      },
      "outputs": [
        {
          "name": "stdout",
          "output_type": "stream",
          "text": [
            "[16:15:58] WARNING: C:/Users/Administrator/workspace/xgboost-win64_release_1.4.0/src/learner.cc:1095: Starting in XGBoost 1.3.0, the default evaluation metric used with the objective 'binary:logistic' was changed from 'error' to 'logloss'. Explicitly set eval_metric if you'd like to restore the old behavior.\n",
            "Train Accuracy : 1.00 %\n",
            "Test Accuracy : 0.92 %\n"
          ]
        },
        {
          "data": {
            "image/png": "[encoded data removed]",
            "text/plain": [
              "<Figure size 720x720 with 2 Axes>"
            ]
          },
          "metadata": {
            "needs_background": "light"
          },
          "output_type": "display_data"
        }
      ],
      "source": [
        "from xgboost import XGBClassifier\n",
        "model = XGBClassifier(learning_rate=0.01,n_estimators=500,use_label_encoder=False,\n",
        "                                      random_state=0).fit(X_train,Y_train)\n",
        "print(\"Train Accuracy : {:.2f} %\".format(accuracy_score(random_forest.predict(X_train),Y_train)))\n",
        "print(\"Test Accuracy : {:.2f} %\".format(accuracy_score(random_forest.predict(X_test),Y_test)))\n",
        "\n",
        "cm = confusion_matrix(Y_test,model.predict(X_test))\n",
        "classes = [\"0\",\"1\"]\n",
        "disp = ConfusionMatrixDisplay(confusion_matrix=cm,\n",
        "                             display_labels = classes)\n",
        "\n",
        "fig, ax = plt.subplots(figsize=(10,10))\n",
        "plt.title(\"Confusion Matrix\")\n",
        "disp.plot(ax=ax,cmap='GnBu')\n",
        "plt.show()"
      ]
    },
    {
      "cell_type": "code",
      "execution_count": null,
      "id": "considered-shooting",
      "metadata": {
        "id": "considered-shooting"
      },
      "outputs": [],
      "source": [
        ""
      ]
    }
  ],
  "metadata": {
    "kernelspec": {
      "display_name": "Python 3",
      "language": "python",
      "name": "python3"
    },
    "language_info": {
      "codemirror_mode": {
        "name": "ipython",
        "version": 3
      },
      "file_extension": ".py",
      "mimetype": "text/x-python",
      "name": "python",
      "nbconvert_exporter": "python",
      "pygments_lexer": "ipython3",
      "version": "3.8.5"
    },
    "colab": {
      "name": "IBN-HR-analysis-Kaggle.ipynb",
      "provenance": [],
      "include_colab_link": true
    }
  },
  "nbformat": 4,
  "nbformat_minor": 5
}