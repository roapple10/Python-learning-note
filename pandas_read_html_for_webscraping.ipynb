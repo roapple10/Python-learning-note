{
  "nbformat": 4,
  "nbformat_minor": 0,
  "metadata": {
    "colab": {
      "name": "pandas_read_html_for_webscraping.ipynb",
      "provenance": [],
      "collapsed_sections": [],
      "include_colab_link": true
    },
    "kernelspec": {
      "name": "python3",
      "display_name": "Python 3"
    }
  },
  "cells": [
    {
      "cell_type": "markdown",
      "metadata": {
        "id": "view-in-github",
        "colab_type": "text"
      },
      "source": [
        "<a href=\"https://colab.research.google.com/github/roapple10/Python-learning-note/blob/main/pandas_read_html_for_webscraping.ipynb\" target=\"_parent\"><img src=\"https://colab.research.google.com/assets/colab-badge.svg\" alt=\"Open In Colab\"/></a>"
      ]
    },
    {
      "cell_type": "markdown",
      "metadata": {
        "id": "5WNm0Jm7Sg_B"
      },
      "source": [
        "# **Using pandas read_html to Web Scrape Data for Data Science** \n",
        "\n",
        "Chanin Nantasenamat\n",
        "\n",
        "<i>[Data Professor YouTube channel](http://youtube.com/dataprofessor), http://youtube.com/dataprofessor </i>\n"
      ]
    },
    {
      "cell_type": "markdown",
      "metadata": {
        "id": "jsGSzqADSa0o"
      },
      "source": [
        "## **URL to the webpage \"2022 NBA Playoffs Summary\"**"
      ]
    },
    {
      "cell_type": "markdown",
      "metadata": {
        "id": "-AQZU0n4StVq"
      },
      "source": [
        "### Method 1\n",
        "\n",
        "We could modularize the URL and year strings of text that may be useful for programmatic access (in the subsequent code cell)."
      ]
    },
    {
      "cell_type": "code",
      "metadata": {
        "id": "pGkHgtANQ4b2",
        "outputId": "b701941f-e096-4104-c5e9-334404d06f8c",
        "colab": {
          "base_uri": "https://localhost:8080/",
          "height": 36
        }
      },
      "source": [
        "# The Building Blocks\n",
        "year = '2022'\n",
        "url_link = 'https://www.basketball-reference.com/playoffs/NBA_{}.html'\n",
        "\n",
        "# Combining the URL + year strings together\n",
        "url = url_link.format(year)\n",
        "url"
      ],
      "execution_count": 16,
      "outputs": [
        {
          "output_type": "execute_result",
          "data": {
            "text/plain": [
              "'https://www.basketball-reference.com/playoffs/NBA_2022.html'"
            ],
            "application/vnd.google.colaboratory.intrinsic+json": {
              "type": "string"
            }
          },
          "metadata": {},
          "execution_count": 16
        }
      ]
    },
    {
      "cell_type": "code",
      "source": [
        "https://www.basketball-reference.com/playoffs/NBA_2022.html"
      ],
      "metadata": {
        "id": "wov74Pgmjuv2"
      },
      "execution_count": null,
      "outputs": []
    },
    {
      "cell_type": "markdown",
      "metadata": {
        "id": "ySZux1-hWLbX"
      },
      "source": [
        "Now, let's programmatically return a list of URL given a list of years (e.g. 2015,2016,2017,2018,2019)."
      ]
    },
    {
      "cell_type": "code",
      "metadata": {
        "id": "JSw9Q7s7VQyd",
        "outputId": "8c4559f5-7a8b-482e-f9c5-bc88b30f3f17",
        "colab": {
          "base_uri": "https://localhost:8080/"
        }
      },
      "source": [
        "years = [2015,2016,2017,2018,2019,2020,2021,2022]\n",
        "url_link = 'https://www.basketball-reference.com/playoffs/NBA_{}.html'\n",
        "\n",
        "for year in years:\n",
        "  url = url_link.format(year)\n",
        "  print(url)"
      ],
      "execution_count": 17,
      "outputs": [
        {
          "output_type": "stream",
          "name": "stdout",
          "text": [
            "https://www.basketball-reference.com/playoffs/NBA_2015.html\n",
            "https://www.basketball-reference.com/playoffs/NBA_2016.html\n",
            "https://www.basketball-reference.com/playoffs/NBA_2017.html\n",
            "https://www.basketball-reference.com/playoffs/NBA_2018.html\n",
            "https://www.basketball-reference.com/playoffs/NBA_2019.html\n",
            "https://www.basketball-reference.com/playoffs/NBA_2020.html\n",
            "https://www.basketball-reference.com/playoffs/NBA_2021.html\n",
            "https://www.basketball-reference.com/playoffs/NBA_2022.html\n"
          ]
        }
      ]
    },
    {
      "cell_type": "markdown",
      "metadata": {
        "id": "wlDt8TTxSvEz"
      },
      "source": [
        "Method 2"
      ]
    },
    {
      "cell_type": "code",
      "metadata": {
        "id": "-x78Rt_iRmCa"
      },
      "source": [
        "url = 'https://www.basketball-reference.com/leagues/NBA_2019_per_game.html'"
      ],
      "execution_count": null,
      "outputs": []
    },
    {
      "cell_type": "markdown",
      "metadata": {
        "id": "fhVY2xJJS0FU"
      },
      "source": [
        "## **Read HTML webpage into pandas**"
      ]
    },
    {
      "cell_type": "code",
      "metadata": {
        "id": "yE_EfE-gPW1a"
      },
      "source": [
        "import pandas as pd"
      ],
      "execution_count": 18,
      "outputs": []
    },
    {
      "cell_type": "markdown",
      "metadata": {
        "id": "Sk1EUVeFUXPq"
      },
      "source": [
        "### Using pd.read_html() function to read HTML webpage"
      ]
    },
    {
      "cell_type": "code",
      "metadata": {
        "id": "4sLS78K-S-r2",
        "outputId": "9c9ab794-c308-43b5-a1c7-43b525a46d7e",
        "colab": {
          "base_uri": "https://localhost:8080/"
        }
      },
      "source": [
        "df = pd.read_html(url, header = 0)\n",
        "df"
      ],
      "execution_count": 19,
      "outputs": [
        {
          "output_type": "execute_result",
          "data": {
            "text/plain": [
              "[                             Eastern Conference Finals  \\\n",
              " 0    Game 1 Tue, May 17 Boston Celtics 107@ Miami H...   \n",
              " 1                                               Game 1   \n",
              " 2                                               Game 2   \n",
              " 3                                               Game 3   \n",
              " 4                                               Game 4   \n",
              " ..                                                 ...   \n",
              " 107                                             Game 2   \n",
              " 108                                             Game 3   \n",
              " 109                                             Game 4   \n",
              " 110                                             Game 5   \n",
              " 111                                             Game 6   \n",
              " \n",
              "                  Miami Heat lead Boston Celtics  (1-0)  \\\n",
              " 0    Game 1 Tue, May 17 Boston Celtics 107@ Miami H...   \n",
              " 1                                          Tue, May 17   \n",
              " 2                                          Thu, May 19   \n",
              " 3                                          Sat, May 21   \n",
              " 4                                          Mon, May 23   \n",
              " ..                                                 ...   \n",
              " 107                                      Tue, April 19   \n",
              " 108                                      Fri, April 22   \n",
              " 109                                      Sun, April 24   \n",
              " 110                                      Tue, April 26   \n",
              " 111                                      Thu, April 28   \n",
              " \n",
              "                                           Series Stats  Unnamed: 3  \\\n",
              " 0    Game 1 Tue, May 17 Boston Celtics 107@ Miami H...         NaN   \n",
              " 1                                       Boston Celtics       107.0   \n",
              " 2                                       Boston Celtics         NaN   \n",
              " 3                                           Miami Heat         NaN   \n",
              " 4                                           Miami Heat         NaN   \n",
              " ..                                                 ...         ...   \n",
              " 107                               New Orleans Pelicans       125.0   \n",
              " 108                                       Phoenix Suns       114.0   \n",
              " 109                                       Phoenix Suns       103.0   \n",
              " 110                               New Orleans Pelicans        97.0   \n",
              " 111                                       Phoenix Suns       115.0   \n",
              " \n",
              "                  Unnamed: 4  Unnamed: 5  \n",
              " 0                       NaN         NaN  \n",
              " 1              @ Miami Heat       118.0  \n",
              " 2              @ Miami Heat         NaN  \n",
              " 3          @ Boston Celtics         NaN  \n",
              " 4          @ Boston Celtics         NaN  \n",
              " ..                      ...         ...  \n",
              " 107          @ Phoenix Suns       114.0  \n",
              " 108  @ New Orleans Pelicans       111.0  \n",
              " 109  @ New Orleans Pelicans       118.0  \n",
              " 110          @ Phoenix Suns       112.0  \n",
              " 111  @ New Orleans Pelicans       109.0  \n",
              " \n",
              " [112 rows x 6 columns],\n",
              "    Game 1  Tue, May 17  Boston Celtics  107      @ Miami Heat  118\n",
              " 0  Game 2  Thu, May 19  Boston Celtics  NaN      @ Miami Heat  NaN\n",
              " 1  Game 3  Sat, May 21      Miami Heat  NaN  @ Boston Celtics  NaN\n",
              " 2  Game 4  Mon, May 23      Miami Heat  NaN  @ Boston Celtics  NaN\n",
              " 3  Game 5  Wed, May 25  Boston Celtics  NaN      @ Miami Heat  NaN\n",
              " 4  Game 6  Fri, May 27      Miami Heat  NaN  @ Boston Celtics  NaN\n",
              " 5  Game 7  Sun, May 29  Boston Celtics  NaN      @ Miami Heat  NaN,\n",
              "    Game 1  Wed, May 18       Dallas Mavericks  87  @ Golden State Warriors  \\\n",
              " 0  Game 2  Fri, May 20       Dallas Mavericks NaN  @ Golden State Warriors   \n",
              " 1  Game 3  Sun, May 22  Golden State Warriors NaN       @ Dallas Mavericks   \n",
              " 2  Game 4  Tue, May 24  Golden State Warriors NaN       @ Dallas Mavericks   \n",
              " 3  Game 5  Thu, May 26       Dallas Mavericks NaN  @ Golden State Warriors   \n",
              " 4  Game 6  Sat, May 28  Golden State Warriors NaN       @ Dallas Mavericks   \n",
              " 5  Game 7  Mon, May 30       Dallas Mavericks NaN  @ Golden State Warriors   \n",
              " \n",
              "    112  \n",
              " 0  NaN  \n",
              " 1  NaN  \n",
              " 2  NaN  \n",
              " 3  NaN  \n",
              " 4  NaN  \n",
              " 5  NaN  ,\n",
              "    Game 1   Sun, May 1  Milwaukee Bucks  101   @ Boston Celtics   89\n",
              " 0  Game 2   Tue, May 3  Milwaukee Bucks   86   @ Boston Celtics  109\n",
              " 1  Game 3   Sat, May 7   Boston Celtics  101  @ Milwaukee Bucks  103\n",
              " 2  Game 4   Mon, May 9   Boston Celtics  116  @ Milwaukee Bucks  108\n",
              " 3  Game 5  Wed, May 11  Milwaukee Bucks  110   @ Boston Celtics  107\n",
              " 4  Game 6  Fri, May 13   Boston Celtics  108  @ Milwaukee Bucks   95\n",
              " 5  Game 7  Sun, May 15  Milwaukee Bucks   81   @ Boston Celtics  109,\n",
              "    Game 1   Mon, May 2  Philadelphia 76ers   92          @ Miami Heat  106\n",
              " 0  Game 2   Wed, May 4  Philadelphia 76ers  103          @ Miami Heat  119\n",
              " 1  Game 3   Fri, May 6          Miami Heat   79  @ Philadelphia 76ers   99\n",
              " 2  Game 4   Sun, May 8          Miami Heat  108  @ Philadelphia 76ers  116\n",
              " 3  Game 5  Tue, May 10  Philadelphia 76ers   85          @ Miami Heat  120\n",
              " 4  Game 6  Thu, May 12          Miami Heat   99  @ Philadelphia 76ers   90,\n",
              "    Game 1   Mon, May 2  Dallas Mavericks  114      @ Phoenix Suns  121\n",
              " 0  Game 2   Wed, May 4  Dallas Mavericks  109      @ Phoenix Suns  129\n",
              " 1  Game 3   Fri, May 6      Phoenix Suns   94  @ Dallas Mavericks  103\n",
              " 2  Game 4   Sun, May 8      Phoenix Suns  101  @ Dallas Mavericks  111\n",
              " 3  Game 5  Tue, May 10  Dallas Mavericks   80      @ Phoenix Suns  110\n",
              " 4  Game 6  Thu, May 12      Phoenix Suns   86  @ Dallas Mavericks  113\n",
              " 5  Game 7  Sun, May 15  Dallas Mavericks  123      @ Phoenix Suns   90,\n",
              "    Game 1   Sun, May 1  Golden State Warriors  117      @ Memphis Grizzlies  \\\n",
              " 0  Game 2   Tue, May 3  Golden State Warriors  101      @ Memphis Grizzlies   \n",
              " 1  Game 3   Sat, May 7      Memphis Grizzlies  112  @ Golden State Warriors   \n",
              " 2  Game 4   Mon, May 9      Memphis Grizzlies   98  @ Golden State Warriors   \n",
              " 3  Game 5  Wed, May 11  Golden State Warriors   95      @ Memphis Grizzlies   \n",
              " 4  Game 6  Fri, May 13      Memphis Grizzlies   96  @ Golden State Warriors   \n",
              " \n",
              "    116  \n",
              " 0  106  \n",
              " 1  142  \n",
              " 2  101  \n",
              " 3  134  \n",
              " 4  110  ,\n",
              "    Game 1  Sun, April 17   Brooklyn Nets  114  @ Boston Celtics  115\n",
              " 0  Game 2  Wed, April 20   Brooklyn Nets  107  @ Boston Celtics  114\n",
              " 1  Game 3  Sat, April 23  Boston Celtics  109   @ Brooklyn Nets  103\n",
              " 2  Game 4  Mon, April 25  Boston Celtics  116   @ Brooklyn Nets  112,\n",
              "    Game 1  Sun, April 17  Atlanta Hawks   91     @ Miami Heat  115\n",
              " 0  Game 2  Tue, April 19  Atlanta Hawks  105     @ Miami Heat  115\n",
              " 1  Game 3  Fri, April 22     Miami Heat  110  @ Atlanta Hawks  111\n",
              " 2  Game 4  Sun, April 24     Miami Heat  110  @ Atlanta Hawks   86\n",
              " 3  Game 5  Tue, April 26  Atlanta Hawks   94     @ Miami Heat   97,\n",
              "    Game 1  Sun, April 17    Chicago Bulls   86  @ Milwaukee Bucks   93\n",
              " 0  Game 2  Wed, April 20    Chicago Bulls  114  @ Milwaukee Bucks  110\n",
              " 1  Game 3  Fri, April 22  Milwaukee Bucks  111    @ Chicago Bulls   81\n",
              " 2  Game 4  Sun, April 24  Milwaukee Bucks  119    @ Chicago Bulls   95\n",
              " 3  Game 5  Wed, April 27    Chicago Bulls  100  @ Milwaukee Bucks  116,\n",
              "    Game 1  Sat, April 16     Toronto Raptors  111  @ Philadelphia 76ers  131\n",
              " 0  Game 2  Mon, April 18     Toronto Raptors   97  @ Philadelphia 76ers  112\n",
              " 1  Game 3  Wed, April 20  Philadelphia 76ers  104     @ Toronto Raptors  101\n",
              " 2  Game 4  Sat, April 23  Philadelphia 76ers  102     @ Toronto Raptors  110\n",
              " 3  Game 5  Mon, April 25     Toronto Raptors  103  @ Philadelphia 76ers   88\n",
              " 4  Game 6  Thu, April 28  Philadelphia 76ers  132     @ Toronto Raptors   97,\n",
              "    Game 1  Sat, April 16         Utah Jazz   99  @ Dallas Mavericks   93\n",
              " 0  Game 2  Mon, April 18         Utah Jazz  104  @ Dallas Mavericks  110\n",
              " 1  Game 3  Thu, April 21  Dallas Mavericks  126         @ Utah Jazz  118\n",
              " 2  Game 4  Sat, April 23  Dallas Mavericks   99         @ Utah Jazz  100\n",
              " 3  Game 5  Mon, April 25         Utah Jazz   77  @ Dallas Mavericks  102\n",
              " 4  Game 6  Thu, April 28  Dallas Mavericks   98         @ Utah Jazz   96,\n",
              "    Game 1  Sat, April 16         Denver Nuggets  107  @ Golden State Warriors  \\\n",
              " 0  Game 2  Mon, April 18         Denver Nuggets  106  @ Golden State Warriors   \n",
              " 1  Game 3  Thu, April 21  Golden State Warriors  118         @ Denver Nuggets   \n",
              " 2  Game 4  Sun, April 24  Golden State Warriors  121         @ Denver Nuggets   \n",
              " 3  Game 5  Wed, April 27         Denver Nuggets   98  @ Golden State Warriors   \n",
              " \n",
              "    123  \n",
              " 0  126  \n",
              " 1  113  \n",
              " 2  126  \n",
              " 3  102  ,\n",
              "    Game 1  Sat, April 16  Minnesota Timberwolves  130  \\\n",
              " 0  Game 2  Tue, April 19  Minnesota Timberwolves   96   \n",
              " 1  Game 3  Thu, April 21       Memphis Grizzlies  104   \n",
              " 2  Game 4  Sat, April 23       Memphis Grizzlies  118   \n",
              " 3  Game 5  Tue, April 26  Minnesota Timberwolves  109   \n",
              " 4  Game 6  Fri, April 29       Memphis Grizzlies  114   \n",
              " \n",
              "         @ Memphis Grizzlies  117  \n",
              " 0       @ Memphis Grizzlies  124  \n",
              " 1  @ Minnesota Timberwolves   95  \n",
              " 2  @ Minnesota Timberwolves  119  \n",
              " 3       @ Memphis Grizzlies  111  \n",
              " 4  @ Minnesota Timberwolves  106  ,\n",
              "    Game 1  Sun, April 17  New Orleans Pelicans   99          @ Phoenix Suns  \\\n",
              " 0  Game 2  Tue, April 19  New Orleans Pelicans  125          @ Phoenix Suns   \n",
              " 1  Game 3  Fri, April 22          Phoenix Suns  114  @ New Orleans Pelicans   \n",
              " 2  Game 4  Sun, April 24          Phoenix Suns  103  @ New Orleans Pelicans   \n",
              " 3  Game 5  Tue, April 26  New Orleans Pelicans   97          @ Phoenix Suns   \n",
              " 4  Game 6  Thu, April 28          Phoenix Suns  115  @ New Orleans Pelicans   \n",
              " \n",
              "    110  \n",
              " 0  114  \n",
              " 1  111  \n",
              " 2  118  \n",
              " 3  112  \n",
              " 4  109  ,\n",
              "       Rk                      Tm   G     MP    FG   FGA    FG%    3P   3PA  \\\n",
              " 0    1.0   Golden State Warriors  12  240.0  42.3  86.4  0.489  13.9  37.2   \n",
              " 1    2.0       Memphis Grizzlies  12  240.0  39.8  91.3  0.435  13.1  35.8   \n",
              " 2    3.0          Denver Nuggets   5  240.0  39.4  82.8  0.476  11.2  31.4   \n",
              " 3    4.0    New Orleans Pelicans   6  240.0  39.0  84.3  0.462   9.3  26.3   \n",
              " 4    5.0  Minnesota Timberwolves   6  240.0  36.3  82.0  0.443  13.8  35.7   \n",
              " 5    6.0           Brooklyn Nets   4  240.0  39.3  78.0  0.503  11.5  27.3   \n",
              " 6    7.0          Boston Celtics  12  240.0  38.2  84.0  0.454  14.2  38.7   \n",
              " 7    8.0              Miami Heat  12  240.0  39.2  84.0  0.466  11.1  34.4   \n",
              " 8    9.0            Phoenix Suns  13  240.0  41.2  82.8  0.497   9.8  27.2   \n",
              " 9   10.0        Dallas Mavericks  14  240.0  36.3  81.3  0.446  15.2  40.9   \n",
              " 10  11.0      Philadelphia 76ers  12  242.1  36.4  78.3  0.465  12.4  33.3   \n",
              " 11  12.0         Toronto Raptors   6  244.2  38.3  86.0  0.446   9.8  32.8   \n",
              " 12  13.0         Milwaukee Bucks  12  240.0  38.5  88.0  0.438  10.6  32.3   \n",
              " 13  14.0               Utah Jazz   6  240.0  35.0  79.0  0.443   8.2  29.8   \n",
              " 14  15.0           Atlanta Hawks   5  240.0  34.4  78.2  0.440  11.4  35.0   \n",
              " 15  16.0           Chicago Bulls   5  240.0  36.4  90.2  0.404  10.4  36.8   \n",
              " 16   NaN          League Average   9  240.4  38.4  83.9  0.458  12.0  34.1   \n",
              " \n",
              "       3P%  ...    FT%   ORB   DRB   TRB   AST  STL  BLK   TOV    PF    PTS  \n",
              " 0   0.374  ...  0.733   9.6  34.8  44.4  27.5  7.3  6.0  15.8  21.8  114.0  \n",
              " 1   0.365  ...  0.735  12.4  33.4  45.8  25.2  9.2  6.1  14.0  20.8  112.5  \n",
              " 2   0.357  ...  0.794  11.2  30.6  41.8  25.0  7.0  3.4  16.4  25.0  110.0  \n",
              " 3   0.354  ...  0.780  15.2  30.5  45.7  21.3  6.3  3.5  14.5  21.2  109.8  \n",
              " 4   0.388  ...  0.810   7.0  33.0  40.0  22.8  8.2  7.8  17.7  26.8  109.2  \n",
              " 5   0.422  ...  0.738   8.5  25.5  34.0  22.3  8.0  6.5  15.3  24.8  109.0  \n",
              " 6   0.366  ...  0.799   8.8  32.5  41.3  24.8  7.0  6.2  13.4  22.5  108.3  \n",
              " 7   0.322  ...  0.811   9.2  32.0  41.2  22.8  8.5  4.0  13.3  21.2  108.0  \n",
              " 8   0.363  ...  0.817   9.5  30.7  40.2  25.7  6.6  3.8  13.3  22.5  107.6  \n",
              " 9   0.372  ...  0.771   6.9  29.9  36.8  18.1  7.7  2.4  10.5  21.8  104.9  \n",
              " 10  0.373  ...  0.849   7.7  31.3  39.0  21.8  6.1  4.3  14.8  20.6  104.5  \n",
              " 11  0.299  ...  0.794  10.0  27.5  37.5  20.7  6.7  4.8  10.0  22.2  103.2  \n",
              " 12  0.327  ...  0.731   9.8  40.7  50.4  20.8  6.3  4.5  13.8  19.2  102.8  \n",
              " 13  0.274  ...  0.786   9.3  35.5  44.8  17.2  4.0  3.7  11.8  22.0   99.0  \n",
              " 14  0.326  ...  0.782   8.6  30.8  39.4  18.6  5.8  2.4  16.4  21.6   97.4  \n",
              " 15  0.283  ...  0.833   8.2  35.8  44.0  23.0  7.8  3.2  13.0  18.6   95.2  \n",
              " 16  0.352  ...  0.783   9.4  32.5  41.9  22.6  7.1  4.5  13.8  21.7  106.6  \n",
              " \n",
              " [17 rows x 25 columns],\n",
              "       Rk                      Tm   G     MP    FG   FGA    FG%    3P   3PA  \\\n",
              " 0    1.0              Miami Heat  12  240.0  34.7  78.3  0.443  11.3  34.0   \n",
              " 1    2.0         Milwaukee Bucks  12  240.0  36.6  86.9  0.421  13.5  39.7   \n",
              " 2    3.0        Dallas Mavericks  14  240.0  37.9  81.1  0.468   9.6  28.4   \n",
              " 3    4.0          Boston Celtics  12  240.0  37.9  84.8  0.447   9.4  28.6   \n",
              " 4    5.0      Philadelphia 76ers  12  242.1  38.5  84.7  0.455   9.7  32.3   \n",
              " 5    6.0               Utah Jazz   6  240.0  35.8  80.7  0.444  15.5  41.8   \n",
              " 6    7.0   Golden State Warriors  12  240.0  38.8  89.1  0.436  12.9  37.1   \n",
              " 7    8.0            Phoenix Suns  13  240.0  38.2  82.6  0.462  12.7  33.2   \n",
              " 8    9.0           Atlanta Hawks   5  240.0  39.8  85.6  0.465  13.2  38.4   \n",
              " 9   10.0           Chicago Bulls   5  240.0  40.6  86.0  0.472  14.0  36.8   \n",
              " 10  11.0       Memphis Grizzlies  12  240.0  39.1  86.6  0.451  13.7  37.6   \n",
              " 11  12.0    New Orleans Pelicans   6  240.0  43.3  82.8  0.523   8.7  27.2   \n",
              " 12  13.0         Toronto Raptors   6  244.2  38.2  78.2  0.488  13.7  33.5   \n",
              " 13  14.0           Brooklyn Nets   4  240.0  41.3  84.3  0.490  12.3  34.5   \n",
              " 14  15.0  Minnesota Timberwolves   6  240.0  39.8  87.8  0.454  11.5  31.7   \n",
              " 15  16.0          Denver Nuggets   5  240.0  42.0  81.6  0.515  15.2  36.0   \n",
              " 16   NaN          League Average   9  240.4  38.4  83.9  0.458  12.0  34.1   \n",
              " \n",
              "       3P%  ...    FT%   ORB   DRB   TRB   AST  STL  BLK   TOV    PF    PTS  \n",
              " 0   0.331  ...  0.809   7.8  29.9  37.7  19.3  6.6  3.6  15.7  21.3   98.3  \n",
              " 1   0.340  ...  0.806   7.8  35.4  43.3  24.0  6.7  5.5  12.8  20.2  101.3  \n",
              " 2   0.339  ...  0.795  10.1  34.8  44.9  21.4  5.1  3.9  13.8  22.1  102.6  \n",
              " 3   0.329  ...  0.768   9.9  33.5  43.4  20.0  7.2  5.7  13.5  22.0  103.2  \n",
              " 4   0.299  ...  0.805  10.0  30.0  40.0  21.1  7.1  4.2  11.7  20.5  104.2  \n",
              " 5   0.371  ...  0.789   6.0  31.7  37.7  19.3  6.5  2.3   8.7  23.2  104.7  \n",
              " 6   0.348  ...  0.763  11.6  31.4  43.0  23.8  8.6  4.5  13.9  21.0  108.3  \n",
              " 7   0.383  ...  0.775  10.9  29.7  40.6  19.3  7.7  3.0  13.0  21.2  108.6  \n",
              " 8   0.344  ...  0.783   8.2  31.8  40.0  25.4  9.4  3.0  13.2  23.4  109.4  \n",
              " 9   0.380  ...  0.689   8.2  43.6  51.8  23.4  6.4  4.8  15.4  17.8  109.8  \n",
              " 10  0.364  ...  0.802   9.6  35.7  45.3  25.0  6.8  6.8  17.9  23.8  110.1  \n",
              " 11  0.319  ...  0.807   7.5  28.2  35.7  26.8  7.8  4.0  11.0  22.7  111.3  \n",
              " 12  0.408  ...  0.849   8.3  33.5  41.8  24.0  5.2  4.8  14.5  20.3  111.5  \n",
              " 13  0.355  ...  0.824  11.0  28.5  39.5  25.8  8.8  4.0  14.0  24.5  113.5  \n",
              " 14  0.363  ...  0.727  12.5  33.8  46.3  25.8  8.2  6.2  16.0  23.2  114.7  \n",
              " 15  0.422  ...  0.701   7.0  28.8  35.8  28.6  9.4  6.2  13.0  23.2  118.0  \n",
              " 16  0.352  ...  0.783   9.4  32.5  41.9  22.6  7.1  4.5  13.8  21.7  106.6  \n",
              " \n",
              " [17 rows x 25 columns],\n",
              "       Rk                      Tm   G    MP   FG   FGA    FG%   3P  3PA    3P%  \\\n",
              " 0    1.0        Dallas Mavericks  14  3360  508  1138  0.446  213  572  0.372   \n",
              " 1    2.0            Phoenix Suns  13  3120  535  1076  0.497  128  353  0.363   \n",
              " 2    3.0   Golden State Warriors  12  2880  507  1037  0.489  167  446  0.374   \n",
              " 3    4.0       Memphis Grizzlies  12  2880  477  1096  0.435  157  430  0.365   \n",
              " 4    5.0          Boston Celtics  12  2880  458  1008  0.454  170  464  0.366   \n",
              " 5    6.0              Miami Heat  12  2880  470  1008  0.466  133  413  0.322   \n",
              " 6    7.0      Philadelphia 76ers  12  2905  437   939  0.465  149  400  0.373   \n",
              " 7    8.0         Milwaukee Bucks  12  2880  462  1056  0.438  127  388  0.327   \n",
              " 8    9.0    New Orleans Pelicans   6  1440  234   506  0.462   56  158  0.354   \n",
              " 9   10.0  Minnesota Timberwolves   6  1440  218   492  0.443   83  214  0.388   \n",
              " 10  11.0         Toronto Raptors   6  1465  230   516  0.446   59  197  0.299   \n",
              " 11  12.0               Utah Jazz   6  1440  210   474  0.443   49  179  0.274   \n",
              " 12  13.0          Denver Nuggets   5  1200  197   414  0.476   56  157  0.357   \n",
              " 13  14.0           Atlanta Hawks   5  1200  172   391  0.440   57  175  0.326   \n",
              " 14  15.0           Chicago Bulls   5  1200  182   451  0.404   52  184  0.283   \n",
              " 15  16.0           Brooklyn Nets   4   960  157   312  0.503   46  109  0.422   \n",
              " 16   NaN          League Average   9  2133  341   745  0.458  106  302  0.352   \n",
              " \n",
              "     ...    FT%  ORB  DRB  TRB  AST  STL  BLK  TOV   PF   PTS  \n",
              " 0   ...  0.771   96  419  515  253  108   33  147  305  1468  \n",
              " 1   ...  0.817  123  399  522  334   86   49  173  292  1399  \n",
              " 2   ...  0.733  115  418  533  330   88   72  189  262  1368  \n",
              " 3   ...  0.735  149  401  550  302  110   73  168  249  1350  \n",
              " 4   ...  0.799  105  390  495  298   84   74  161  270  1300  \n",
              " 5   ...  0.811  110  384  494  274  102   48  159  254  1296  \n",
              " 6   ...  0.849   92  376  468  261   73   52  177  247  1254  \n",
              " 7   ...  0.731  117  488  605  250   76   54  165  230  1233  \n",
              " 8   ...  0.780   91  183  274  128   38   21   87  127   659  \n",
              " 9   ...  0.810   42  198  240  137   49   47  106  161   655  \n",
              " 10  ...  0.794   60  165  225  124   40   29   60  133   619  \n",
              " 11  ...  0.786   56  213  269  103   24   22   71  132   594  \n",
              " 12  ...  0.794   56  153  209  125   35   17   82  125   550  \n",
              " 13  ...  0.782   43  154  197   93   29   12   82  108   487  \n",
              " 14  ...  0.833   41  179  220  115   39   16   65   93   476  \n",
              " 15  ...  0.738   34  102  136   89   32   26   61   99   436  \n",
              " 16  ...  0.783   83  289  372  201   63   40  122  193   947  \n",
              " \n",
              " [17 rows x 25 columns],\n",
              "       Rk                      Tm   G    MP   FG   FGA    FG%   3P  3PA    3P%  \\\n",
              " 0    1.0           Brooklyn Nets   4   960  165   337  0.490   49  138  0.355   \n",
              " 1    2.0           Atlanta Hawks   5  1200  199   428  0.465   66  192  0.344   \n",
              " 2    3.0           Chicago Bulls   5  1200  203   430  0.472   70  184  0.380   \n",
              " 3    4.0          Denver Nuggets   5  1200  210   408  0.515   76  180  0.422   \n",
              " 4    5.0               Utah Jazz   6  1440  215   484  0.444   93  251  0.371   \n",
              " 5    6.0    New Orleans Pelicans   6  1440  260   497  0.523   52  163  0.319   \n",
              " 6    7.0         Toronto Raptors   6  1465  229   469  0.488   82  201  0.408   \n",
              " 7    8.0  Minnesota Timberwolves   6  1440  239   527  0.454   69  190  0.363   \n",
              " 8    9.0              Miami Heat  12  2880  416   940  0.443  135  408  0.331   \n",
              " 9   10.0         Milwaukee Bucks  12  2880  439  1043  0.421  162  476  0.340   \n",
              " 10  11.0          Boston Celtics  12  2880  455  1018  0.447  113  343  0.329   \n",
              " 11  12.0      Philadelphia 76ers  12  2905  462  1016  0.455  116  388  0.299   \n",
              " 12  13.0   Golden State Warriors  12  2880  466  1069  0.436  155  445  0.348   \n",
              " 13  14.0       Memphis Grizzlies  12  2880  469  1039  0.451  164  451  0.364   \n",
              " 14  15.0            Phoenix Suns  13  3120  496  1074  0.462  165  431  0.383   \n",
              " 15  16.0        Dallas Mavericks  14  3360  531  1135  0.468  135  398  0.339   \n",
              " 16   NaN          League Average   9  2133  341   745  0.458  106  302  0.352   \n",
              " \n",
              "     ...    FT%  ORB  DRB  TRB  AST  STL  BLK  TOV   PF   PTS  \n",
              " 0   ...  0.824   44  114  158  103   35   16   56   98   454  \n",
              " 1   ...  0.783   41  159  200  127   47   15   66  117   547  \n",
              " 2   ...  0.689   41  218  259  117   32   24   77   89   549  \n",
              " 3   ...  0.701   35  144  179  143   47   31   65  116   590  \n",
              " 4   ...  0.789   36  190  226  116   39   14   52  139   628  \n",
              " 5   ...  0.807   45  169  214  161   47   24   66  136   668  \n",
              " 6   ...  0.849   50  201  251  144   31   29   87  122   669  \n",
              " 7   ...  0.727   75  203  278  155   49   37   96  139   688  \n",
              " 8   ...  0.809   93  359  452  232   79   43  188  256  1179  \n",
              " 9   ...  0.806   94  425  519  288   80   66  154  242  1215  \n",
              " 10  ...  0.768  119  402  521  240   86   68  162  264  1238  \n",
              " 11  ...  0.805  120  360  480  253   85   50  140  246  1250  \n",
              " 12  ...  0.763  139  377  516  286  103   54  167  252  1299  \n",
              " 13  ...  0.802  115  428  543  300   82   81  215  285  1321  \n",
              " 14  ...  0.775  142  386  528  251  100   39  169  276  1412  \n",
              " 15  ...  0.795  141  487  628  300   71   54  193  310  1437  \n",
              " 16  ...  0.783   83  289  372  201   63   40  122  193   947  \n",
              " \n",
              " [17 rows x 25 columns],\n",
              "    Unnamed: 0              Unnamed: 1 Unnamed: 2 Unnamed: 3 Unnamed: 4  \\\n",
              " 0          Rk                      Tm        Age          W          L   \n",
              " 1           1              Miami Heat       28.1          9          3   \n",
              " 2           2   Golden State Warriors       28.2          9          3   \n",
              " 3           3          Boston Celtics       26.3          8          4   \n",
              " 4           4        Dallas Mavericks       27.2          8          6   \n",
              " 5           5       Memphis Grizzlies       23.9          6          6   \n",
              " 6           6         Milwaukee Bucks       29.5          7          5   \n",
              " 7           7      Philadelphia 76ers       27.4          6          6   \n",
              " 8           8            Phoenix Suns       27.8          7          6   \n",
              " 9           9    New Orleans Pelicans       25.5          2          4   \n",
              " 10         10           Brooklyn Nets       29.5          0          4   \n",
              " 11         11  Minnesota Timberwolves       24.8          2          4   \n",
              " 12         12               Utah Jazz       29.1          2          4   \n",
              " 13         13          Denver Nuggets       28.1          1          4   \n",
              " 14         14         Toronto Raptors       25.3          2          4   \n",
              " 15         15           Atlanta Hawks       25.5          1          4   \n",
              " 16         16           Chicago Bulls       26.4          1          4   \n",
              " 17        NaN          League Average       27.1        NaN        NaN   \n",
              " \n",
              "    Unnamed: 5 Unnamed: 6 Unnamed: 7 Unnamed: 8 Unnamed: 9  ... Unnamed: 15  \\\n",
              " 0        W/L%         PW         PL       ORtg       DRtg  ...         NaN   \n",
              " 1        .750          9          3      114.4      104.1  ...         NaN   \n",
              " 2        .750          8          4      114.9      109.1  ...         NaN   \n",
              " 3        .667          8          4      112.8      107.4  ...         NaN   \n",
              " 4        .571          8          6      113.6      111.2  ...         NaN   \n",
              " 5        .500          7          5      110.2      107.8  ...         NaN   \n",
              " 6        .583          7          5      104.4      102.8  ...         NaN   \n",
              " 7        .500          6          6      112.3      112.0  ...         NaN   \n",
              " 8        .538          6          7      115.6      116.7  ...         NaN   \n",
              " 9        .333          3          3      117.6      119.2  ...         NaN   \n",
              " 10       .000          1          3      116.3      121.1  ...         NaN   \n",
              " 11       .333          2          4      106.4      111.8  ...         NaN   \n",
              " 12       .333          2          4      108.8      115.0  ...         NaN   \n",
              " 13       .200          1          4      113.6      121.8  ...         NaN   \n",
              " 14       .333          2          4      111.2      120.2  ...         NaN   \n",
              " 15       .200          1          4      102.3      114.9  ...         NaN   \n",
              " 16       .200          1          4       94.9      109.4  ...         NaN   \n",
              " 17        NaN          4          4      111.2      111.2  ...         NaN   \n",
              " \n",
              "    Offense Four Factors Offense Four Factors.1 Offense Four Factors.2  \\\n",
              " 0                  eFG%                   TOV%                   ORB%   \n",
              " 1                  .532                   12.3                   23.5   \n",
              " 2                  .569                   14.1                   23.4   \n",
              " 3                  .539                   12.5                   20.7   \n",
              " 4                  .540                   10.3                   16.5   \n",
              " 5                  .507                   11.9                   25.8   \n",
              " 6                  .498                   12.4                   21.6   \n",
              " 7                  .545                   14.3                   20.4   \n",
              " 8                  .557                   12.7                   24.2   \n",
              " 9                  .518                   13.0                   35.0   \n",
              " 10                 .577                   14.6                   23.0   \n",
              " 11                 .527                   15.8                   17.1   \n",
              " 12                 .495                   11.5                   22.8   \n",
              " 13                 .543                   14.9                   28.0   \n",
              " 14                 .503                    9.5                   23.0   \n",
              " 15                 .513                   15.7                   21.3   \n",
              " 16                 .461                   11.9                   15.8   \n",
              " 17                 .529                   12.8                   22.3   \n",
              " \n",
              "    Offense Four Factors.3  Unnamed: 20 Defense Four Factors  \\\n",
              " 0                  FT/FGA          NaN                 eFG%   \n",
              " 1                    .221          NaN                 .514   \n",
              " 2                    .180          NaN                 .508   \n",
              " 3                    .212          NaN                 .502   \n",
              " 4                    .210          NaN                 .527   \n",
              " 5                    .218          NaN                 .530   \n",
              " 6                    .172          NaN                 .499   \n",
              " 7                    .246          NaN                 .512   \n",
              " 8                    .187          NaN                 .539   \n",
              " 9                    .267          NaN                 .575   \n",
              " 10                   .244          NaN                 .562   \n",
              " 11                   .276          NaN                 .519   \n",
              " 12                   .264          NaN                 .540   \n",
              " 13                   .242          NaN                 .608   \n",
              " 14                   .194          NaN                 .576   \n",
              " 15                   .220          NaN                 .542   \n",
              " 16                   .133          NaN                 .553   \n",
              " 17                   .213          NaN                 .529   \n",
              " \n",
              "    Defense Four Factors.1 Defense Four Factors.2 Defense Four Factors.3  \n",
              " 0                    TOV%                   DRB%                 FT/FGA  \n",
              " 1                    15.1                   80.5                   .226  \n",
              " 2                    12.3                   75.0                   .198  \n",
              " 3                    12.4                   76.6                   .211  \n",
              " 4                    13.2                   74.8                   .211  \n",
              " 5                    15.6                   77.7                   .211  \n",
              " 6                    11.9                   83.8                   .168  \n",
              " 7                    11.0                   75.8                   .207  \n",
              " 8                    12.2                   73.8                   .237  \n",
              " 9                    10.7                   80.3                   .193  \n",
              " 10                   12.9                   69.9                   .223  \n",
              " 11                   13.6                   72.5                   .268  \n",
              " 12                    8.7                   85.5                   .217  \n",
              " 13                   12.2                   81.4                   .230  \n",
              " 14                   14.0                   76.7                   .275  \n",
              " 15                   12.2                   79.0                   .194  \n",
              " 16                   13.9                   81.4                   .170  \n",
              " 17                   12.8                   77.7                   .213  \n",
              " \n",
              " [18 rows x 25 columns]]"
            ]
          },
          "metadata": {},
          "execution_count": 19
        }
      ]
    },
    {
      "cell_type": "markdown",
      "metadata": {
        "id": "iVtWB7zuUWIp"
      },
      "source": [
        "### How many tables are there in the webpage?"
      ]
    },
    {
      "cell_type": "code",
      "metadata": {
        "id": "BdIXrthuTApH",
        "outputId": "49470a81-d87a-4cb2-a3c2-76ad10d1023f",
        "colab": {
          "base_uri": "https://localhost:8080/"
        }
      },
      "source": [
        "len(df)"
      ],
      "execution_count": 20,
      "outputs": [
        {
          "output_type": "execute_result",
          "data": {
            "text/plain": [
              "20"
            ]
          },
          "metadata": {},
          "execution_count": 20
        }
      ]
    },
    {
      "cell_type": "markdown",
      "metadata": {
        "id": "glCMVlkWU6ik"
      },
      "source": [
        "### Select the first table"
      ]
    },
    {
      "cell_type": "code",
      "source": [
        "Per_Game_Stats = pd.read_html(url, match='Per Game Stats')\n",
        "len(Per_Game_Stats)"
      ],
      "metadata": {
        "colab": {
          "base_uri": "https://localhost:8080/"
        },
        "id": "fN0Rur2MkqEp",
        "outputId": "0187cbff-d0bc-4a97-d61f-cf1207204f6a"
      },
      "execution_count": 26,
      "outputs": [
        {
          "output_type": "execute_result",
          "data": {
            "text/plain": [
              "2"
            ]
          },
          "metadata": {},
          "execution_count": 26
        }
      ]
    },
    {
      "cell_type": "code",
      "metadata": {
        "id": "Pv0NHbFeTrEp",
        "outputId": "0a770e0e-c8a7-4572-de20-5bf21babafae",
        "colab": {
          "base_uri": "https://localhost:8080/",
          "height": 611
        }
      },
      "source": [
        "Per_Game_Stats[0]"
      ],
      "execution_count": 29,
      "outputs": [
        {
          "output_type": "execute_result",
          "data": {
            "text/plain": [
              "      Rk                      Tm   G     MP    FG   FGA    FG%    3P   3PA  \\\n",
              "0    1.0   Golden State Warriors  12  240.0  42.3  86.4  0.489  13.9  37.2   \n",
              "1    2.0       Memphis Grizzlies  12  240.0  39.8  91.3  0.435  13.1  35.8   \n",
              "2    3.0          Denver Nuggets   5  240.0  39.4  82.8  0.476  11.2  31.4   \n",
              "3    4.0    New Orleans Pelicans   6  240.0  39.0  84.3  0.462   9.3  26.3   \n",
              "4    5.0  Minnesota Timberwolves   6  240.0  36.3  82.0  0.443  13.8  35.7   \n",
              "5    6.0           Brooklyn Nets   4  240.0  39.3  78.0  0.503  11.5  27.3   \n",
              "6    7.0          Boston Celtics  12  240.0  38.2  84.0  0.454  14.2  38.7   \n",
              "7    8.0              Miami Heat  12  240.0  39.2  84.0  0.466  11.1  34.4   \n",
              "8    9.0            Phoenix Suns  13  240.0  41.2  82.8  0.497   9.8  27.2   \n",
              "9   10.0        Dallas Mavericks  14  240.0  36.3  81.3  0.446  15.2  40.9   \n",
              "10  11.0      Philadelphia 76ers  12  242.1  36.4  78.3  0.465  12.4  33.3   \n",
              "11  12.0         Toronto Raptors   6  244.2  38.3  86.0  0.446   9.8  32.8   \n",
              "12  13.0         Milwaukee Bucks  12  240.0  38.5  88.0  0.438  10.6  32.3   \n",
              "13  14.0               Utah Jazz   6  240.0  35.0  79.0  0.443   8.2  29.8   \n",
              "14  15.0           Atlanta Hawks   5  240.0  34.4  78.2  0.440  11.4  35.0   \n",
              "15  16.0           Chicago Bulls   5  240.0  36.4  90.2  0.404  10.4  36.8   \n",
              "16   NaN          League Average   9  240.4  38.4  83.9  0.458  12.0  34.1   \n",
              "\n",
              "      3P%  ...    FT%   ORB   DRB   TRB   AST  STL  BLK   TOV    PF    PTS  \n",
              "0   0.374  ...  0.733   9.6  34.8  44.4  27.5  7.3  6.0  15.8  21.8  114.0  \n",
              "1   0.365  ...  0.735  12.4  33.4  45.8  25.2  9.2  6.1  14.0  20.8  112.5  \n",
              "2   0.357  ...  0.794  11.2  30.6  41.8  25.0  7.0  3.4  16.4  25.0  110.0  \n",
              "3   0.354  ...  0.780  15.2  30.5  45.7  21.3  6.3  3.5  14.5  21.2  109.8  \n",
              "4   0.388  ...  0.810   7.0  33.0  40.0  22.8  8.2  7.8  17.7  26.8  109.2  \n",
              "5   0.422  ...  0.738   8.5  25.5  34.0  22.3  8.0  6.5  15.3  24.8  109.0  \n",
              "6   0.366  ...  0.799   8.8  32.5  41.3  24.8  7.0  6.2  13.4  22.5  108.3  \n",
              "7   0.322  ...  0.811   9.2  32.0  41.2  22.8  8.5  4.0  13.3  21.2  108.0  \n",
              "8   0.363  ...  0.817   9.5  30.7  40.2  25.7  6.6  3.8  13.3  22.5  107.6  \n",
              "9   0.372  ...  0.771   6.9  29.9  36.8  18.1  7.7  2.4  10.5  21.8  104.9  \n",
              "10  0.373  ...  0.849   7.7  31.3  39.0  21.8  6.1  4.3  14.8  20.6  104.5  \n",
              "11  0.299  ...  0.794  10.0  27.5  37.5  20.7  6.7  4.8  10.0  22.2  103.2  \n",
              "12  0.327  ...  0.731   9.8  40.7  50.4  20.8  6.3  4.5  13.8  19.2  102.8  \n",
              "13  0.274  ...  0.786   9.3  35.5  44.8  17.2  4.0  3.7  11.8  22.0   99.0  \n",
              "14  0.326  ...  0.782   8.6  30.8  39.4  18.6  5.8  2.4  16.4  21.6   97.4  \n",
              "15  0.283  ...  0.833   8.2  35.8  44.0  23.0  7.8  3.2  13.0  18.6   95.2  \n",
              "16  0.352  ...  0.783   9.4  32.5  41.9  22.6  7.1  4.5  13.8  21.7  106.6  \n",
              "\n",
              "[17 rows x 25 columns]"
            ],
            "text/html": [
              "\n",
              "  <div id=\"df-034b7236-0d83-4c9e-98be-5175486fe9be\">\n",
              "    <div class=\"colab-df-container\">\n",
              "      <div>\n",
              "<style scoped>\n",
              "    .dataframe tbody tr th:only-of-type {\n",
              "        vertical-align: middle;\n",
              "    }\n",
              "\n",
              "    .dataframe tbody tr th {\n",
              "        vertical-align: top;\n",
              "    }\n",
              "\n",
              "    .dataframe thead th {\n",
              "        text-align: right;\n",
              "    }\n",
              "</style>\n",
              "<table border=\"1\" class=\"dataframe\">\n",
              "  <thead>\n",
              "    <tr style=\"text-align: right;\">\n",
              "      <th></th>\n",
              "      <th>Rk</th>\n",
              "      <th>Tm</th>\n",
              "      <th>G</th>\n",
              "      <th>MP</th>\n",
              "      <th>FG</th>\n",
              "      <th>FGA</th>\n",
              "      <th>FG%</th>\n",
              "      <th>3P</th>\n",
              "      <th>3PA</th>\n",
              "      <th>3P%</th>\n",
              "      <th>...</th>\n",
              "      <th>FT%</th>\n",
              "      <th>ORB</th>\n",
              "      <th>DRB</th>\n",
              "      <th>TRB</th>\n",
              "      <th>AST</th>\n",
              "      <th>STL</th>\n",
              "      <th>BLK</th>\n",
              "      <th>TOV</th>\n",
              "      <th>PF</th>\n",
              "      <th>PTS</th>\n",
              "    </tr>\n",
              "  </thead>\n",
              "  <tbody>\n",
              "    <tr>\n",
              "      <th>0</th>\n",
              "      <td>1.0</td>\n",
              "      <td>Golden State Warriors</td>\n",
              "      <td>12</td>\n",
              "      <td>240.0</td>\n",
              "      <td>42.3</td>\n",
              "      <td>86.4</td>\n",
              "      <td>0.489</td>\n",
              "      <td>13.9</td>\n",
              "      <td>37.2</td>\n",
              "      <td>0.374</td>\n",
              "      <td>...</td>\n",
              "      <td>0.733</td>\n",
              "      <td>9.6</td>\n",
              "      <td>34.8</td>\n",
              "      <td>44.4</td>\n",
              "      <td>27.5</td>\n",
              "      <td>7.3</td>\n",
              "      <td>6.0</td>\n",
              "      <td>15.8</td>\n",
              "      <td>21.8</td>\n",
              "      <td>114.0</td>\n",
              "    </tr>\n",
              "    <tr>\n",
              "      <th>1</th>\n",
              "      <td>2.0</td>\n",
              "      <td>Memphis Grizzlies</td>\n",
              "      <td>12</td>\n",
              "      <td>240.0</td>\n",
              "      <td>39.8</td>\n",
              "      <td>91.3</td>\n",
              "      <td>0.435</td>\n",
              "      <td>13.1</td>\n",
              "      <td>35.8</td>\n",
              "      <td>0.365</td>\n",
              "      <td>...</td>\n",
              "      <td>0.735</td>\n",
              "      <td>12.4</td>\n",
              "      <td>33.4</td>\n",
              "      <td>45.8</td>\n",
              "      <td>25.2</td>\n",
              "      <td>9.2</td>\n",
              "      <td>6.1</td>\n",
              "      <td>14.0</td>\n",
              "      <td>20.8</td>\n",
              "      <td>112.5</td>\n",
              "    </tr>\n",
              "    <tr>\n",
              "      <th>2</th>\n",
              "      <td>3.0</td>\n",
              "      <td>Denver Nuggets</td>\n",
              "      <td>5</td>\n",
              "      <td>240.0</td>\n",
              "      <td>39.4</td>\n",
              "      <td>82.8</td>\n",
              "      <td>0.476</td>\n",
              "      <td>11.2</td>\n",
              "      <td>31.4</td>\n",
              "      <td>0.357</td>\n",
              "      <td>...</td>\n",
              "      <td>0.794</td>\n",
              "      <td>11.2</td>\n",
              "      <td>30.6</td>\n",
              "      <td>41.8</td>\n",
              "      <td>25.0</td>\n",
              "      <td>7.0</td>\n",
              "      <td>3.4</td>\n",
              "      <td>16.4</td>\n",
              "      <td>25.0</td>\n",
              "      <td>110.0</td>\n",
              "    </tr>\n",
              "    <tr>\n",
              "      <th>3</th>\n",
              "      <td>4.0</td>\n",
              "      <td>New Orleans Pelicans</td>\n",
              "      <td>6</td>\n",
              "      <td>240.0</td>\n",
              "      <td>39.0</td>\n",
              "      <td>84.3</td>\n",
              "      <td>0.462</td>\n",
              "      <td>9.3</td>\n",
              "      <td>26.3</td>\n",
              "      <td>0.354</td>\n",
              "      <td>...</td>\n",
              "      <td>0.780</td>\n",
              "      <td>15.2</td>\n",
              "      <td>30.5</td>\n",
              "      <td>45.7</td>\n",
              "      <td>21.3</td>\n",
              "      <td>6.3</td>\n",
              "      <td>3.5</td>\n",
              "      <td>14.5</td>\n",
              "      <td>21.2</td>\n",
              "      <td>109.8</td>\n",
              "    </tr>\n",
              "    <tr>\n",
              "      <th>4</th>\n",
              "      <td>5.0</td>\n",
              "      <td>Minnesota Timberwolves</td>\n",
              "      <td>6</td>\n",
              "      <td>240.0</td>\n",
              "      <td>36.3</td>\n",
              "      <td>82.0</td>\n",
              "      <td>0.443</td>\n",
              "      <td>13.8</td>\n",
              "      <td>35.7</td>\n",
              "      <td>0.388</td>\n",
              "      <td>...</td>\n",
              "      <td>0.810</td>\n",
              "      <td>7.0</td>\n",
              "      <td>33.0</td>\n",
              "      <td>40.0</td>\n",
              "      <td>22.8</td>\n",
              "      <td>8.2</td>\n",
              "      <td>7.8</td>\n",
              "      <td>17.7</td>\n",
              "      <td>26.8</td>\n",
              "      <td>109.2</td>\n",
              "    </tr>\n",
              "    <tr>\n",
              "      <th>5</th>\n",
              "      <td>6.0</td>\n",
              "      <td>Brooklyn Nets</td>\n",
              "      <td>4</td>\n",
              "      <td>240.0</td>\n",
              "      <td>39.3</td>\n",
              "      <td>78.0</td>\n",
              "      <td>0.503</td>\n",
              "      <td>11.5</td>\n",
              "      <td>27.3</td>\n",
              "      <td>0.422</td>\n",
              "      <td>...</td>\n",
              "      <td>0.738</td>\n",
              "      <td>8.5</td>\n",
              "      <td>25.5</td>\n",
              "      <td>34.0</td>\n",
              "      <td>22.3</td>\n",
              "      <td>8.0</td>\n",
              "      <td>6.5</td>\n",
              "      <td>15.3</td>\n",
              "      <td>24.8</td>\n",
              "      <td>109.0</td>\n",
              "    </tr>\n",
              "    <tr>\n",
              "      <th>6</th>\n",
              "      <td>7.0</td>\n",
              "      <td>Boston Celtics</td>\n",
              "      <td>12</td>\n",
              "      <td>240.0</td>\n",
              "      <td>38.2</td>\n",
              "      <td>84.0</td>\n",
              "      <td>0.454</td>\n",
              "      <td>14.2</td>\n",
              "      <td>38.7</td>\n",
              "      <td>0.366</td>\n",
              "      <td>...</td>\n",
              "      <td>0.799</td>\n",
              "      <td>8.8</td>\n",
              "      <td>32.5</td>\n",
              "      <td>41.3</td>\n",
              "      <td>24.8</td>\n",
              "      <td>7.0</td>\n",
              "      <td>6.2</td>\n",
              "      <td>13.4</td>\n",
              "      <td>22.5</td>\n",
              "      <td>108.3</td>\n",
              "    </tr>\n",
              "    <tr>\n",
              "      <th>7</th>\n",
              "      <td>8.0</td>\n",
              "      <td>Miami Heat</td>\n",
              "      <td>12</td>\n",
              "      <td>240.0</td>\n",
              "      <td>39.2</td>\n",
              "      <td>84.0</td>\n",
              "      <td>0.466</td>\n",
              "      <td>11.1</td>\n",
              "      <td>34.4</td>\n",
              "      <td>0.322</td>\n",
              "      <td>...</td>\n",
              "      <td>0.811</td>\n",
              "      <td>9.2</td>\n",
              "      <td>32.0</td>\n",
              "      <td>41.2</td>\n",
              "      <td>22.8</td>\n",
              "      <td>8.5</td>\n",
              "      <td>4.0</td>\n",
              "      <td>13.3</td>\n",
              "      <td>21.2</td>\n",
              "      <td>108.0</td>\n",
              "    </tr>\n",
              "    <tr>\n",
              "      <th>8</th>\n",
              "      <td>9.0</td>\n",
              "      <td>Phoenix Suns</td>\n",
              "      <td>13</td>\n",
              "      <td>240.0</td>\n",
              "      <td>41.2</td>\n",
              "      <td>82.8</td>\n",
              "      <td>0.497</td>\n",
              "      <td>9.8</td>\n",
              "      <td>27.2</td>\n",
              "      <td>0.363</td>\n",
              "      <td>...</td>\n",
              "      <td>0.817</td>\n",
              "      <td>9.5</td>\n",
              "      <td>30.7</td>\n",
              "      <td>40.2</td>\n",
              "      <td>25.7</td>\n",
              "      <td>6.6</td>\n",
              "      <td>3.8</td>\n",
              "      <td>13.3</td>\n",
              "      <td>22.5</td>\n",
              "      <td>107.6</td>\n",
              "    </tr>\n",
              "    <tr>\n",
              "      <th>9</th>\n",
              "      <td>10.0</td>\n",
              "      <td>Dallas Mavericks</td>\n",
              "      <td>14</td>\n",
              "      <td>240.0</td>\n",
              "      <td>36.3</td>\n",
              "      <td>81.3</td>\n",
              "      <td>0.446</td>\n",
              "      <td>15.2</td>\n",
              "      <td>40.9</td>\n",
              "      <td>0.372</td>\n",
              "      <td>...</td>\n",
              "      <td>0.771</td>\n",
              "      <td>6.9</td>\n",
              "      <td>29.9</td>\n",
              "      <td>36.8</td>\n",
              "      <td>18.1</td>\n",
              "      <td>7.7</td>\n",
              "      <td>2.4</td>\n",
              "      <td>10.5</td>\n",
              "      <td>21.8</td>\n",
              "      <td>104.9</td>\n",
              "    </tr>\n",
              "    <tr>\n",
              "      <th>10</th>\n",
              "      <td>11.0</td>\n",
              "      <td>Philadelphia 76ers</td>\n",
              "      <td>12</td>\n",
              "      <td>242.1</td>\n",
              "      <td>36.4</td>\n",
              "      <td>78.3</td>\n",
              "      <td>0.465</td>\n",
              "      <td>12.4</td>\n",
              "      <td>33.3</td>\n",
              "      <td>0.373</td>\n",
              "      <td>...</td>\n",
              "      <td>0.849</td>\n",
              "      <td>7.7</td>\n",
              "      <td>31.3</td>\n",
              "      <td>39.0</td>\n",
              "      <td>21.8</td>\n",
              "      <td>6.1</td>\n",
              "      <td>4.3</td>\n",
              "      <td>14.8</td>\n",
              "      <td>20.6</td>\n",
              "      <td>104.5</td>\n",
              "    </tr>\n",
              "    <tr>\n",
              "      <th>11</th>\n",
              "      <td>12.0</td>\n",
              "      <td>Toronto Raptors</td>\n",
              "      <td>6</td>\n",
              "      <td>244.2</td>\n",
              "      <td>38.3</td>\n",
              "      <td>86.0</td>\n",
              "      <td>0.446</td>\n",
              "      <td>9.8</td>\n",
              "      <td>32.8</td>\n",
              "      <td>0.299</td>\n",
              "      <td>...</td>\n",
              "      <td>0.794</td>\n",
              "      <td>10.0</td>\n",
              "      <td>27.5</td>\n",
              "      <td>37.5</td>\n",
              "      <td>20.7</td>\n",
              "      <td>6.7</td>\n",
              "      <td>4.8</td>\n",
              "      <td>10.0</td>\n",
              "      <td>22.2</td>\n",
              "      <td>103.2</td>\n",
              "    </tr>\n",
              "    <tr>\n",
              "      <th>12</th>\n",
              "      <td>13.0</td>\n",
              "      <td>Milwaukee Bucks</td>\n",
              "      <td>12</td>\n",
              "      <td>240.0</td>\n",
              "      <td>38.5</td>\n",
              "      <td>88.0</td>\n",
              "      <td>0.438</td>\n",
              "      <td>10.6</td>\n",
              "      <td>32.3</td>\n",
              "      <td>0.327</td>\n",
              "      <td>...</td>\n",
              "      <td>0.731</td>\n",
              "      <td>9.8</td>\n",
              "      <td>40.7</td>\n",
              "      <td>50.4</td>\n",
              "      <td>20.8</td>\n",
              "      <td>6.3</td>\n",
              "      <td>4.5</td>\n",
              "      <td>13.8</td>\n",
              "      <td>19.2</td>\n",
              "      <td>102.8</td>\n",
              "    </tr>\n",
              "    <tr>\n",
              "      <th>13</th>\n",
              "      <td>14.0</td>\n",
              "      <td>Utah Jazz</td>\n",
              "      <td>6</td>\n",
              "      <td>240.0</td>\n",
              "      <td>35.0</td>\n",
              "      <td>79.0</td>\n",
              "      <td>0.443</td>\n",
              "      <td>8.2</td>\n",
              "      <td>29.8</td>\n",
              "      <td>0.274</td>\n",
              "      <td>...</td>\n",
              "      <td>0.786</td>\n",
              "      <td>9.3</td>\n",
              "      <td>35.5</td>\n",
              "      <td>44.8</td>\n",
              "      <td>17.2</td>\n",
              "      <td>4.0</td>\n",
              "      <td>3.7</td>\n",
              "      <td>11.8</td>\n",
              "      <td>22.0</td>\n",
              "      <td>99.0</td>\n",
              "    </tr>\n",
              "    <tr>\n",
              "      <th>14</th>\n",
              "      <td>15.0</td>\n",
              "      <td>Atlanta Hawks</td>\n",
              "      <td>5</td>\n",
              "      <td>240.0</td>\n",
              "      <td>34.4</td>\n",
              "      <td>78.2</td>\n",
              "      <td>0.440</td>\n",
              "      <td>11.4</td>\n",
              "      <td>35.0</td>\n",
              "      <td>0.326</td>\n",
              "      <td>...</td>\n",
              "      <td>0.782</td>\n",
              "      <td>8.6</td>\n",
              "      <td>30.8</td>\n",
              "      <td>39.4</td>\n",
              "      <td>18.6</td>\n",
              "      <td>5.8</td>\n",
              "      <td>2.4</td>\n",
              "      <td>16.4</td>\n",
              "      <td>21.6</td>\n",
              "      <td>97.4</td>\n",
              "    </tr>\n",
              "    <tr>\n",
              "      <th>15</th>\n",
              "      <td>16.0</td>\n",
              "      <td>Chicago Bulls</td>\n",
              "      <td>5</td>\n",
              "      <td>240.0</td>\n",
              "      <td>36.4</td>\n",
              "      <td>90.2</td>\n",
              "      <td>0.404</td>\n",
              "      <td>10.4</td>\n",
              "      <td>36.8</td>\n",
              "      <td>0.283</td>\n",
              "      <td>...</td>\n",
              "      <td>0.833</td>\n",
              "      <td>8.2</td>\n",
              "      <td>35.8</td>\n",
              "      <td>44.0</td>\n",
              "      <td>23.0</td>\n",
              "      <td>7.8</td>\n",
              "      <td>3.2</td>\n",
              "      <td>13.0</td>\n",
              "      <td>18.6</td>\n",
              "      <td>95.2</td>\n",
              "    </tr>\n",
              "    <tr>\n",
              "      <th>16</th>\n",
              "      <td>NaN</td>\n",
              "      <td>League Average</td>\n",
              "      <td>9</td>\n",
              "      <td>240.4</td>\n",
              "      <td>38.4</td>\n",
              "      <td>83.9</td>\n",
              "      <td>0.458</td>\n",
              "      <td>12.0</td>\n",
              "      <td>34.1</td>\n",
              "      <td>0.352</td>\n",
              "      <td>...</td>\n",
              "      <td>0.783</td>\n",
              "      <td>9.4</td>\n",
              "      <td>32.5</td>\n",
              "      <td>41.9</td>\n",
              "      <td>22.6</td>\n",
              "      <td>7.1</td>\n",
              "      <td>4.5</td>\n",
              "      <td>13.8</td>\n",
              "      <td>21.7</td>\n",
              "      <td>106.6</td>\n",
              "    </tr>\n",
              "  </tbody>\n",
              "</table>\n",
              "<p>17 rows × 25 columns</p>\n",
              "</div>\n",
              "      <button class=\"colab-df-convert\" onclick=\"convertToInteractive('df-034b7236-0d83-4c9e-98be-5175486fe9be')\"\n",
              "              title=\"Convert this dataframe to an interactive table.\"\n",
              "              style=\"display:none;\">\n",
              "        \n",
              "  <svg xmlns=\"http://www.w3.org/2000/svg\" height=\"24px\"viewBox=\"0 0 24 24\"\n",
              "       width=\"24px\">\n",
              "    <path d=\"M0 0h24v24H0V0z\" fill=\"none\"/>\n",
              "    <path d=\"M18.56 5.44l.94 2.06.94-2.06 2.06-.94-2.06-.94-.94-2.06-.94 2.06-2.06.94zm-11 1L8.5 8.5l.94-2.06 2.06-.94-2.06-.94L8.5 2.5l-.94 2.06-2.06.94zm10 10l.94 2.06.94-2.06 2.06-.94-2.06-.94-.94-2.06-.94 2.06-2.06.94z\"/><path d=\"M17.41 7.96l-1.37-1.37c-.4-.4-.92-.59-1.43-.59-.52 0-1.04.2-1.43.59L10.3 9.45l-7.72 7.72c-.78.78-.78 2.05 0 2.83L4 21.41c.39.39.9.59 1.41.59.51 0 1.02-.2 1.41-.59l7.78-7.78 2.81-2.81c.8-.78.8-2.07 0-2.86zM5.41 20L4 18.59l7.72-7.72 1.47 1.35L5.41 20z\"/>\n",
              "  </svg>\n",
              "      </button>\n",
              "      \n",
              "  <style>\n",
              "    .colab-df-container {\n",
              "      display:flex;\n",
              "      flex-wrap:wrap;\n",
              "      gap: 12px;\n",
              "    }\n",
              "\n",
              "    .colab-df-convert {\n",
              "      background-color: #E8F0FE;\n",
              "      border: none;\n",
              "      border-radius: 50%;\n",
              "      cursor: pointer;\n",
              "      display: none;\n",
              "      fill: #1967D2;\n",
              "      height: 32px;\n",
              "      padding: 0 0 0 0;\n",
              "      width: 32px;\n",
              "    }\n",
              "\n",
              "    .colab-df-convert:hover {\n",
              "      background-color: #E2EBFA;\n",
              "      box-shadow: 0px 1px 2px rgba(60, 64, 67, 0.3), 0px 1px 3px 1px rgba(60, 64, 67, 0.15);\n",
              "      fill: #174EA6;\n",
              "    }\n",
              "\n",
              "    [theme=dark] .colab-df-convert {\n",
              "      background-color: #3B4455;\n",
              "      fill: #D2E3FC;\n",
              "    }\n",
              "\n",
              "    [theme=dark] .colab-df-convert:hover {\n",
              "      background-color: #434B5C;\n",
              "      box-shadow: 0px 1px 3px 1px rgba(0, 0, 0, 0.15);\n",
              "      filter: drop-shadow(0px 1px 2px rgba(0, 0, 0, 0.3));\n",
              "      fill: #FFFFFF;\n",
              "    }\n",
              "  </style>\n",
              "\n",
              "      <script>\n",
              "        const buttonEl =\n",
              "          document.querySelector('#df-034b7236-0d83-4c9e-98be-5175486fe9be button.colab-df-convert');\n",
              "        buttonEl.style.display =\n",
              "          google.colab.kernel.accessAllowed ? 'block' : 'none';\n",
              "\n",
              "        async function convertToInteractive(key) {\n",
              "          const element = document.querySelector('#df-034b7236-0d83-4c9e-98be-5175486fe9be');\n",
              "          const dataTable =\n",
              "            await google.colab.kernel.invokeFunction('convertToInteractive',\n",
              "                                                     [key], {});\n",
              "          if (!dataTable) return;\n",
              "\n",
              "          const docLinkHtml = 'Like what you see? Visit the ' +\n",
              "            '<a target=\"_blank\" href=https://colab.research.google.com/notebooks/data_table.ipynb>data table notebook</a>'\n",
              "            + ' to learn more about interactive tables.';\n",
              "          element.innerHTML = '';\n",
              "          dataTable['output_type'] = 'display_data';\n",
              "          await google.colab.output.renderOutput(dataTable, element);\n",
              "          const docLink = document.createElement('div');\n",
              "          docLink.innerHTML = docLinkHtml;\n",
              "          element.appendChild(docLink);\n",
              "        }\n",
              "      </script>\n",
              "    </div>\n",
              "  </div>\n",
              "  "
            ]
          },
          "metadata": {},
          "execution_count": 29
        }
      ]
    },
    {
      "cell_type": "code",
      "metadata": {
        "id": "owwSCuZYU-sT"
      },
      "source": [
        "df2022 = Per_Game_Stats[0]"
      ],
      "execution_count": 30,
      "outputs": []
    },
    {
      "cell_type": "code",
      "metadata": {
        "id": "LnK9JHQ9VFkq"
      },
      "source": [
        ""
      ],
      "execution_count": null,
      "outputs": []
    },
    {
      "cell_type": "markdown",
      "metadata": {
        "id": "laW205ykvn0S"
      },
      "source": [
        "## Data cleaning"
      ]
    },
    {
      "cell_type": "markdown",
      "metadata": {
        "id": "b-cH41xd54Tw"
      },
      "source": [
        "We can see that the table header is presented multiple times in several rows."
      ]
    },
    {
      "cell_type": "code",
      "metadata": {
        "id": "6St9yeuZg9rf",
        "outputId": "dc494f40-6a36-41f0-ca8d-eb4f84bf0e18",
        "colab": {
          "base_uri": "https://localhost:8080/",
          "height": 79
        }
      },
      "source": [
        "df2022[df2022.Rk == 'Rk']"
      ],
      "execution_count": 32,
      "outputs": [
        {
          "output_type": "execute_result",
          "data": {
            "text/plain": [
              "Empty DataFrame\n",
              "Columns: [Rk, Tm, G, MP, FG, FGA, FG%, 3P, 3PA, 3P%, 2P, 2PA, 2P%, FT, FTA, FT%, ORB, DRB, TRB, AST, STL, BLK, TOV, PF, PTS]\n",
              "Index: []\n",
              "\n",
              "[0 rows x 25 columns]"
            ],
            "text/html": [
              "\n",
              "  <div id=\"df-bf62d5e4-9569-4b01-9959-40c169bb3a60\">\n",
              "    <div class=\"colab-df-container\">\n",
              "      <div>\n",
              "<style scoped>\n",
              "    .dataframe tbody tr th:only-of-type {\n",
              "        vertical-align: middle;\n",
              "    }\n",
              "\n",
              "    .dataframe tbody tr th {\n",
              "        vertical-align: top;\n",
              "    }\n",
              "\n",
              "    .dataframe thead th {\n",
              "        text-align: right;\n",
              "    }\n",
              "</style>\n",
              "<table border=\"1\" class=\"dataframe\">\n",
              "  <thead>\n",
              "    <tr style=\"text-align: right;\">\n",
              "      <th></th>\n",
              "      <th>Rk</th>\n",
              "      <th>Tm</th>\n",
              "      <th>G</th>\n",
              "      <th>MP</th>\n",
              "      <th>FG</th>\n",
              "      <th>FGA</th>\n",
              "      <th>FG%</th>\n",
              "      <th>3P</th>\n",
              "      <th>3PA</th>\n",
              "      <th>3P%</th>\n",
              "      <th>...</th>\n",
              "      <th>FT%</th>\n",
              "      <th>ORB</th>\n",
              "      <th>DRB</th>\n",
              "      <th>TRB</th>\n",
              "      <th>AST</th>\n",
              "      <th>STL</th>\n",
              "      <th>BLK</th>\n",
              "      <th>TOV</th>\n",
              "      <th>PF</th>\n",
              "      <th>PTS</th>\n",
              "    </tr>\n",
              "  </thead>\n",
              "  <tbody>\n",
              "  </tbody>\n",
              "</table>\n",
              "<p>0 rows × 25 columns</p>\n",
              "</div>\n",
              "      <button class=\"colab-df-convert\" onclick=\"convertToInteractive('df-bf62d5e4-9569-4b01-9959-40c169bb3a60')\"\n",
              "              title=\"Convert this dataframe to an interactive table.\"\n",
              "              style=\"display:none;\">\n",
              "        \n",
              "  <svg xmlns=\"http://www.w3.org/2000/svg\" height=\"24px\"viewBox=\"0 0 24 24\"\n",
              "       width=\"24px\">\n",
              "    <path d=\"M0 0h24v24H0V0z\" fill=\"none\"/>\n",
              "    <path d=\"M18.56 5.44l.94 2.06.94-2.06 2.06-.94-2.06-.94-.94-2.06-.94 2.06-2.06.94zm-11 1L8.5 8.5l.94-2.06 2.06-.94-2.06-.94L8.5 2.5l-.94 2.06-2.06.94zm10 10l.94 2.06.94-2.06 2.06-.94-2.06-.94-.94-2.06-.94 2.06-2.06.94z\"/><path d=\"M17.41 7.96l-1.37-1.37c-.4-.4-.92-.59-1.43-.59-.52 0-1.04.2-1.43.59L10.3 9.45l-7.72 7.72c-.78.78-.78 2.05 0 2.83L4 21.41c.39.39.9.59 1.41.59.51 0 1.02-.2 1.41-.59l7.78-7.78 2.81-2.81c.8-.78.8-2.07 0-2.86zM5.41 20L4 18.59l7.72-7.72 1.47 1.35L5.41 20z\"/>\n",
              "  </svg>\n",
              "      </button>\n",
              "      \n",
              "  <style>\n",
              "    .colab-df-container {\n",
              "      display:flex;\n",
              "      flex-wrap:wrap;\n",
              "      gap: 12px;\n",
              "    }\n",
              "\n",
              "    .colab-df-convert {\n",
              "      background-color: #E8F0FE;\n",
              "      border: none;\n",
              "      border-radius: 50%;\n",
              "      cursor: pointer;\n",
              "      display: none;\n",
              "      fill: #1967D2;\n",
              "      height: 32px;\n",
              "      padding: 0 0 0 0;\n",
              "      width: 32px;\n",
              "    }\n",
              "\n",
              "    .colab-df-convert:hover {\n",
              "      background-color: #E2EBFA;\n",
              "      box-shadow: 0px 1px 2px rgba(60, 64, 67, 0.3), 0px 1px 3px 1px rgba(60, 64, 67, 0.15);\n",
              "      fill: #174EA6;\n",
              "    }\n",
              "\n",
              "    [theme=dark] .colab-df-convert {\n",
              "      background-color: #3B4455;\n",
              "      fill: #D2E3FC;\n",
              "    }\n",
              "\n",
              "    [theme=dark] .colab-df-convert:hover {\n",
              "      background-color: #434B5C;\n",
              "      box-shadow: 0px 1px 3px 1px rgba(0, 0, 0, 0.15);\n",
              "      filter: drop-shadow(0px 1px 2px rgba(0, 0, 0, 0.3));\n",
              "      fill: #FFFFFF;\n",
              "    }\n",
              "  </style>\n",
              "\n",
              "      <script>\n",
              "        const buttonEl =\n",
              "          document.querySelector('#df-bf62d5e4-9569-4b01-9959-40c169bb3a60 button.colab-df-convert');\n",
              "        buttonEl.style.display =\n",
              "          google.colab.kernel.accessAllowed ? 'block' : 'none';\n",
              "\n",
              "        async function convertToInteractive(key) {\n",
              "          const element = document.querySelector('#df-bf62d5e4-9569-4b01-9959-40c169bb3a60');\n",
              "          const dataTable =\n",
              "            await google.colab.kernel.invokeFunction('convertToInteractive',\n",
              "                                                     [key], {});\n",
              "          if (!dataTable) return;\n",
              "\n",
              "          const docLinkHtml = 'Like what you see? Visit the ' +\n",
              "            '<a target=\"_blank\" href=https://colab.research.google.com/notebooks/data_table.ipynb>data table notebook</a>'\n",
              "            + ' to learn more about interactive tables.';\n",
              "          element.innerHTML = '';\n",
              "          dataTable['output_type'] = 'display_data';\n",
              "          await google.colab.output.renderOutput(dataTable, element);\n",
              "          const docLink = document.createElement('div');\n",
              "          docLink.innerHTML = docLinkHtml;\n",
              "          element.appendChild(docLink);\n",
              "        }\n",
              "      </script>\n",
              "    </div>\n",
              "  </div>\n",
              "  "
            ]
          },
          "metadata": {},
          "execution_count": 32
        }
      ]
    },
    {
      "cell_type": "code",
      "metadata": {
        "id": "1DwL0sq-u7wF",
        "outputId": "69027ef7-3ab2-4831-d29e-59fa779c05d1",
        "colab": {
          "base_uri": "https://localhost:8080/"
        }
      },
      "source": [
        "df2022.shape"
      ],
      "execution_count": 33,
      "outputs": [
        {
          "output_type": "execute_result",
          "data": {
            "text/plain": [
              "(17, 25)"
            ]
          },
          "metadata": {},
          "execution_count": 33
        }
      ]
    },
    {
      "cell_type": "markdown",
      "metadata": {
        "id": "o4x9M9ArXl7l"
      },
      "source": [
        "## Quick Exploratory Data Analysis"
      ]
    },
    {
      "cell_type": "code",
      "metadata": {
        "id": "Vw0kwGHNgSMS"
      },
      "source": [
        "import seaborn as sns"
      ],
      "execution_count": 34,
      "outputs": []
    },
    {
      "cell_type": "markdown",
      "metadata": {
        "id": "Vw77h9jPEd2z"
      },
      "source": [
        "Making the histogram"
      ]
    },
    {
      "cell_type": "code",
      "metadata": {
        "id": "NqU0tBcuh-5V",
        "outputId": "4228fc0d-cc25-48e0-9d4d-6aab435cb3b6",
        "colab": {
          "base_uri": "https://localhost:8080/",
          "height": 351
        }
      },
      "source": [
        "sns.distplot(df2022.PTS, \n",
        "             kde=False)"
      ],
      "execution_count": 35,
      "outputs": [
        {
          "output_type": "stream",
          "name": "stderr",
          "text": [
            "/usr/local/lib/python3.7/dist-packages/seaborn/distributions.py:2619: FutureWarning: `distplot` is a deprecated function and will be removed in a future version. Please adapt your code to use either `displot` (a figure-level function with similar flexibility) or `histplot` (an axes-level function for histograms).\n",
            "  warnings.warn(msg, FutureWarning)\n"
          ]
        },
        {
          "output_type": "execute_result",
          "data": {
            "text/plain": [
              "<matplotlib.axes._subplots.AxesSubplot at 0x7f492d3e4390>"
            ]
          },
          "metadata": {},
          "execution_count": 35
        },
        {
          "output_type": "display_data",
          "data": {
            "text/plain": [
              "<Figure size 432x288 with 1 Axes>"
            ],
            "image/png": "[encoded data removed]"
          },
          "metadata": {
            "needs_background": "light"
          }
        }
      ]
    },
    {
      "cell_type": "markdown",
      "metadata": {
        "id": "aXcBxnrBEWGj"
      },
      "source": [
        "Change bar line color"
      ]
    },
    {
      "cell_type": "code",
      "metadata": {
        "id": "ImyO9mMGkkTm",
        "outputId": "579f8e76-305f-4a61-b2b1-6fc39cd8e11c",
        "colab": {
          "base_uri": "https://localhost:8080/",
          "height": 351
        }
      },
      "source": [
        "sns.distplot(df2022.PTS, \n",
        "             kde=False,\n",
        "             hist_kws=dict(edgecolor=\"black\", linewidth=2))"
      ],
      "execution_count": 36,
      "outputs": [
        {
          "output_type": "stream",
          "name": "stderr",
          "text": [
            "/usr/local/lib/python3.7/dist-packages/seaborn/distributions.py:2619: FutureWarning: `distplot` is a deprecated function and will be removed in a future version. Please adapt your code to use either `displot` (a figure-level function with similar flexibility) or `histplot` (an axes-level function for histograms).\n",
            "  warnings.warn(msg, FutureWarning)\n"
          ]
        },
        {
          "output_type": "execute_result",
          "data": {
            "text/plain": [
              "<matplotlib.axes._subplots.AxesSubplot at 0x7f492c73e1d0>"
            ]
          },
          "metadata": {},
          "execution_count": 36
        },
        {
          "output_type": "display_data",
          "data": {
            "text/plain": [
              "<Figure size 432x288 with 1 Axes>"
            ],
            "image/png": "[encoded data removed]"
          },
          "metadata": {
            "needs_background": "light"
          }
        }
      ]
    },
    {
      "cell_type": "markdown",
      "metadata": {
        "id": "uqkKFD4LEjoH"
      },
      "source": [
        "Change bar fill colors"
      ]
    },
    {
      "cell_type": "code",
      "metadata": {
        "id": "RtdOAqjL34Vl",
        "outputId": "1951a3d5-2d62-4b78-c9f3-f47eaf882322",
        "colab": {
          "base_uri": "https://localhost:8080/",
          "height": 351
        }
      },
      "source": [
        "sns.distplot(df2022.PTS,\n",
        "             kde=False,\n",
        "             hist_kws=dict(edgecolor=\"black\", linewidth=2),\n",
        "             color='#00BFC4')"
      ],
      "execution_count": 37,
      "outputs": [
        {
          "output_type": "stream",
          "name": "stderr",
          "text": [
            "/usr/local/lib/python3.7/dist-packages/seaborn/distributions.py:2619: FutureWarning: `distplot` is a deprecated function and will be removed in a future version. Please adapt your code to use either `displot` (a figure-level function with similar flexibility) or `histplot` (an axes-level function for histograms).\n",
            "  warnings.warn(msg, FutureWarning)\n"
          ]
        },
        {
          "output_type": "execute_result",
          "data": {
            "text/plain": [
              "<matplotlib.axes._subplots.AxesSubplot at 0x7f492c5c7ad0>"
            ]
          },
          "metadata": {},
          "execution_count": 37
        },
        {
          "output_type": "display_data",
          "data": {
            "text/plain": [
              "<Figure size 432x288 with 1 Axes>"
            ],
            "image/png": "[encoded data removed]"
          },
          "metadata": {
            "needs_background": "light"
          }
        }
      ]
    }
  ]
}